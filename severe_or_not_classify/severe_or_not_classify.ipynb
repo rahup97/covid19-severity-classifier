{
 "cells": [
  {
   "cell_type": "markdown",
   "metadata": {},
   "source": [
    "# Imports"
   ]
  },
  {
   "cell_type": "code",
   "execution_count": 1,
   "metadata": {},
   "outputs": [],
   "source": [
    "import re\n",
    "import pandas as pd\n",
    "import numpy as np\n",
    "import seaborn as sns\n",
    "import lightgbm as lgb\n",
    "from sklearn.linear_model import LogisticRegression\n",
    "from ipywidgets import interact\n",
    "from sklearn.decomposition import PCA\n",
    "from sklearn import preprocessing\n",
    "from sklearn.model_selection import train_test_split\n",
    "from sklearn.metrics import classification_report"
   ]
  },
  {
   "cell_type": "markdown",
   "metadata": {},
   "source": [
    "# Read Data and Plot"
   ]
  },
  {
   "cell_type": "code",
   "execution_count": 2,
   "metadata": {},
   "outputs": [],
   "source": [
    "# df = pd.read_csv(\"./data/covid19_sera_merged.csv\")\n",
    "# df"
   ]
  },
  {
   "cell_type": "code",
   "execution_count": 3,
   "metadata": {},
   "outputs": [],
   "source": [
    "df_variants = pd.read_csv(\"./data/MAESTRO-d6178bdd-identified_variants_merged_protein_regions-main.tsv\", sep=\"\\t\", low_memory=False)"
   ]
  },
  {
   "cell_type": "code",
   "execution_count": 4,
   "metadata": {},
   "outputs": [
    {
     "name": "stderr",
     "output_type": "stream",
     "text": [
      "C:\\Users\\chl131\\anaconda3\\lib\\site-packages\\pandas\\core\\frame.py:4172: SettingWithCopyWarning: \n",
      "A value is trying to be set on a copy of a slice from a DataFrame\n",
      "\n",
      "See the caveats in the documentation: https://pandas.pydata.org/pandas-docs/stable/user_guide/indexing.html#returning-a-view-versus-a-copy\n",
      "  method=method,\n"
     ]
    }
   ],
   "source": [
    "df_variants_keep = df_variants[['Peptide'] + [c for c in df_variants.columns if 'intensity_for_peptide_variant' in c]]\n",
    "df_variants_keep.replace(0.0, np.nan, inplace=True)\n",
    "df_variants_keep = df_variants_keep.set_index(\"Peptide\")\n",
    "df_variants_keep = df_variants_keep.T\n",
    "df_variants_keep.index = df_variants_keep.index.map(lambda x: \".\".join(x.split(\".\")[:2]))\n",
    "df_variants_keep[\"Condition\"] = df_variants_keep.index.map(lambda x: x.split(\".\")[0])\n",
    "df_variants_keep = df_variants_keep[(df_variants_keep.Condition == \"_dyn_#Severe-COVID-19\") | (df_variants_keep.Condition == \"_dyn_#Non-severe-COVID-19\")]"
   ]
  },
  {
   "cell_type": "code",
   "execution_count": 5,
   "metadata": {},
   "outputs": [],
   "source": [
    "# for col in df_variants_keep.columns:\n",
    "#     print(col)"
   ]
  },
  {
   "cell_type": "code",
   "execution_count": 6,
   "metadata": {},
   "outputs": [
    {
     "name": "stdout",
     "output_type": "stream",
     "text": [
      "2\n"
     ]
    },
    {
     "data": {
      "text/plain": [
       "array(['_dyn_#Non-severe-COVID-19', '_dyn_#Severe-COVID-19'], dtype=object)"
      ]
     },
     "execution_count": 6,
     "metadata": {},
     "output_type": "execute_result"
    }
   ],
   "source": [
    "print(len(df_variants_keep.Condition.unique()))\n",
    "df_variants_keep.Condition.unique()"
   ]
  },
  {
   "cell_type": "code",
   "execution_count": 7,
   "metadata": {},
   "outputs": [
    {
     "data": {
      "text/plain": [
       "Condition\n",
       "_dyn_#Non-severe-COVID-19    25\n",
       "_dyn_#Severe-COVID-19        18\n",
       "dtype: int64"
      ]
     },
     "execution_count": 7,
     "metadata": {},
     "output_type": "execute_result"
    }
   ],
   "source": [
    "df_variants_keep.groupby([\"Condition\"]).size()"
   ]
  },
  {
   "cell_type": "code",
   "execution_count": 8,
   "metadata": {},
   "outputs": [],
   "source": [
    "def plot_hist(ID):\n",
    "    sns.displot(df_variants_keep, x=ID, hue=\"Condition\", binwidth=0.05)\n",
    "    \n",
    "id_list = [x for x in df_variants_keep.columns if x != \"Condition\"][:20]"
   ]
  },
  {
   "cell_type": "code",
   "execution_count": 9,
   "metadata": {
    "scrolled": false
   },
   "outputs": [
    {
     "data": {
      "application/vnd.jupyter.widget-view+json": {
       "model_id": "ba048c8a73d348a68a48e438f00d0fea",
       "version_major": 2,
       "version_minor": 0
      },
      "text/plain": [
       "interactive(children=(Dropdown(description='ID', options=('K.[304.207]GARLIPEMDQIFTEVEMTTLE(K,304.207).V', 'I.…"
      ]
     },
     "metadata": {},
     "output_type": "display_data"
    },
    {
     "data": {
      "text/plain": [
       "<function __main__.plot_hist(ID)>"
      ]
     },
     "execution_count": 9,
     "metadata": {},
     "output_type": "execute_result"
    }
   ],
   "source": [
    "interact(plot_hist, ID=id_list)"
   ]
  },
  {
   "cell_type": "markdown",
   "metadata": {},
   "source": [
    "# Fill NA and Process PCA"
   ]
  },
  {
   "cell_type": "code",
   "execution_count": 10,
   "metadata": {},
   "outputs": [],
   "source": [
    "df_variants_keep[\"Condition\"] = df_variants_keep[\"Condition\"].map({\"_dyn_#Non-severe-COVID-19\":0, \"_dyn_#Severe-COVID-19\":1})"
   ]
  },
  {
   "cell_type": "code",
   "execution_count": 11,
   "metadata": {},
   "outputs": [],
   "source": [
    "# df_variants_keep = df_variants_keep.fillna(value=0.0)\n",
    "# df_variants_keep_pca = df_variants_keep.drop([\"Condition\"], axis=1)\n",
    "# df_scaled = pd.DataFrame(preprocessing.scale(df_variants_keep_pca), columns=df_variants_keep_pca.columns)\n",
    "\n",
    "# pca = PCA(n_components=40)\n",
    "# df_PCA = pd.DataFrame(pca.fit_transform(df_scaled))\n",
    "# new_col = df_variants_keep[\"Condition\"].copy()\n",
    "# new_col.reset_index(drop=True, inplace=True)\n",
    "# df_PCA[\"Condition\"] = new_col"
   ]
  },
  {
   "cell_type": "code",
   "execution_count": 12,
   "metadata": {
    "scrolled": true
   },
   "outputs": [],
   "source": [
    "df_variants_keep = df_variants_keep.fillna(value=0.0)\n",
    "df_variants_keep_pca = df_variants_keep.drop([\"Condition\"], axis=1)\n",
    "df_scaled = pd.DataFrame(preprocessing.scale(df_variants_keep_pca), columns=df_variants_keep_pca.columns)\n",
    "new_col = df_variants_keep[\"Condition\"].copy()\n",
    "new_col.reset_index(drop=True, inplace=True)\n",
    "df_scaled[\"Condition\"] = new_col\n",
    "df_PCA = df_scaled\n",
    "df_PCA = df_PCA.rename(columns = lambda x:re.sub('[^A-Za-z0-9_]+', '', x))\n",
    "df_PCA = df_PCA.loc[:, ~df_PCA.columns.duplicated()]"
   ]
  },
  {
   "cell_type": "code",
   "execution_count": 13,
   "metadata": {},
   "outputs": [
    {
     "data": {
      "text/plain": [
       "Condition\n",
       "0    25\n",
       "1    18\n",
       "dtype: int64"
      ]
     },
     "execution_count": 13,
     "metadata": {},
     "output_type": "execute_result"
    }
   ],
   "source": [
    "df_PCA.groupby([\"Condition\"]).size()"
   ]
  },
  {
   "cell_type": "code",
   "execution_count": 14,
   "metadata": {},
   "outputs": [],
   "source": [
    "df_PCA_0 = df_PCA[df_PCA[\"Condition\"] == 0]\n",
    "df_PCA_1 = df_PCA[df_PCA[\"Condition\"] == 1]"
   ]
  },
  {
   "cell_type": "code",
   "execution_count": 15,
   "metadata": {},
   "outputs": [],
   "source": [
    "X_0, y_0 = df_PCA_0.drop([\"Condition\"], axis=1), df_PCA_0[\"Condition\"]\n",
    "X_1, y_1 = df_PCA_1.drop([\"Condition\"], axis=1), df_PCA_1[\"Condition\"]"
   ]
  },
  {
   "cell_type": "code",
   "execution_count": 16,
   "metadata": {},
   "outputs": [],
   "source": [
    "X_train_0, X_test_0, y_train_0, y_test_0 = train_test_split(X_0, y_0, test_size=0.2, random_state=291)\n",
    "X_train_1, X_test_1, y_train_1, y_test_1 = train_test_split(X_1, y_1, test_size=0.2, random_state=291)"
   ]
  },
  {
   "cell_type": "code",
   "execution_count": 17,
   "metadata": {},
   "outputs": [],
   "source": [
    "train_0 = X_train_0.copy()\n",
    "train_0[\"Condition\"] = y_train_0\n",
    "train_1 = X_train_1.copy()\n",
    "train_1[\"Condition\"] = y_train_1\n",
    "train_data = train_0.append(train_1)\n",
    "train_data = train_data.sample(frac=1)"
   ]
  },
  {
   "cell_type": "code",
   "execution_count": 18,
   "metadata": {},
   "outputs": [],
   "source": [
    "test_0 = X_test_0.copy()\n",
    "test_0[\"Condition\"] = y_test_0\n",
    "test_1 = X_test_1.copy()\n",
    "test_1[\"Condition\"] = y_test_1\n",
    "test_data = test_0.append(test_1)\n",
    "test_data = test_data.sample(frac=1)"
   ]
  },
  {
   "cell_type": "code",
   "execution_count": 19,
   "metadata": {},
   "outputs": [],
   "source": [
    "X_train, y_train = train_data.drop([\"Condition\"], axis=1), train_data[\"Condition\"]\n",
    "X_test, y_test = test_data.drop([\"Condition\"], axis=1), test_data[\"Condition\"]\n",
    "X_train.reset_index(drop=True, inplace=True)\n",
    "y_train.reset_index(drop=True, inplace=True)\n",
    "X_test.reset_index(drop=True, inplace=True)\n",
    "y_test.reset_index(drop=True, inplace=True)"
   ]
  },
  {
   "cell_type": "code",
   "execution_count": 20,
   "metadata": {},
   "outputs": [
    {
     "name": "stderr",
     "output_type": "stream",
     "text": [
      "C:\\Users\\chl131\\anaconda3\\lib\\site-packages\\sklearn\\linear_model\\_logistic.py:764: ConvergenceWarning: lbfgs failed to converge (status=1):\n",
      "STOP: TOTAL NO. of ITERATIONS REACHED LIMIT.\n",
      "\n",
      "Increase the number of iterations (max_iter) or scale the data as shown in:\n",
      "    https://scikit-learn.org/stable/modules/preprocessing.html\n",
      "Please also refer to the documentation for alternative solver options:\n",
      "    https://scikit-learn.org/stable/modules/linear_model.html#logistic-regression\n",
      "  extra_warning_msg=_LOGISTIC_SOLVER_CONVERGENCE_MSG)\n"
     ]
    },
    {
     "data": {
      "text/plain": [
       "LogisticRegression()"
      ]
     },
     "execution_count": 20,
     "metadata": {},
     "output_type": "execute_result"
    }
   ],
   "source": [
    "clf = LogisticRegression()\n",
    "clf.fit(X_train, y_train)"
   ]
  },
  {
   "cell_type": "code",
   "execution_count": 21,
   "metadata": {},
   "outputs": [],
   "source": [
    "y_pred = clf.predict(X_test)"
   ]
  },
  {
   "cell_type": "code",
   "execution_count": 22,
   "metadata": {},
   "outputs": [
    {
     "data": {
      "text/plain": [
       "array([1, 0, 1, 1, 0, 1, 0, 0, 1], dtype=int64)"
      ]
     },
     "execution_count": 22,
     "metadata": {},
     "output_type": "execute_result"
    }
   ],
   "source": [
    "y_pred"
   ]
  },
  {
   "cell_type": "code",
   "execution_count": 23,
   "metadata": {},
   "outputs": [
    {
     "name": "stdout",
     "output_type": "stream",
     "text": [
      "              precision    recall  f1-score   support\n",
      "\n",
      "           0       0.50      0.40      0.44         5\n",
      "           1       0.40      0.50      0.44         4\n",
      "\n",
      "    accuracy                           0.44         9\n",
      "   macro avg       0.45      0.45      0.44         9\n",
      "weighted avg       0.46      0.44      0.44         9\n",
      "\n"
     ]
    }
   ],
   "source": [
    "print(classification_report(y_test, y_pred))"
   ]
  }
 ],
 "metadata": {
  "kernelspec": {
   "display_name": "Python 3",
   "language": "python",
   "name": "python3"
  },
  "language_info": {
   "codemirror_mode": {
    "name": "ipython",
    "version": 3
   },
   "file_extension": ".py",
   "mimetype": "text/x-python",
   "name": "python",
   "nbconvert_exporter": "python",
   "pygments_lexer": "ipython3",
   "version": "3.6.10"
  }
 },
 "nbformat": 4,
 "nbformat_minor": 4
}
