{
 "cells": [
  {
   "cell_type": "code",
   "execution_count": 101,
   "metadata": {
    "id": "kzV9tgnBe_f3"
   },
   "outputs": [],
   "source": [
    "import numpy as np\n",
    "import pandas as pd\n",
    "import matplotlib.pyplot as plt\n",
    "import sklearn\n",
    "from sklearn.metrics import classification_report\n",
    "from sklearn.linear_model import LogisticRegression\n",
    "from sklearn.model_selection import GridSearchCV\n",
    "from sklearn import base\n",
    "from lightgbm import LGBMClassifier\n",
    "from sklearn.metrics import accuracy_score\n",
    "from sklearn.feature_selection import RFE\n",
    "from sklearn.model_selection import train_test_split"
   ]
  },
  {
   "cell_type": "code",
   "execution_count": 102,
   "metadata": {
    "colab": {
     "base_uri": "https://localhost:8080/",
     "height": 369
    },
    "id": "KQOos9vnfVnt",
    "outputId": "77b7a729-1320-487e-9a1b-bb8274083598"
   },
   "outputs": [
    {
     "name": "stdout",
     "output_type": "stream",
     "text": [
      "Drive already mounted at /content/drive; to attempt to forcibly remount, call drive.mount(\"/content/drive\", force_remount=True).\n"
     ]
    },
    {
     "data": {
      "text/html": [
       "\n",
       "  <div id=\"df-e117512c-bdd6-4a4e-96f3-63be9cce23bc\">\n",
       "    <div class=\"colab-df-container\">\n",
       "      <div>\n",
       "<style scoped>\n",
       "    .dataframe tbody tr th:only-of-type {\n",
       "        vertical-align: middle;\n",
       "    }\n",
       "\n",
       "    .dataframe tbody tr th {\n",
       "        vertical-align: top;\n",
       "    }\n",
       "\n",
       "    .dataframe thead th {\n",
       "        text-align: right;\n",
       "    }\n",
       "</style>\n",
       "<table border=\"1\" class=\"dataframe\">\n",
       "  <thead>\n",
       "    <tr style=\"text-align: right;\">\n",
       "      <th></th>\n",
       "      <th>maestro_column_unmod</th>\n",
       "      <th>maestro_column_variant</th>\n",
       "      <th>patient_id</th>\n",
       "      <th>label</th>\n",
       "      <th>y_covid</th>\n",
       "      <th>y_severe_type</th>\n",
       "      <th>Patient ID a</th>\n",
       "      <th>Metabolomics ID e</th>\n",
       "      <th>Metabolites</th>\n",
       "      <th>(14 or 15)-methylpalmitate (a17:0 or i17:0)</th>\n",
       "      <th>...</th>\n",
       "      <th>variant_ccms_row_101452</th>\n",
       "      <th>variant_ccms_row_101453</th>\n",
       "      <th>variant_ccms_row_101454</th>\n",
       "      <th>variant_ccms_row_101455</th>\n",
       "      <th>variant_ccms_row_101456</th>\n",
       "      <th>variant_ccms_row_101457</th>\n",
       "      <th>variant_ccms_row_101458</th>\n",
       "      <th>variant_ccms_row_101459</th>\n",
       "      <th>variant_ccms_row_101460</th>\n",
       "      <th>variant_ccms_row_101461</th>\n",
       "    </tr>\n",
       "  </thead>\n",
       "  <tbody>\n",
       "    <tr>\n",
       "      <th>0</th>\n",
       "      <td>_dyn_#Healthy.HC1.Healthy..HC1.1_intensity_for...</td>\n",
       "      <td>_dyn_#Healthy.HC1.Healthy..HC1.1_intensity_for...</td>\n",
       "      <td>HC1</td>\n",
       "      <td>Healthy</td>\n",
       "      <td>0</td>\n",
       "      <td>0</td>\n",
       "      <td>HC1</td>\n",
       "      <td>jkdz1</td>\n",
       "      <td>jkdz1</td>\n",
       "      <td>7439425.0</td>\n",
       "      <td>...</td>\n",
       "      <td>0.0</td>\n",
       "      <td>1.958825</td>\n",
       "      <td>0.00000</td>\n",
       "      <td>0.000000</td>\n",
       "      <td>1.174198</td>\n",
       "      <td>0.0</td>\n",
       "      <td>0.0</td>\n",
       "      <td>0.0</td>\n",
       "      <td>0.370040</td>\n",
       "      <td>0.0</td>\n",
       "    </tr>\n",
       "    <tr>\n",
       "      <th>1</th>\n",
       "      <td>_dyn_#Healthy.HC10.Healthy..HC10.1_intensity_f...</td>\n",
       "      <td>_dyn_#Healthy.HC10.Healthy..HC10.1_intensity_f...</td>\n",
       "      <td>HC10</td>\n",
       "      <td>Healthy</td>\n",
       "      <td>0</td>\n",
       "      <td>0</td>\n",
       "      <td>HC10</td>\n",
       "      <td>jkdz10</td>\n",
       "      <td>jkdz10</td>\n",
       "      <td>16636076.0</td>\n",
       "      <td>...</td>\n",
       "      <td>0.0</td>\n",
       "      <td>2.544654</td>\n",
       "      <td>0.00000</td>\n",
       "      <td>0.000000</td>\n",
       "      <td>0.000000</td>\n",
       "      <td>0.0</td>\n",
       "      <td>0.0</td>\n",
       "      <td>0.0</td>\n",
       "      <td>0.000000</td>\n",
       "      <td>0.0</td>\n",
       "    </tr>\n",
       "    <tr>\n",
       "      <th>2</th>\n",
       "      <td>_dyn_#Healthy.HC12.Healthy..HC12.1_intensity_f...</td>\n",
       "      <td>_dyn_#Healthy.HC12.Healthy..HC12.1_intensity_f...</td>\n",
       "      <td>HC12</td>\n",
       "      <td>Healthy</td>\n",
       "      <td>0</td>\n",
       "      <td>0</td>\n",
       "      <td>HC12</td>\n",
       "      <td>jkdz12</td>\n",
       "      <td>jkdz12</td>\n",
       "      <td>9140857.0</td>\n",
       "      <td>...</td>\n",
       "      <td>0.0</td>\n",
       "      <td>0.913199</td>\n",
       "      <td>0.00000</td>\n",
       "      <td>0.000000</td>\n",
       "      <td>0.000000</td>\n",
       "      <td>0.0</td>\n",
       "      <td>0.0</td>\n",
       "      <td>0.0</td>\n",
       "      <td>0.000000</td>\n",
       "      <td>0.0</td>\n",
       "    </tr>\n",
       "    <tr>\n",
       "      <th>3</th>\n",
       "      <td>_dyn_#Healthy.HC13.Healthy..HC13.1_intensity_f...</td>\n",
       "      <td>_dyn_#Healthy.HC13.Healthy..HC13.1_intensity_f...</td>\n",
       "      <td>HC13</td>\n",
       "      <td>Healthy</td>\n",
       "      <td>0</td>\n",
       "      <td>0</td>\n",
       "      <td>HC13</td>\n",
       "      <td>jkdz13</td>\n",
       "      <td>jkdz13</td>\n",
       "      <td>7863659.5</td>\n",
       "      <td>...</td>\n",
       "      <td>0.0</td>\n",
       "      <td>1.035449</td>\n",
       "      <td>0.00000</td>\n",
       "      <td>0.000000</td>\n",
       "      <td>0.000000</td>\n",
       "      <td>0.0</td>\n",
       "      <td>0.0</td>\n",
       "      <td>0.0</td>\n",
       "      <td>0.000000</td>\n",
       "      <td>0.0</td>\n",
       "    </tr>\n",
       "    <tr>\n",
       "      <th>4</th>\n",
       "      <td>_dyn_#Healthy.HC17.Healthy..HC17.1_intensity_f...</td>\n",
       "      <td>_dyn_#Healthy.HC17.Healthy..HC17.1_intensity_f...</td>\n",
       "      <td>HC17</td>\n",
       "      <td>Healthy</td>\n",
       "      <td>0</td>\n",
       "      <td>0</td>\n",
       "      <td>HC17</td>\n",
       "      <td>jkdz17</td>\n",
       "      <td>jkdz17</td>\n",
       "      <td>7996507.5</td>\n",
       "      <td>...</td>\n",
       "      <td>0.0</td>\n",
       "      <td>0.110892</td>\n",
       "      <td>0.81455</td>\n",
       "      <td>0.863862</td>\n",
       "      <td>0.000000</td>\n",
       "      <td>0.0</td>\n",
       "      <td>0.0</td>\n",
       "      <td>0.0</td>\n",
       "      <td>0.791905</td>\n",
       "      <td>0.0</td>\n",
       "    </tr>\n",
       "  </tbody>\n",
       "</table>\n",
       "<p>5 rows × 203872 columns</p>\n",
       "</div>\n",
       "      <button class=\"colab-df-convert\" onclick=\"convertToInteractive('df-e117512c-bdd6-4a4e-96f3-63be9cce23bc')\"\n",
       "              title=\"Convert this dataframe to an interactive table.\"\n",
       "              style=\"display:none;\">\n",
       "        \n",
       "  <svg xmlns=\"http://www.w3.org/2000/svg\" height=\"24px\"viewBox=\"0 0 24 24\"\n",
       "       width=\"24px\">\n",
       "    <path d=\"M0 0h24v24H0V0z\" fill=\"none\"/>\n",
       "    <path d=\"M18.56 5.44l.94 2.06.94-2.06 2.06-.94-2.06-.94-.94-2.06-.94 2.06-2.06.94zm-11 1L8.5 8.5l.94-2.06 2.06-.94-2.06-.94L8.5 2.5l-.94 2.06-2.06.94zm10 10l.94 2.06.94-2.06 2.06-.94-2.06-.94-.94-2.06-.94 2.06-2.06.94z\"/><path d=\"M17.41 7.96l-1.37-1.37c-.4-.4-.92-.59-1.43-.59-.52 0-1.04.2-1.43.59L10.3 9.45l-7.72 7.72c-.78.78-.78 2.05 0 2.83L4 21.41c.39.39.9.59 1.41.59.51 0 1.02-.2 1.41-.59l7.78-7.78 2.81-2.81c.8-.78.8-2.07 0-2.86zM5.41 20L4 18.59l7.72-7.72 1.47 1.35L5.41 20z\"/>\n",
       "  </svg>\n",
       "      </button>\n",
       "      \n",
       "  <style>\n",
       "    .colab-df-container {\n",
       "      display:flex;\n",
       "      flex-wrap:wrap;\n",
       "      gap: 12px;\n",
       "    }\n",
       "\n",
       "    .colab-df-convert {\n",
       "      background-color: #E8F0FE;\n",
       "      border: none;\n",
       "      border-radius: 50%;\n",
       "      cursor: pointer;\n",
       "      display: none;\n",
       "      fill: #1967D2;\n",
       "      height: 32px;\n",
       "      padding: 0 0 0 0;\n",
       "      width: 32px;\n",
       "    }\n",
       "\n",
       "    .colab-df-convert:hover {\n",
       "      background-color: #E2EBFA;\n",
       "      box-shadow: 0px 1px 2px rgba(60, 64, 67, 0.3), 0px 1px 3px 1px rgba(60, 64, 67, 0.15);\n",
       "      fill: #174EA6;\n",
       "    }\n",
       "\n",
       "    [theme=dark] .colab-df-convert {\n",
       "      background-color: #3B4455;\n",
       "      fill: #D2E3FC;\n",
       "    }\n",
       "\n",
       "    [theme=dark] .colab-df-convert:hover {\n",
       "      background-color: #434B5C;\n",
       "      box-shadow: 0px 1px 3px 1px rgba(0, 0, 0, 0.15);\n",
       "      filter: drop-shadow(0px 1px 2px rgba(0, 0, 0, 0.3));\n",
       "      fill: #FFFFFF;\n",
       "    }\n",
       "  </style>\n",
       "\n",
       "      <script>\n",
       "        const buttonEl =\n",
       "          document.querySelector('#df-e117512c-bdd6-4a4e-96f3-63be9cce23bc button.colab-df-convert');\n",
       "        buttonEl.style.display =\n",
       "          google.colab.kernel.accessAllowed ? 'block' : 'none';\n",
       "\n",
       "        async function convertToInteractive(key) {\n",
       "          const element = document.querySelector('#df-e117512c-bdd6-4a4e-96f3-63be9cce23bc');\n",
       "          const dataTable =\n",
       "            await google.colab.kernel.invokeFunction('convertToInteractive',\n",
       "                                                     [key], {});\n",
       "          if (!dataTable) return;\n",
       "\n",
       "          const docLinkHtml = 'Like what you see? Visit the ' +\n",
       "            '<a target=\"_blank\" href=https://colab.research.google.com/notebooks/data_table.ipynb>data table notebook</a>'\n",
       "            + ' to learn more about interactive tables.';\n",
       "          element.innerHTML = '';\n",
       "          dataTable['output_type'] = 'display_data';\n",
       "          await google.colab.output.renderOutput(dataTable, element);\n",
       "          const docLink = document.createElement('div');\n",
       "          docLink.innerHTML = docLinkHtml;\n",
       "          element.appendChild(docLink);\n",
       "        }\n",
       "      </script>\n",
       "    </div>\n",
       "  </div>\n",
       "  "
      ],
      "text/plain": [
       "                                maestro_column_unmod  \\\n",
       "0  _dyn_#Healthy.HC1.Healthy..HC1.1_intensity_for...   \n",
       "1  _dyn_#Healthy.HC10.Healthy..HC10.1_intensity_f...   \n",
       "2  _dyn_#Healthy.HC12.Healthy..HC12.1_intensity_f...   \n",
       "3  _dyn_#Healthy.HC13.Healthy..HC13.1_intensity_f...   \n",
       "4  _dyn_#Healthy.HC17.Healthy..HC17.1_intensity_f...   \n",
       "\n",
       "                              maestro_column_variant patient_id    label  \\\n",
       "0  _dyn_#Healthy.HC1.Healthy..HC1.1_intensity_for...        HC1  Healthy   \n",
       "1  _dyn_#Healthy.HC10.Healthy..HC10.1_intensity_f...       HC10  Healthy   \n",
       "2  _dyn_#Healthy.HC12.Healthy..HC12.1_intensity_f...       HC12  Healthy   \n",
       "3  _dyn_#Healthy.HC13.Healthy..HC13.1_intensity_f...       HC13  Healthy   \n",
       "4  _dyn_#Healthy.HC17.Healthy..HC17.1_intensity_f...       HC17  Healthy   \n",
       "\n",
       "   y_covid  y_severe_type Patient ID a Metabolomics ID e Metabolites  \\\n",
       "0        0              0          HC1             jkdz1       jkdz1   \n",
       "1        0              0         HC10            jkdz10      jkdz10   \n",
       "2        0              0         HC12            jkdz12      jkdz12   \n",
       "3        0              0         HC13            jkdz13      jkdz13   \n",
       "4        0              0         HC17            jkdz17      jkdz17   \n",
       "\n",
       "   (14 or 15)-methylpalmitate (a17:0 or i17:0)  ...  variant_ccms_row_101452  \\\n",
       "0                                    7439425.0  ...                      0.0   \n",
       "1                                   16636076.0  ...                      0.0   \n",
       "2                                    9140857.0  ...                      0.0   \n",
       "3                                    7863659.5  ...                      0.0   \n",
       "4                                    7996507.5  ...                      0.0   \n",
       "\n",
       "   variant_ccms_row_101453  variant_ccms_row_101454  variant_ccms_row_101455  \\\n",
       "0                 1.958825                  0.00000                 0.000000   \n",
       "1                 2.544654                  0.00000                 0.000000   \n",
       "2                 0.913199                  0.00000                 0.000000   \n",
       "3                 1.035449                  0.00000                 0.000000   \n",
       "4                 0.110892                  0.81455                 0.863862   \n",
       "\n",
       "   variant_ccms_row_101456  variant_ccms_row_101457  variant_ccms_row_101458  \\\n",
       "0                 1.174198                      0.0                      0.0   \n",
       "1                 0.000000                      0.0                      0.0   \n",
       "2                 0.000000                      0.0                      0.0   \n",
       "3                 0.000000                      0.0                      0.0   \n",
       "4                 0.000000                      0.0                      0.0   \n",
       "\n",
       "   variant_ccms_row_101459  variant_ccms_row_101460  variant_ccms_row_101461  \n",
       "0                      0.0                 0.370040                      0.0  \n",
       "1                      0.0                 0.000000                      0.0  \n",
       "2                      0.0                 0.000000                      0.0  \n",
       "3                      0.0                 0.000000                      0.0  \n",
       "4                      0.0                 0.791905                      0.0  \n",
       "\n",
       "[5 rows x 203872 columns]"
      ]
     },
     "execution_count": 102,
     "metadata": {},
     "output_type": "execute_result"
    }
   ],
   "source": [
    "#Load data\n",
    "from google.colab import drive\n",
    "drive.mount('/content/drive')\n",
    "dataset_dir = \"/content/drive/MyDrive/CSE291/\"\n",
    "dataset_df = pd.read_csv(dataset_dir + \"covid19_sera_merged.csv\")\n",
    "dataset_df.head()"
   ]
  },
  {
   "cell_type": "code",
   "execution_count": 103,
   "metadata": {
    "id": "wptYx41vha5c"
   },
   "outputs": [],
   "source": [
    "#Variant features bound\n",
    "variant_bounds = [102411, 203871]\n",
    "unmod_bounds = [950, 102411]"
   ]
  },
  {
   "cell_type": "code",
   "execution_count": 104,
   "metadata": {
    "id": "Ef_4-kabfanN"
   },
   "outputs": [],
   "source": [
    "#Preprocess function\n",
    "def preprocess_dataset(dataset_df):\n",
    "    dataset_df = dataset_df.fillna(0)\n",
    "    return dataset_df"
   ]
  },
  {
   "cell_type": "code",
   "execution_count": 105,
   "metadata": {
    "id": "vRem7_XCfuhN"
   },
   "outputs": [],
   "source": [
    "#Function which splits the input dataset\n",
    "def get_train_test_split(dataset_df, split_ratio = 0.2):\n",
    "    train_df, test_df, y_train, y_test = train_test_split(dataset_df, dataset_df['y_covid'], test_size=0.2, stratify = dataset_df['y_covid'])\n",
    "    return train_df, test_df, y_train, y_test"
   ]
  },
  {
   "cell_type": "code",
   "execution_count": 106,
   "metadata": {
    "id": "3ZIJLxvBf-6T"
   },
   "outputs": [],
   "source": [
    "#Filter out columns based on certain metrics\n",
    "def select_feature_columns_ind_metrics(feature_type = 'variant', column_stats = None, missing_ratio_threshold = None, kendall_corr_threshold = None):\n",
    "    if column_stats is None:\n",
    "        return None\n",
    "    if missing_ratio_threshold:\n",
    "        # print (\"Updating column stats\")\n",
    "        column_stats = column_stats[column_stats['missing'] < missing_ratio_threshold]\n",
    "        # print (\"Done computing column stats\")\n",
    "    if kendall_corr_threshold:\n",
    "        column_stats = column_stats[column_stats['kendall'] > kendall_corr_threshold]\n",
    "    selected_indices = list(column_stats.index)\n",
    "    if feature_type == 'variant':\n",
    "        return [item for item in selected_indices if item >= variant_bounds[0] and item < variant_bounds[1]]\n",
    "    else:\n",
    "        return [item for item in selected_indices if item >= unmod_bounds[0] and item < unmod_bounds[1]]\n",
    "    return selected_indices"
   ]
  },
  {
   "cell_type": "code",
   "execution_count": 107,
   "metadata": {
    "id": "zhHvrz4ehy_1"
   },
   "outputs": [],
   "source": [
    "#Compute missing value ratios (considering 0 to be a missing feature)\n",
    "def compute_missing_values_ratio(col_values):\n",
    "    return len([item for item in col_values if item == 0])/len(col_values)"
   ]
  },
  {
   "cell_type": "code",
   "execution_count": 108,
   "metadata": {
    "id": "cUdIGCPhh6wg"
   },
   "outputs": [],
   "source": [
    "#Compute kendall correlation (between feature and target)\n",
    "def compute_kendall_correlation(df, col_index, target):\n",
    "    val = df[df.columns[col_index]].corr(target, method = 'kendall')\n",
    "    return val"
   ]
  },
  {
   "cell_type": "code",
   "execution_count": 109,
   "metadata": {
    "id": "nKib_OTXiF8Z"
   },
   "outputs": [],
   "source": [
    "#Compute stats corresponding to each column in the dataframe\n",
    "def generate_column_stats_df(dataset_df):\n",
    "    col_stats = dict()\n",
    "    for col_index in range(dataset_df.shape[1]):\n",
    "        col_values = list(dataset_df[dataset_df.columns[col_index]])\n",
    "        col_stats[col_index] = {'missing': compute_missing_values_ratio(col_values), 'kendall': abs(compute_kendall_correlation(dataset_df, col_index, dataset_df['y_covid']))}\n",
    "    colstatsdf = pd.DataFrame(col_stats).transpose()\n",
    "    return colstatsdf"
   ]
  },
  {
   "cell_type": "code",
   "execution_count": 110,
   "metadata": {
    "id": "iGdYGT0Si_-l"
   },
   "outputs": [],
   "source": [
    "def run_logistic_regression(parameters, train, y_train, test, y_test, grid_search_obj = None):\n",
    "    model = None\n",
    "    if grid_search_obj:\n",
    "        model = base.clone(grid_search_obj.base_estimator_)\n",
    "    else:\n",
    "        model = GridSearchCV(LogisticRegression(), parameters)\n",
    "    model.fit(train, y_train)\n",
    "    score = model.score(test, y_test)\n",
    "    print (\"Test Accuracy - {}\".format(score))\n",
    "    if not grid_search_obj:\n",
    "        return score, model.best_estimator_\n",
    "    else:\n",
    "        return score, model"
   ]
  },
  {
   "cell_type": "code",
   "execution_count": 111,
   "metadata": {
    "id": "mQQ8zO-zkYQN"
   },
   "outputs": [],
   "source": [
    "def get_mean_accuracies(col_indices, dataset, split_count = 5, split_ratio = 0.2, parameters = None):\n",
    "    splits = list()\n",
    "    for index in range(split_count):\n",
    "        train_df, test_df, y_train, y_test = get_train_test_split(dataset_df, split_ratio)\n",
    "        splits.append([train_df, test_df, y_train, y_test])\n",
    "    if not parameters:\n",
    "        parameters = {'penalty': ['l1', 'l2'], 'C': [0.01, 0.1, 1, 10], 'max_iter': [500], 'solver': ['liblinear']}\n",
    "    accuracies = list()\n",
    "    models = list()\n",
    "    for index, (train_df, test_df, y_train, y_test) in enumerate(splits):\n",
    "        print (\"Split count {}\".format(index))\n",
    "        print (\"Covid positive train_df - {}\".format(train_df[train_df['y_covid'] == 1].shape[0]))\n",
    "        print (\"Covid negative train_df - {}\".format(train_df[train_df['y_covid'] == 0].shape[0]))\n",
    "        print (\"Covid positive test_df - {}\".format(test_df[test_df['y_covid'] == 1].shape[0]))\n",
    "        print (\"Covid negative test_df - {}\".format(test_df[test_df['y_covid'] == 0].shape[0]))\n",
    "        train_df = train_df.iloc[:, col_indices]\n",
    "        test_df = test_df.iloc[:, col_indices]\n",
    "        print (\"Train DF shape - {} | Test DF shape - {}\".format(train_df.shape, test_df.shape))\n",
    "        score, model = run_logistic_regression(parameters, train_df, y_train, test_df, y_test)\n",
    "        print (\"Split count {} | Accuracy - {}\\n\".format(index, score))\n",
    "        accuracies.append(score)\n",
    "        models.append(model)\n",
    "    print (\"Mean accuracy - \", sum(accuracies)/float(len(accuracies)))\n",
    "    return models"
   ]
  },
  {
   "cell_type": "code",
   "execution_count": 112,
   "metadata": {
    "id": "cJa85niPvix7"
   },
   "outputs": [],
   "source": [
    "dataset_df = preprocess_dataset(dataset_df)"
   ]
  },
  {
   "cell_type": "code",
   "execution_count": 113,
   "metadata": {
    "id": "xJlPHkHEnRVn"
   },
   "outputs": [],
   "source": [
    "columnstats = generate_column_stats_df(dataset_df)"
   ]
  },
  {
   "cell_type": "code",
   "execution_count": 114,
   "metadata": {
    "id": "SbT9ZPpenavF"
   },
   "outputs": [],
   "source": [
    "selected_col_indices = select_feature_columns_ind_metrics(feature_type = 'variant', column_stats = columnstats, missing_ratio_threshold = 0.4)"
   ]
  },
  {
   "cell_type": "code",
   "execution_count": 115,
   "metadata": {
    "id": "3J3C_KQNoBna"
   },
   "outputs": [],
   "source": [
    "# parameters = {'penalty': ['l1', 'l2'], 'C': [0.01, 0.1, 1, 10], 'max_iter': [500], 'solver': ['liblinear']}"
   ]
  },
  {
   "cell_type": "code",
   "execution_count": 116,
   "metadata": {
    "id": "1QBibWmnojIl"
   },
   "outputs": [],
   "source": [
    "# models = get_mean_accuracies(col_indices = selected_col_indices, dataset = dataset_df, split_count = 5, parameters = parameters)"
   ]
  },
  {
   "cell_type": "code",
   "execution_count": 117,
   "metadata": {
    "id": "-Aq-zmztqSyw"
   },
   "outputs": [],
   "source": [
    "parameters2 = {'penalty': ['l1', 'l2'], 'C': [0.01, 0.1, 1], 'max_iter': [250], 'solver': ['liblinear']}"
   ]
  },
  {
   "cell_type": "code",
   "execution_count": 118,
   "metadata": {
    "colab": {
     "base_uri": "https://localhost:8080/"
    },
    "id": "FaeYVU51vNOp",
    "outputId": "e1328d0e-8f81-481f-fb5c-535319d8a7bc"
   },
   "outputs": [
    {
     "name": "stdout",
     "output_type": "stream",
     "text": [
      "Count of NaN values - 0\n"
     ]
    }
   ],
   "source": [
    "print (\"Count of NaN values - {}\".format(dataset_df.iloc[:].isnull().sum().sum()))"
   ]
  },
  {
   "cell_type": "code",
   "execution_count": 119,
   "metadata": {
    "colab": {
     "base_uri": "https://localhost:8080/"
    },
    "id": "qgsXMcwRsmbR",
    "outputId": "e5055134-1cc4-42e8-cf7f-e45680be2c01"
   },
   "outputs": [
    {
     "name": "stdout",
     "output_type": "stream",
     "text": [
      "Split count 0\n",
      "Covid positive train_df - 33\n",
      "Covid negative train_df - 33\n",
      "Covid positive test_df - 8\n",
      "Covid negative test_df - 9\n",
      "Train DF shape - (66, 29275) | Test DF shape - (17, 29275)\n",
      "Test Accuracy - 1.0\n",
      "Split count 0 | Accuracy - 1.0\n",
      "\n",
      "Split count 1\n",
      "Covid positive train_df - 33\n",
      "Covid negative train_df - 33\n",
      "Covid positive test_df - 8\n",
      "Covid negative test_df - 9\n",
      "Train DF shape - (66, 29275) | Test DF shape - (17, 29275)\n",
      "Test Accuracy - 1.0\n",
      "Split count 1 | Accuracy - 1.0\n",
      "\n",
      "Split count 2\n",
      "Covid positive train_df - 33\n",
      "Covid negative train_df - 33\n",
      "Covid positive test_df - 8\n",
      "Covid negative test_df - 9\n",
      "Train DF shape - (66, 29275) | Test DF shape - (17, 29275)\n",
      "Test Accuracy - 1.0\n",
      "Split count 2 | Accuracy - 1.0\n",
      "\n",
      "Split count 3\n",
      "Covid positive train_df - 33\n",
      "Covid negative train_df - 33\n",
      "Covid positive test_df - 8\n",
      "Covid negative test_df - 9\n",
      "Train DF shape - (66, 29275) | Test DF shape - (17, 29275)\n",
      "Test Accuracy - 1.0\n",
      "Split count 3 | Accuracy - 1.0\n",
      "\n",
      "Split count 4\n",
      "Covid positive train_df - 33\n",
      "Covid negative train_df - 33\n",
      "Covid positive test_df - 8\n",
      "Covid negative test_df - 9\n",
      "Train DF shape - (66, 29275) | Test DF shape - (17, 29275)\n",
      "Test Accuracy - 0.9411764705882353\n",
      "Split count 4 | Accuracy - 0.9411764705882353\n",
      "\n",
      "Mean accuracy -  0.9882352941176471\n"
     ]
    }
   ],
   "source": [
    "models2 = get_mean_accuracies(col_indices = selected_col_indices, dataset = dataset_df, split_count = 5, parameters = parameters2)"
   ]
  },
  {
   "cell_type": "code",
   "execution_count": 120,
   "metadata": {
    "id": "b4L_mFK2yZNs"
   },
   "outputs": [],
   "source": [
    "#Map model indices to col indices of dataset_df\n",
    "def get_dataset_indices(model_indices, selected_col_indices):\n",
    "  # print (\"Min of model indices - \", min(model_indices))\n",
    "  # print (\"Max of model indices - \", max(model_indices))\n",
    "    return [selected_col_indices[index] for index in model_indices]"
   ]
  },
  {
   "cell_type": "code",
   "execution_count": 121,
   "metadata": {
    "id": "j3mvRZ3wsrjk"
   },
   "outputs": [],
   "source": [
    "#Get feature importances by absolute values of the coefficients\n",
    "def regression_coefficient_argsort(models, selected_col_indices):\n",
    "    feature_importances = list()\n",
    "    for model in models:\n",
    "        # print (\"Shape coef - {}\".format(abs(model.coef_).T[:, 0].shape))\n",
    "        sorted_feature_importances = get_dataset_indices(list(np.argsort(abs(model.coef_).T[:, 0])), selected_col_indices)\n",
    "        feature_importances.append(sorted_feature_importances)\n",
    "    return feature_importances"
   ]
  },
  {
   "cell_type": "code",
   "execution_count": 122,
   "metadata": {
    "id": "M0FGk5rYyWm9"
   },
   "outputs": [],
   "source": [
    "feature_importances_per_model = regression_coefficient_argsort(models2, selected_col_indices)"
   ]
  },
  {
   "cell_type": "code",
   "execution_count": 123,
   "metadata": {
    "id": "kBmViVMdzTt1"
   },
   "outputs": [],
   "source": [
    "def get_top_n_features_models(models2, n = 5):\n",
    "    top_n_features_per_model = list()\n",
    "    for index, model in enumerate(models2):\n",
    "        model_top_5 = [dataset_df.columns[i] for i in feature_importances_per_model[index][(-1 * n):]]\n",
    "        print (\"Top 5 features by coefficient value for model {} | {}\".format(index, \", \".join(model_top_5)))\n",
    "        top_n_features_per_model.append(model_top_5)\n",
    "    return top_n_features_per_model"
   ]
  },
  {
   "cell_type": "code",
   "execution_count": 124,
   "metadata": {
    "colab": {
     "base_uri": "https://localhost:8080/"
    },
    "id": "MxWmB-jd4l0n",
    "outputId": "d0390b63-238c-4e15-e18c-26df54d23319"
   },
   "outputs": [
    {
     "name": "stdout",
     "output_type": "stream",
     "text": [
      "Top 5 features by coefficient value for model 0 | variant_ccms_row_42727, variant_ccms_row_53107, variant_ccms_row_58283, variant_ccms_row_58286, variant_ccms_row_70224\n",
      "Top 5 features by coefficient value for model 1 | variant_ccms_row_58286, variant_ccms_row_53107, variant_ccms_row_42727, variant_ccms_row_58283, variant_ccms_row_70224\n",
      "Top 5 features by coefficient value for model 2 | variant_ccms_row_10605, variant_ccms_row_42727, variant_ccms_row_70224, variant_ccms_row_53107, variant_ccms_row_58283\n",
      "Top 5 features by coefficient value for model 3 | variant_ccms_row_42727, variant_ccms_row_58286, variant_ccms_row_53107, variant_ccms_row_58283, variant_ccms_row_70224\n",
      "Top 5 features by coefficient value for model 4 | variant_ccms_row_57428, variant_ccms_row_48133, variant_ccms_row_53107, variant_ccms_row_70224, variant_ccms_row_58283\n"
     ]
    }
   ],
   "source": [
    "top_5_features_per_model = get_top_n_features_models(models2, n = 5)"
   ]
  },
  {
   "cell_type": "code",
   "execution_count": 125,
   "metadata": {
    "id": "DJSQ7oKRz1ZN"
   },
   "outputs": [],
   "source": [
    "def feature_score(models_top_n_features, disregard_rank = True):\n",
    "    feature_importance = dict()\n",
    "    for model_top_n in models_top_n_features:\n",
    "        for index, feature in enumerate(model_top_n):\n",
    "            if feature not in feature_importance.keys():\n",
    "                feature_importance[feature] = 0\n",
    "            if disregard_rank:\n",
    "                feature_importance[feature] += 1\n",
    "            else:\n",
    "                feature_importance[feature] += (len(model_top_n) - index)\n",
    "    return feature_importance"
   ]
  },
  {
   "cell_type": "code",
   "execution_count": 126,
   "metadata": {
    "id": "3ZJZwMtr1mUv"
   },
   "outputs": [],
   "source": [
    "feature_importance = feature_score(top_5_features_per_model)"
   ]
  },
  {
   "cell_type": "code",
   "execution_count": 127,
   "metadata": {
    "colab": {
     "base_uri": "https://localhost:8080/"
    },
    "id": "Pc9jD3iV2UIa",
    "outputId": "22859807-92f9-46be-dfb2-9bbeacf0b829"
   },
   "outputs": [
    {
     "data": {
      "text/plain": [
       "variant_ccms_row_53107    5\n",
       "variant_ccms_row_58283    5\n",
       "variant_ccms_row_70224    5\n",
       "variant_ccms_row_42727    4\n",
       "variant_ccms_row_58286    3\n",
       "variant_ccms_row_10605    1\n",
       "variant_ccms_row_57428    1\n",
       "variant_ccms_row_48133    1\n",
       "dtype: int64"
      ]
     },
     "execution_count": 127,
     "metadata": {},
     "output_type": "execute_result"
    }
   ],
   "source": [
    "pd.Series(feature_importance).sort_values(ascending = False)"
   ]
  },
  {
   "cell_type": "code",
   "execution_count": 128,
   "metadata": {
    "id": "cZqob08_2Z1b"
   },
   "outputs": [],
   "source": [
    "adaptive_feature_importance = feature_score(top_5_features_per_model, disregard_rank = False)"
   ]
  },
  {
   "cell_type": "code",
   "execution_count": 129,
   "metadata": {
    "id": "eZePbYgx2icW"
   },
   "outputs": [],
   "source": [
    "adaptive_feature_importance = pd.Series(adaptive_feature_importance).sort_values(ascending = False)"
   ]
  },
  {
   "cell_type": "code",
   "execution_count": 132,
   "metadata": {
    "id": "gWdMW74V2jgT"
   },
   "outputs": [],
   "source": [
    "def plot_histograms(feature_list, targets, remove_zero = True):\n",
    "    covid_positive = [item for index, item in enumerate(feature_list) if targets[index] == 1 and ((not remove_zero) or (remove_zero and item != 0))]\n",
    "    covid_negative = [item for index, item in enumerate(feature_list) if targets[index] == 0 and ((not remove_zero) or (remove_zero and item != 0))]\n",
    "    bins = np.linspace(0, 4, 100)\n",
    "    plt.hist(covid_positive, bins, alpha=0.5, label='positive')\n",
    "    plt.hist(covid_negative, bins, alpha=0.5, label='negative')\n",
    "    plt.legend(loc='upper right')\n",
    "    plt.show()"
   ]
  },
  {
   "cell_type": "code",
   "execution_count": 133,
   "metadata": {
    "colab": {
     "base_uri": "https://localhost:8080/",
     "height": 1000
    },
    "id": "23lsUqQT4y-u",
    "outputId": "1f5cf23c-51da-4eaf-ba76-35d5ed976554"
   },
   "outputs": [
    {
     "name": "stdout",
     "output_type": "stream",
     "text": [
      "Class separation for feature variant_ccms_row_42727:\n"
     ]
    },
    {
     "data": {
      "image/png": "[encoded data removed]",
      "text/plain": [
       "<Figure size 432x288 with 1 Axes>"
      ]
     },
     "metadata": {
      "needs_background": "light"
     },
     "output_type": "display_data"
    },
    {
     "name": "stdout",
     "output_type": "stream",
     "text": [
      "Class separation for feature variant_ccms_row_53107:\n"
     ]
    },
    {
     "data": {
      "image/png": "[encoded data removed]",
      "text/plain": [
       "<Figure size 432x288 with 1 Axes>"
      ]
     },
     "metadata": {
      "needs_background": "light"
     },
     "output_type": "display_data"
    },
    {
     "name": "stdout",
     "output_type": "stream",
     "text": [
      "Class separation for feature variant_ccms_row_58286:\n"
     ]
    },
    {
     "data": {
      "image/png": "[encoded data removed]",
      "text/plain": [
       "<Figure size 432x288 with 1 Axes>"
      ]
     },
     "metadata": {
      "needs_background": "light"
     },
     "output_type": "display_data"
    },
    {
     "name": "stdout",
     "output_type": "stream",
     "text": [
      "Class separation for feature variant_ccms_row_58283:\n"
     ]
    },
    {
     "data": {
      "image/png": "[encoded data removed]",
      "text/plain": [
       "<Figure size 432x288 with 1 Axes>"
      ]
     },
     "metadata": {
      "needs_background": "light"
     },
     "output_type": "display_data"
    },
    {
     "name": "stdout",
     "output_type": "stream",
     "text": [
      "Class separation for feature variant_ccms_row_70224:\n"
     ]
    },
    {
     "data": {
      "image/png": "[encoded data removed]",
      "text/plain": [
       "<Figure size 432x288 with 1 Axes>"
      ]
     },
     "metadata": {
      "needs_background": "light"
     },
     "output_type": "display_data"
    },
    {
     "name": "stdout",
     "output_type": "stream",
     "text": [
      "Class separation for feature variant_ccms_row_10605:\n"
     ]
    },
    {
     "data": {
      "image/png": "[encoded data removed]",
      "text/plain": [
       "<Figure size 432x288 with 1 Axes>"
      ]
     },
     "metadata": {
      "needs_background": "light"
     },
     "output_type": "display_data"
    },
    {
     "name": "stdout",
     "output_type": "stream",
     "text": [
      "Class separation for feature variant_ccms_row_57428:\n"
     ]
    },
    {
     "data": {
      "image/png": "[encoded data removed]",
      "text/plain": [
       "<Figure size 432x288 with 1 Axes>"
      ]
     },
     "metadata": {
      "needs_background": "light"
     },
     "output_type": "display_data"
    },
    {
     "name": "stdout",
     "output_type": "stream",
     "text": [
      "Class separation for feature variant_ccms_row_48133:\n"
     ]
    },
    {
     "data": {
      "image/png": "[encoded data removed]",
      "text/plain": [
       "<Figure size 432x288 with 1 Axes>"
      ]
     },
     "metadata": {
      "needs_background": "light"
     },
     "output_type": "display_data"
    }
   ],
   "source": [
    "for feature in adaptive_feature_importance.index:\n",
    "    print (\"Class separation for feature {}:\".format(feature))\n",
    "    plot_histograms(dataset_df[feature], dataset_df['y_covid'])"
   ]
  },
  {
   "cell_type": "code",
   "execution_count": null,
   "metadata": {
    "id": "d31s08CM7lPq"
   },
   "outputs": [],
   "source": []
  }
 ],
 "metadata": {
  "colab": {
   "name": "covid-analysis.ipynb",
   "provenance": []
  },
  "kernelspec": {
   "display_name": "Python 3",
   "language": "python",
   "name": "python3"
  },
  "language_info": {
   "codemirror_mode": {
    "name": "ipython",
    "version": 3
   },
   "file_extension": ".py",
   "mimetype": "text/x-python",
   "name": "python",
   "nbconvert_exporter": "python",
   "pygments_lexer": "ipython3",
   "version": "3.6.10"
  }
 },
 "nbformat": 4,
 "nbformat_minor": 1
}
