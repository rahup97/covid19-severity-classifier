{
 "cells": [
  {
   "cell_type": "code",
   "execution_count": 1,
   "id": "4f8f4516",
   "metadata": {},
   "outputs": [],
   "source": [
    "import numpy as np\n",
    "import pandas as pd\n",
    "import matplotlib.pyplot as plt"
   ]
  },
  {
   "cell_type": "code",
   "execution_count": 8,
   "id": "4195c9bf",
   "metadata": {},
   "outputs": [
    {
     "name": "stdout",
     "output_type": "stream",
     "text": [
      "Shape of the dataset:\n",
      "(83, 29)\n"
     ]
    }
   ],
   "source": [
    "data = pd.read_csv(\"./important_variant_peptides.tsv\",sep='\\t')\n",
    "print(\"Shape of the dataset:\")\n",
    "print(data.shape)"
   ]
  },
  {
   "cell_type": "code",
   "execution_count": 9,
   "id": "7f8d9fa7",
   "metadata": {
    "scrolled": true
   },
   "outputs": [
    {
     "data": {
      "text/html": [
       "<div>\n",
       "<style scoped>\n",
       "    .dataframe tbody tr th:only-of-type {\n",
       "        vertical-align: middle;\n",
       "    }\n",
       "\n",
       "    .dataframe tbody tr th {\n",
       "        vertical-align: top;\n",
       "    }\n",
       "\n",
       "    .dataframe thead th {\n",
       "        text-align: right;\n",
       "    }\n",
       "</style>\n",
       "<table border=\"1\" class=\"dataframe\">\n",
       "  <thead>\n",
       "    <tr style=\"text-align: right;\">\n",
       "      <th></th>\n",
       "      <th>maestro_column_variant</th>\n",
       "      <th>patient_id</th>\n",
       "      <th>y_covid</th>\n",
       "      <th>variant_ccms_row_70252</th>\n",
       "      <th>variant_ccms_row_70224</th>\n",
       "      <th>variant_ccms_row_70246</th>\n",
       "      <th>variant_ccms_row_42797</th>\n",
       "      <th>variant_ccms_row_10133</th>\n",
       "      <th>variant_ccms_row_6744</th>\n",
       "      <th>variant_ccms_row_72191</th>\n",
       "      <th>...</th>\n",
       "      <th>variant_ccms_row_43385</th>\n",
       "      <th>variant_ccms_row_73517</th>\n",
       "      <th>variant_ccms_row_9615</th>\n",
       "      <th>variant_ccms_row_57100</th>\n",
       "      <th>variant_ccms_row_89047</th>\n",
       "      <th>variant_ccms_row_63818</th>\n",
       "      <th>variant_ccms_row_96756</th>\n",
       "      <th>variant_ccms_row_54896</th>\n",
       "      <th>variant_ccms_row_53501</th>\n",
       "      <th>variant_ccms_row_40058</th>\n",
       "    </tr>\n",
       "  </thead>\n",
       "  <tbody>\n",
       "    <tr>\n",
       "      <th>0</th>\n",
       "      <td>_dyn_#Healthy.HC1.Healthy..HC1.1_intensity_for...</td>\n",
       "      <td>HC1</td>\n",
       "      <td>0</td>\n",
       "      <td>0.221872</td>\n",
       "      <td>1.524973</td>\n",
       "      <td>0.521797</td>\n",
       "      <td>2.287542</td>\n",
       "      <td>0.585327</td>\n",
       "      <td>0.000000</td>\n",
       "      <td>0.389748</td>\n",
       "      <td>...</td>\n",
       "      <td>0.070137</td>\n",
       "      <td>0.638102</td>\n",
       "      <td>0.135000</td>\n",
       "      <td>3.544477</td>\n",
       "      <td>0.000000</td>\n",
       "      <td>0.105644</td>\n",
       "      <td>0.143525</td>\n",
       "      <td>1.104631</td>\n",
       "      <td>0.283160</td>\n",
       "      <td>0.358924</td>\n",
       "    </tr>\n",
       "    <tr>\n",
       "      <th>1</th>\n",
       "      <td>_dyn_#Healthy.HC10.Healthy..HC10.1_intensity_f...</td>\n",
       "      <td>HC10</td>\n",
       "      <td>0</td>\n",
       "      <td>0.620541</td>\n",
       "      <td>0.765736</td>\n",
       "      <td>0.771675</td>\n",
       "      <td>3.168297</td>\n",
       "      <td>0.634097</td>\n",
       "      <td>0.868488</td>\n",
       "      <td>1.325422</td>\n",
       "      <td>...</td>\n",
       "      <td>0.115440</td>\n",
       "      <td>1.380685</td>\n",
       "      <td>0.337143</td>\n",
       "      <td>2.105151</td>\n",
       "      <td>0.194562</td>\n",
       "      <td>0.086221</td>\n",
       "      <td>0.497956</td>\n",
       "      <td>1.801040</td>\n",
       "      <td>0.057826</td>\n",
       "      <td>0.156217</td>\n",
       "    </tr>\n",
       "    <tr>\n",
       "      <th>2</th>\n",
       "      <td>_dyn_#Healthy.HC12.Healthy..HC12.1_intensity_f...</td>\n",
       "      <td>HC12</td>\n",
       "      <td>0</td>\n",
       "      <td>0.124841</td>\n",
       "      <td>0.909745</td>\n",
       "      <td>0.413016</td>\n",
       "      <td>0.274528</td>\n",
       "      <td>0.638015</td>\n",
       "      <td>0.418480</td>\n",
       "      <td>0.051639</td>\n",
       "      <td>...</td>\n",
       "      <td>0.056459</td>\n",
       "      <td>0.071696</td>\n",
       "      <td>0.181228</td>\n",
       "      <td>0.124468</td>\n",
       "      <td>0.098407</td>\n",
       "      <td>0.140286</td>\n",
       "      <td>0.087946</td>\n",
       "      <td>0.858310</td>\n",
       "      <td>0.049611</td>\n",
       "      <td>0.107903</td>\n",
       "    </tr>\n",
       "    <tr>\n",
       "      <th>3</th>\n",
       "      <td>_dyn_#Healthy.HC13.Healthy..HC13.1_intensity_f...</td>\n",
       "      <td>HC13</td>\n",
       "      <td>0</td>\n",
       "      <td>0.307739</td>\n",
       "      <td>0.364249</td>\n",
       "      <td>0.179029</td>\n",
       "      <td>0.353590</td>\n",
       "      <td>0.305801</td>\n",
       "      <td>1.115922</td>\n",
       "      <td>0.115356</td>\n",
       "      <td>...</td>\n",
       "      <td>0.076735</td>\n",
       "      <td>0.135240</td>\n",
       "      <td>0.191112</td>\n",
       "      <td>0.220319</td>\n",
       "      <td>0.123784</td>\n",
       "      <td>0.069492</td>\n",
       "      <td>0.116262</td>\n",
       "      <td>0.661240</td>\n",
       "      <td>0.045577</td>\n",
       "      <td>0.117254</td>\n",
       "    </tr>\n",
       "    <tr>\n",
       "      <th>4</th>\n",
       "      <td>_dyn_#Healthy.HC17.Healthy..HC17.1_intensity_f...</td>\n",
       "      <td>HC17</td>\n",
       "      <td>0</td>\n",
       "      <td>0.898199</td>\n",
       "      <td>1.944446</td>\n",
       "      <td>0.669398</td>\n",
       "      <td>0.627867</td>\n",
       "      <td>0.733261</td>\n",
       "      <td>0.624247</td>\n",
       "      <td>0.270939</td>\n",
       "      <td>...</td>\n",
       "      <td>0.205009</td>\n",
       "      <td>0.780187</td>\n",
       "      <td>0.141623</td>\n",
       "      <td>0.646114</td>\n",
       "      <td>0.332367</td>\n",
       "      <td>0.203421</td>\n",
       "      <td>0.000000</td>\n",
       "      <td>1.238651</td>\n",
       "      <td>0.626800</td>\n",
       "      <td>0.685249</td>\n",
       "    </tr>\n",
       "  </tbody>\n",
       "</table>\n",
       "<p>5 rows × 29 columns</p>\n",
       "</div>"
      ],
      "text/plain": [
       "                              maestro_column_variant patient_id  y_covid  \\\n",
       "0  _dyn_#Healthy.HC1.Healthy..HC1.1_intensity_for...        HC1        0   \n",
       "1  _dyn_#Healthy.HC10.Healthy..HC10.1_intensity_f...       HC10        0   \n",
       "2  _dyn_#Healthy.HC12.Healthy..HC12.1_intensity_f...       HC12        0   \n",
       "3  _dyn_#Healthy.HC13.Healthy..HC13.1_intensity_f...       HC13        0   \n",
       "4  _dyn_#Healthy.HC17.Healthy..HC17.1_intensity_f...       HC17        0   \n",
       "\n",
       "   variant_ccms_row_70252  variant_ccms_row_70224  variant_ccms_row_70246  \\\n",
       "0                0.221872                1.524973                0.521797   \n",
       "1                0.620541                0.765736                0.771675   \n",
       "2                0.124841                0.909745                0.413016   \n",
       "3                0.307739                0.364249                0.179029   \n",
       "4                0.898199                1.944446                0.669398   \n",
       "\n",
       "   variant_ccms_row_42797  variant_ccms_row_10133  variant_ccms_row_6744  \\\n",
       "0                2.287542                0.585327               0.000000   \n",
       "1                3.168297                0.634097               0.868488   \n",
       "2                0.274528                0.638015               0.418480   \n",
       "3                0.353590                0.305801               1.115922   \n",
       "4                0.627867                0.733261               0.624247   \n",
       "\n",
       "   variant_ccms_row_72191  ...  variant_ccms_row_43385  \\\n",
       "0                0.389748  ...                0.070137   \n",
       "1                1.325422  ...                0.115440   \n",
       "2                0.051639  ...                0.056459   \n",
       "3                0.115356  ...                0.076735   \n",
       "4                0.270939  ...                0.205009   \n",
       "\n",
       "   variant_ccms_row_73517  variant_ccms_row_9615  variant_ccms_row_57100  \\\n",
       "0                0.638102               0.135000                3.544477   \n",
       "1                1.380685               0.337143                2.105151   \n",
       "2                0.071696               0.181228                0.124468   \n",
       "3                0.135240               0.191112                0.220319   \n",
       "4                0.780187               0.141623                0.646114   \n",
       "\n",
       "   variant_ccms_row_89047  variant_ccms_row_63818  variant_ccms_row_96756  \\\n",
       "0                0.000000                0.105644                0.143525   \n",
       "1                0.194562                0.086221                0.497956   \n",
       "2                0.098407                0.140286                0.087946   \n",
       "3                0.123784                0.069492                0.116262   \n",
       "4                0.332367                0.203421                0.000000   \n",
       "\n",
       "   variant_ccms_row_54896  variant_ccms_row_53501  variant_ccms_row_40058  \n",
       "0                1.104631                0.283160                0.358924  \n",
       "1                1.801040                0.057826                0.156217  \n",
       "2                0.858310                0.049611                0.107903  \n",
       "3                0.661240                0.045577                0.117254  \n",
       "4                1.238651                0.626800                0.685249  \n",
       "\n",
       "[5 rows x 29 columns]"
      ]
     },
     "execution_count": 9,
     "metadata": {},
     "output_type": "execute_result"
    }
   ],
   "source": [
    "data.head()"
   ]
  },
  {
   "cell_type": "code",
   "execution_count": 32,
   "id": "98838bbe",
   "metadata": {},
   "outputs": [
    {
     "name": "stdout",
     "output_type": "stream",
     "text": [
      "[70252, 70224, 70246, 42797, 10133, 6744, 72191, 81336, 57364, 58283, 81378, 46200, 60073, 60816, 67338, 69789, 43385, 73517, 9615, 57100, 89047, 63818, 96756, 54896, 53501, 40058]\n"
     ]
    }
   ],
   "source": [
    "# features to be examined\n",
    "identified_features = data.columns[3:]\n",
    "identified_features = [int(i[17:]) for i in identified_features]\n",
    "print(identified_features)"
   ]
  },
  {
   "cell_type": "code",
   "execution_count": 10,
   "id": "46e5fc39",
   "metadata": {
    "scrolled": true
   },
   "outputs": [
    {
     "name": "stderr",
     "output_type": "stream",
     "text": [
      "D:\\anaconda\\lib\\site-packages\\IPython\\core\\interactiveshell.py:3165: DtypeWarning: Columns (259) have mixed types.Specify dtype option on import or set low_memory=False.\n",
      "  has_raised = await self.run_ast_nodes(code_ast.body, cell_name,\n"
     ]
    }
   ],
   "source": [
    "data2 = pd.read_csv(\"./MAESTRO-d6178bdd-identified_variants_merged_protein_regions-main.tsv\",sep='\\t')"
   ]
  },
  {
   "cell_type": "code",
   "execution_count": 57,
   "id": "4d004192",
   "metadata": {},
   "outputs": [],
   "source": [
    "protein = data2['Proteins']\n",
    "top_protein = data2['Top_protein']"
   ]
  },
  {
   "cell_type": "code",
   "execution_count": 58,
   "id": "9aacadb4",
   "metadata": {},
   "outputs": [],
   "source": [
    "from collections import defaultdict\n",
    "peptide_to_protein = defaultdict(list)\n",
    "protein_to_peptide = defaultdict(list)\n",
    "peptide_to_top_protein = defaultdict(list)\n",
    "top_protein_to_peptide = defaultdict(list)"
   ]
  },
  {
   "cell_type": "code",
   "execution_count": 59,
   "id": "cfab94e9",
   "metadata": {},
   "outputs": [],
   "source": [
    "for i in identified_features:\n",
    "    sep = [j.strip() for j in protein[i].split(';')]\n",
    "    for j in sep:\n",
    "        peptide_to_protein[i].append(j)\n",
    "        protein_to_peptide[j].append(i)\n",
    "    peptide_to_top_protein[i].append(top_protein[i])\n",
    "    top_protein_to_peptide[top_protein[i]].append(i)"
   ]
  },
  {
   "cell_type": "code",
   "execution_count": 60,
   "id": "158f62c7",
   "metadata": {},
   "outputs": [
    {
     "data": {
      "text/plain": [
       "defaultdict(list,\n",
       "            {'sp|P02768|ALBU_HUMAN': [70252,\n",
       "              70224,\n",
       "              70246,\n",
       "              72191,\n",
       "              57364,\n",
       "              58283,\n",
       "              60073,\n",
       "              60816,\n",
       "              67338,\n",
       "              69789,\n",
       "              73517,\n",
       "              57100,\n",
       "              63818,\n",
       "              54896],\n",
       "             'sp|P00738|HPT_HUMAN': [42797, 43385],\n",
       "             'sp|P01871|IGHM_HUMAN': [10133, 9615],\n",
       "             nan: [6744],\n",
       "             'tr|A0A087WWT3|A0A087WWT3_HUMAN': [81336, 81378],\n",
       "             'sp|P01833|PIGR_HUMAN': [46200],\n",
       "             'sp|P01024|CO3_HUMAN': [89047],\n",
       "             'sp|P02647|APOA1_HUMAN': [96756],\n",
       "             'sp|P0DOY2|IGLC2_HUMAN': [53501],\n",
       "             'sp|P01857|IGHG1_HUMAN': [40058]})"
      ]
     },
     "execution_count": 60,
     "metadata": {},
     "output_type": "execute_result"
    }
   ],
   "source": [
    "top_protein_to_peptide"
   ]
  }
 ],
 "metadata": {
  "kernelspec": {
   "display_name": "Python 3",
   "language": "python",
   "name": "python3"
  },
  "language_info": {
   "codemirror_mode": {
    "name": "ipython",
    "version": 3
   },
   "file_extension": ".py",
   "mimetype": "text/x-python",
   "name": "python",
   "nbconvert_exporter": "python",
   "pygments_lexer": "ipython3",
   "version": "3.8.8"
  }
 },
 "nbformat": 4,
 "nbformat_minor": 5
}
