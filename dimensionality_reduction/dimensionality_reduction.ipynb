{
 "cells": [
  {
   "cell_type": "code",
   "execution_count": 31,
   "id": "721b6992",
   "metadata": {},
   "outputs": [],
   "source": [
    "import pandas as pd\n",
    "from datetime import datetime\n",
    "from sklearn.model_selection import train_test_split\n",
    "from sklearn.metrics import accuracy_score\n",
    "from sklearn.svm import SVC\n",
    "\n",
    "RANDOM_STATE = 42"
   ]
  },
  {
   "cell_type": "code",
   "execution_count": 2,
   "id": "bf7ea2eb",
   "metadata": {
    "scrolled": true
   },
   "outputs": [],
   "source": [
    "merged_data = pd.read_pickle('covid19_sera_merged.pkl')"
   ]
  },
  {
   "cell_type": "code",
   "execution_count": 3,
   "id": "2753f8fb",
   "metadata": {},
   "outputs": [
    {
     "data": {
      "text/html": [
       "<div>\n",
       "<style scoped>\n",
       "    .dataframe tbody tr th:only-of-type {\n",
       "        vertical-align: middle;\n",
       "    }\n",
       "\n",
       "    .dataframe tbody tr th {\n",
       "        vertical-align: top;\n",
       "    }\n",
       "\n",
       "    .dataframe thead th {\n",
       "        text-align: right;\n",
       "    }\n",
       "</style>\n",
       "<table border=\"1\" class=\"dataframe\">\n",
       "  <thead>\n",
       "    <tr style=\"text-align: right;\">\n",
       "      <th></th>\n",
       "      <th>maestro_column_unmod</th>\n",
       "      <th>maestro_column_variant</th>\n",
       "      <th>patient_id</th>\n",
       "      <th>label</th>\n",
       "      <th>y_covid</th>\n",
       "      <th>y_severe_type</th>\n",
       "      <th>Patient ID a</th>\n",
       "      <th>Metabolomics ID e</th>\n",
       "      <th>Metabolites</th>\n",
       "      <th>(14 or 15)-methylpalmitate (a17:0 or i17:0)</th>\n",
       "      <th>...</th>\n",
       "      <th>variant_ccms_row_101452</th>\n",
       "      <th>variant_ccms_row_101453</th>\n",
       "      <th>variant_ccms_row_101454</th>\n",
       "      <th>variant_ccms_row_101455</th>\n",
       "      <th>variant_ccms_row_101456</th>\n",
       "      <th>variant_ccms_row_101457</th>\n",
       "      <th>variant_ccms_row_101458</th>\n",
       "      <th>variant_ccms_row_101459</th>\n",
       "      <th>variant_ccms_row_101460</th>\n",
       "      <th>variant_ccms_row_101461</th>\n",
       "    </tr>\n",
       "  </thead>\n",
       "  <tbody>\n",
       "    <tr>\n",
       "      <th>0</th>\n",
       "      <td>_dyn_#Healthy.HC1.Healthy..HC1.1_intensity_for...</td>\n",
       "      <td>_dyn_#Healthy.HC1.Healthy..HC1.1_intensity_for...</td>\n",
       "      <td>HC1</td>\n",
       "      <td>Healthy</td>\n",
       "      <td>1</td>\n",
       "      <td>0</td>\n",
       "      <td>HC1</td>\n",
       "      <td>jkdz1</td>\n",
       "      <td>jkdz1</td>\n",
       "      <td>7439425</td>\n",
       "      <td>...</td>\n",
       "      <td>0.0</td>\n",
       "      <td>1.958825</td>\n",
       "      <td>0.00000</td>\n",
       "      <td>0.000000</td>\n",
       "      <td>1.174198</td>\n",
       "      <td>0.0</td>\n",
       "      <td>0.0</td>\n",
       "      <td>0.0</td>\n",
       "      <td>0.370040</td>\n",
       "      <td>0.0</td>\n",
       "    </tr>\n",
       "    <tr>\n",
       "      <th>1</th>\n",
       "      <td>_dyn_#Healthy.HC10.Healthy..HC10.1_intensity_f...</td>\n",
       "      <td>_dyn_#Healthy.HC10.Healthy..HC10.1_intensity_f...</td>\n",
       "      <td>HC10</td>\n",
       "      <td>Healthy</td>\n",
       "      <td>1</td>\n",
       "      <td>0</td>\n",
       "      <td>HC10</td>\n",
       "      <td>jkdz10</td>\n",
       "      <td>jkdz10</td>\n",
       "      <td>16636076</td>\n",
       "      <td>...</td>\n",
       "      <td>0.0</td>\n",
       "      <td>2.544654</td>\n",
       "      <td>0.00000</td>\n",
       "      <td>0.000000</td>\n",
       "      <td>0.000000</td>\n",
       "      <td>0.0</td>\n",
       "      <td>0.0</td>\n",
       "      <td>0.0</td>\n",
       "      <td>0.000000</td>\n",
       "      <td>0.0</td>\n",
       "    </tr>\n",
       "    <tr>\n",
       "      <th>2</th>\n",
       "      <td>_dyn_#Healthy.HC12.Healthy..HC12.1_intensity_f...</td>\n",
       "      <td>_dyn_#Healthy.HC12.Healthy..HC12.1_intensity_f...</td>\n",
       "      <td>HC12</td>\n",
       "      <td>Healthy</td>\n",
       "      <td>1</td>\n",
       "      <td>0</td>\n",
       "      <td>HC12</td>\n",
       "      <td>jkdz12</td>\n",
       "      <td>jkdz12</td>\n",
       "      <td>9140857</td>\n",
       "      <td>...</td>\n",
       "      <td>0.0</td>\n",
       "      <td>0.913199</td>\n",
       "      <td>0.00000</td>\n",
       "      <td>0.000000</td>\n",
       "      <td>0.000000</td>\n",
       "      <td>0.0</td>\n",
       "      <td>0.0</td>\n",
       "      <td>0.0</td>\n",
       "      <td>0.000000</td>\n",
       "      <td>0.0</td>\n",
       "    </tr>\n",
       "    <tr>\n",
       "      <th>3</th>\n",
       "      <td>_dyn_#Healthy.HC13.Healthy..HC13.1_intensity_f...</td>\n",
       "      <td>_dyn_#Healthy.HC13.Healthy..HC13.1_intensity_f...</td>\n",
       "      <td>HC13</td>\n",
       "      <td>Healthy</td>\n",
       "      <td>1</td>\n",
       "      <td>0</td>\n",
       "      <td>HC13</td>\n",
       "      <td>jkdz13</td>\n",
       "      <td>jkdz13</td>\n",
       "      <td>7863659.5</td>\n",
       "      <td>...</td>\n",
       "      <td>0.0</td>\n",
       "      <td>1.035449</td>\n",
       "      <td>0.00000</td>\n",
       "      <td>0.000000</td>\n",
       "      <td>0.000000</td>\n",
       "      <td>0.0</td>\n",
       "      <td>0.0</td>\n",
       "      <td>0.0</td>\n",
       "      <td>0.000000</td>\n",
       "      <td>0.0</td>\n",
       "    </tr>\n",
       "    <tr>\n",
       "      <th>4</th>\n",
       "      <td>_dyn_#Healthy.HC17.Healthy..HC17.1_intensity_f...</td>\n",
       "      <td>_dyn_#Healthy.HC17.Healthy..HC17.1_intensity_f...</td>\n",
       "      <td>HC17</td>\n",
       "      <td>Healthy</td>\n",
       "      <td>1</td>\n",
       "      <td>0</td>\n",
       "      <td>HC17</td>\n",
       "      <td>jkdz17</td>\n",
       "      <td>jkdz17</td>\n",
       "      <td>7996507.5</td>\n",
       "      <td>...</td>\n",
       "      <td>0.0</td>\n",
       "      <td>0.110892</td>\n",
       "      <td>0.81455</td>\n",
       "      <td>0.863862</td>\n",
       "      <td>0.000000</td>\n",
       "      <td>0.0</td>\n",
       "      <td>0.0</td>\n",
       "      <td>0.0</td>\n",
       "      <td>0.791905</td>\n",
       "      <td>0.0</td>\n",
       "    </tr>\n",
       "  </tbody>\n",
       "</table>\n",
       "<p>5 rows × 203872 columns</p>\n",
       "</div>"
      ],
      "text/plain": [
       "                                maestro_column_unmod  \\\n",
       "0  _dyn_#Healthy.HC1.Healthy..HC1.1_intensity_for...   \n",
       "1  _dyn_#Healthy.HC10.Healthy..HC10.1_intensity_f...   \n",
       "2  _dyn_#Healthy.HC12.Healthy..HC12.1_intensity_f...   \n",
       "3  _dyn_#Healthy.HC13.Healthy..HC13.1_intensity_f...   \n",
       "4  _dyn_#Healthy.HC17.Healthy..HC17.1_intensity_f...   \n",
       "\n",
       "                              maestro_column_variant patient_id    label  \\\n",
       "0  _dyn_#Healthy.HC1.Healthy..HC1.1_intensity_for...        HC1  Healthy   \n",
       "1  _dyn_#Healthy.HC10.Healthy..HC10.1_intensity_f...       HC10  Healthy   \n",
       "2  _dyn_#Healthy.HC12.Healthy..HC12.1_intensity_f...       HC12  Healthy   \n",
       "3  _dyn_#Healthy.HC13.Healthy..HC13.1_intensity_f...       HC13  Healthy   \n",
       "4  _dyn_#Healthy.HC17.Healthy..HC17.1_intensity_f...       HC17  Healthy   \n",
       "\n",
       "   y_covid  y_severe_type Patient ID a Metabolomics ID e Metabolites  \\\n",
       "0        1              0          HC1             jkdz1       jkdz1   \n",
       "1        1              0         HC10            jkdz10      jkdz10   \n",
       "2        1              0         HC12            jkdz12      jkdz12   \n",
       "3        1              0         HC13            jkdz13      jkdz13   \n",
       "4        1              0         HC17            jkdz17      jkdz17   \n",
       "\n",
       "  (14 or 15)-methylpalmitate (a17:0 or i17:0)  ... variant_ccms_row_101452  \\\n",
       "0                                     7439425  ...                     0.0   \n",
       "1                                    16636076  ...                     0.0   \n",
       "2                                     9140857  ...                     0.0   \n",
       "3                                   7863659.5  ...                     0.0   \n",
       "4                                   7996507.5  ...                     0.0   \n",
       "\n",
       "  variant_ccms_row_101453 variant_ccms_row_101454 variant_ccms_row_101455  \\\n",
       "0                1.958825                 0.00000                0.000000   \n",
       "1                2.544654                 0.00000                0.000000   \n",
       "2                0.913199                 0.00000                0.000000   \n",
       "3                1.035449                 0.00000                0.000000   \n",
       "4                0.110892                 0.81455                0.863862   \n",
       "\n",
       "  variant_ccms_row_101456 variant_ccms_row_101457 variant_ccms_row_101458  \\\n",
       "0                1.174198                     0.0                     0.0   \n",
       "1                0.000000                     0.0                     0.0   \n",
       "2                0.000000                     0.0                     0.0   \n",
       "3                0.000000                     0.0                     0.0   \n",
       "4                0.000000                     0.0                     0.0   \n",
       "\n",
       "  variant_ccms_row_101459 variant_ccms_row_101460 variant_ccms_row_101461  \n",
       "0                     0.0                0.370040                     0.0  \n",
       "1                     0.0                0.000000                     0.0  \n",
       "2                     0.0                0.000000                     0.0  \n",
       "3                     0.0                0.000000                     0.0  \n",
       "4                     0.0                0.791905                     0.0  \n",
       "\n",
       "[5 rows x 203872 columns]"
      ]
     },
     "execution_count": 3,
     "metadata": {},
     "output_type": "execute_result"
    }
   ],
   "source": [
    "# Observe the dataset\n",
    "merged_data.head()"
   ]
  },
  {
   "cell_type": "code",
   "execution_count": 4,
   "id": "eec3d305",
   "metadata": {},
   "outputs": [],
   "source": [
    "def get_unmod_features(df):\n",
    "    return df.iloc[:, 950:102411]\n",
    "\n",
    "def get_variant_features(df):\n",
    "    return df.iloc[:, 102411:]\n",
    "\n",
    "def get_meta_features(df):\n",
    "    return df.iloc[:, 9:950]\n",
    "\n",
    "def get_all_features(df):\n",
    "    return df.iloc[:, 9:].copy()\n",
    "\n",
    "def get_y(df):\n",
    "    return df.iloc[:, :7].copy()\n",
    "\n",
    "def get_y_covid(df):\n",
    "    return df.loc[:, \"y_covid\"]"
   ]
  },
  {
   "cell_type": "code",
   "execution_count": 5,
   "id": "f0559ffd",
   "metadata": {},
   "outputs": [],
   "source": [
    "merged_data_y = get_y(merged_data)"
   ]
  },
  {
   "cell_type": "code",
   "execution_count": 6,
   "id": "6940ddbc",
   "metadata": {},
   "outputs": [
    {
     "data": {
      "text/html": [
       "<div>\n",
       "<style scoped>\n",
       "    .dataframe tbody tr th:only-of-type {\n",
       "        vertical-align: middle;\n",
       "    }\n",
       "\n",
       "    .dataframe tbody tr th {\n",
       "        vertical-align: top;\n",
       "    }\n",
       "\n",
       "    .dataframe thead th {\n",
       "        text-align: right;\n",
       "    }\n",
       "</style>\n",
       "<table border=\"1\" class=\"dataframe\">\n",
       "  <thead>\n",
       "    <tr style=\"text-align: right;\">\n",
       "      <th></th>\n",
       "      <th>maestro_column_unmod</th>\n",
       "      <th>maestro_column_variant</th>\n",
       "      <th>patient_id</th>\n",
       "      <th>label</th>\n",
       "      <th>y_covid</th>\n",
       "      <th>y_severe_type</th>\n",
       "      <th>Patient ID a</th>\n",
       "    </tr>\n",
       "  </thead>\n",
       "  <tbody>\n",
       "    <tr>\n",
       "      <th>0</th>\n",
       "      <td>_dyn_#Healthy.HC1.Healthy..HC1.1_intensity_for...</td>\n",
       "      <td>_dyn_#Healthy.HC1.Healthy..HC1.1_intensity_for...</td>\n",
       "      <td>HC1</td>\n",
       "      <td>Healthy</td>\n",
       "      <td>1</td>\n",
       "      <td>0</td>\n",
       "      <td>HC1</td>\n",
       "    </tr>\n",
       "    <tr>\n",
       "      <th>1</th>\n",
       "      <td>_dyn_#Healthy.HC10.Healthy..HC10.1_intensity_f...</td>\n",
       "      <td>_dyn_#Healthy.HC10.Healthy..HC10.1_intensity_f...</td>\n",
       "      <td>HC10</td>\n",
       "      <td>Healthy</td>\n",
       "      <td>1</td>\n",
       "      <td>0</td>\n",
       "      <td>HC10</td>\n",
       "    </tr>\n",
       "    <tr>\n",
       "      <th>2</th>\n",
       "      <td>_dyn_#Healthy.HC12.Healthy..HC12.1_intensity_f...</td>\n",
       "      <td>_dyn_#Healthy.HC12.Healthy..HC12.1_intensity_f...</td>\n",
       "      <td>HC12</td>\n",
       "      <td>Healthy</td>\n",
       "      <td>1</td>\n",
       "      <td>0</td>\n",
       "      <td>HC12</td>\n",
       "    </tr>\n",
       "    <tr>\n",
       "      <th>3</th>\n",
       "      <td>_dyn_#Healthy.HC13.Healthy..HC13.1_intensity_f...</td>\n",
       "      <td>_dyn_#Healthy.HC13.Healthy..HC13.1_intensity_f...</td>\n",
       "      <td>HC13</td>\n",
       "      <td>Healthy</td>\n",
       "      <td>1</td>\n",
       "      <td>0</td>\n",
       "      <td>HC13</td>\n",
       "    </tr>\n",
       "    <tr>\n",
       "      <th>4</th>\n",
       "      <td>_dyn_#Healthy.HC17.Healthy..HC17.1_intensity_f...</td>\n",
       "      <td>_dyn_#Healthy.HC17.Healthy..HC17.1_intensity_f...</td>\n",
       "      <td>HC17</td>\n",
       "      <td>Healthy</td>\n",
       "      <td>1</td>\n",
       "      <td>0</td>\n",
       "      <td>HC17</td>\n",
       "    </tr>\n",
       "  </tbody>\n",
       "</table>\n",
       "</div>"
      ],
      "text/plain": [
       "                                maestro_column_unmod  \\\n",
       "0  _dyn_#Healthy.HC1.Healthy..HC1.1_intensity_for...   \n",
       "1  _dyn_#Healthy.HC10.Healthy..HC10.1_intensity_f...   \n",
       "2  _dyn_#Healthy.HC12.Healthy..HC12.1_intensity_f...   \n",
       "3  _dyn_#Healthy.HC13.Healthy..HC13.1_intensity_f...   \n",
       "4  _dyn_#Healthy.HC17.Healthy..HC17.1_intensity_f...   \n",
       "\n",
       "                              maestro_column_variant patient_id    label  \\\n",
       "0  _dyn_#Healthy.HC1.Healthy..HC1.1_intensity_for...        HC1  Healthy   \n",
       "1  _dyn_#Healthy.HC10.Healthy..HC10.1_intensity_f...       HC10  Healthy   \n",
       "2  _dyn_#Healthy.HC12.Healthy..HC12.1_intensity_f...       HC12  Healthy   \n",
       "3  _dyn_#Healthy.HC13.Healthy..HC13.1_intensity_f...       HC13  Healthy   \n",
       "4  _dyn_#Healthy.HC17.Healthy..HC17.1_intensity_f...       HC17  Healthy   \n",
       "\n",
       "   y_covid  y_severe_type Patient ID a  \n",
       "0        1              0          HC1  \n",
       "1        1              0         HC10  \n",
       "2        1              0         HC12  \n",
       "3        1              0         HC13  \n",
       "4        1              0         HC17  "
      ]
     },
     "execution_count": 6,
     "metadata": {},
     "output_type": "execute_result"
    }
   ],
   "source": [
    "merged_data_y.head()"
   ]
  },
  {
   "cell_type": "code",
   "execution_count": 7,
   "id": "2710fd1d",
   "metadata": {},
   "outputs": [],
   "source": [
    "merged_data_X = get_all_features(merged_data)"
   ]
  },
  {
   "cell_type": "code",
   "execution_count": 8,
   "id": "8d537ad5",
   "metadata": {},
   "outputs": [
    {
     "data": {
      "text/html": [
       "<div>\n",
       "<style scoped>\n",
       "    .dataframe tbody tr th:only-of-type {\n",
       "        vertical-align: middle;\n",
       "    }\n",
       "\n",
       "    .dataframe tbody tr th {\n",
       "        vertical-align: top;\n",
       "    }\n",
       "\n",
       "    .dataframe thead th {\n",
       "        text-align: right;\n",
       "    }\n",
       "</style>\n",
       "<table border=\"1\" class=\"dataframe\">\n",
       "  <thead>\n",
       "    <tr style=\"text-align: right;\">\n",
       "      <th></th>\n",
       "      <th>(14 or 15)-methylpalmitate (a17:0 or i17:0)</th>\n",
       "      <th>(16 or 17)-methylstearate (a19:0 or i19:0)</th>\n",
       "      <th>(2 or 3)-decenoate (10:1n7 or n8)</th>\n",
       "      <th>(2,4 or 2,5)-dimethylphenol sulfate</th>\n",
       "      <th>(R)-3-hydroxybutyrylcarnitine</th>\n",
       "      <th>(S)-3-hydroxybutyrylcarnitine</th>\n",
       "      <th>(S)-a-amino-omega-caprolactam</th>\n",
       "      <th>1-(1-enyl-oleoyl)-GPE (P-18:1)*</th>\n",
       "      <th>1-(1-enyl-palmitoyl)-2-arachidonoyl-GPC (P-16:0/20:4)*</th>\n",
       "      <th>1-(1-enyl-palmitoyl)-2-arachidonoyl-GPE (P-16:0/20:4)*</th>\n",
       "      <th>...</th>\n",
       "      <th>variant_ccms_row_101452</th>\n",
       "      <th>variant_ccms_row_101453</th>\n",
       "      <th>variant_ccms_row_101454</th>\n",
       "      <th>variant_ccms_row_101455</th>\n",
       "      <th>variant_ccms_row_101456</th>\n",
       "      <th>variant_ccms_row_101457</th>\n",
       "      <th>variant_ccms_row_101458</th>\n",
       "      <th>variant_ccms_row_101459</th>\n",
       "      <th>variant_ccms_row_101460</th>\n",
       "      <th>variant_ccms_row_101461</th>\n",
       "    </tr>\n",
       "  </thead>\n",
       "  <tbody>\n",
       "    <tr>\n",
       "      <th>0</th>\n",
       "      <td>7439425</td>\n",
       "      <td>1007010.0625</td>\n",
       "      <td>832046.25</td>\n",
       "      <td>79229.4219</td>\n",
       "      <td>NaN</td>\n",
       "      <td>NaN</td>\n",
       "      <td>NaN</td>\n",
       "      <td>1986184.875</td>\n",
       "      <td>44282120</td>\n",
       "      <td>21753136</td>\n",
       "      <td>...</td>\n",
       "      <td>0.0</td>\n",
       "      <td>1.958825</td>\n",
       "      <td>0.00000</td>\n",
       "      <td>0.000000</td>\n",
       "      <td>1.174198</td>\n",
       "      <td>0.0</td>\n",
       "      <td>0.0</td>\n",
       "      <td>0.0</td>\n",
       "      <td>0.370040</td>\n",
       "      <td>0.0</td>\n",
       "    </tr>\n",
       "    <tr>\n",
       "      <th>1</th>\n",
       "      <td>16636076</td>\n",
       "      <td>1793032.25</td>\n",
       "      <td>447215.5625</td>\n",
       "      <td>326591.0938</td>\n",
       "      <td>NaN</td>\n",
       "      <td>NaN</td>\n",
       "      <td>757049.25</td>\n",
       "      <td>1187651.25</td>\n",
       "      <td>28710652</td>\n",
       "      <td>12963986</td>\n",
       "      <td>...</td>\n",
       "      <td>0.0</td>\n",
       "      <td>2.544654</td>\n",
       "      <td>0.00000</td>\n",
       "      <td>0.000000</td>\n",
       "      <td>0.000000</td>\n",
       "      <td>0.0</td>\n",
       "      <td>0.0</td>\n",
       "      <td>0.0</td>\n",
       "      <td>0.000000</td>\n",
       "      <td>0.0</td>\n",
       "    </tr>\n",
       "    <tr>\n",
       "      <th>2</th>\n",
       "      <td>9140857</td>\n",
       "      <td>1179147.375</td>\n",
       "      <td>443550.2188</td>\n",
       "      <td>198629.5156</td>\n",
       "      <td>NaN</td>\n",
       "      <td>NaN</td>\n",
       "      <td>915471.5</td>\n",
       "      <td>781512</td>\n",
       "      <td>20551872</td>\n",
       "      <td>7749758.5</td>\n",
       "      <td>...</td>\n",
       "      <td>0.0</td>\n",
       "      <td>0.913199</td>\n",
       "      <td>0.00000</td>\n",
       "      <td>0.000000</td>\n",
       "      <td>0.000000</td>\n",
       "      <td>0.0</td>\n",
       "      <td>0.0</td>\n",
       "      <td>0.0</td>\n",
       "      <td>0.000000</td>\n",
       "      <td>0.0</td>\n",
       "    </tr>\n",
       "    <tr>\n",
       "      <th>3</th>\n",
       "      <td>7863659.5</td>\n",
       "      <td>1027411.125</td>\n",
       "      <td>838084.8125</td>\n",
       "      <td>49912.3047</td>\n",
       "      <td>NaN</td>\n",
       "      <td>NaN</td>\n",
       "      <td>305460.7813</td>\n",
       "      <td>479870.2813</td>\n",
       "      <td>17261926</td>\n",
       "      <td>6189067</td>\n",
       "      <td>...</td>\n",
       "      <td>0.0</td>\n",
       "      <td>1.035449</td>\n",
       "      <td>0.00000</td>\n",
       "      <td>0.000000</td>\n",
       "      <td>0.000000</td>\n",
       "      <td>0.0</td>\n",
       "      <td>0.0</td>\n",
       "      <td>0.0</td>\n",
       "      <td>0.000000</td>\n",
       "      <td>0.0</td>\n",
       "    </tr>\n",
       "    <tr>\n",
       "      <th>4</th>\n",
       "      <td>7996507.5</td>\n",
       "      <td>823444.4375</td>\n",
       "      <td>279286.1875</td>\n",
       "      <td>134257.1563</td>\n",
       "      <td>208471.2188</td>\n",
       "      <td>334848.4063</td>\n",
       "      <td>676507.4375</td>\n",
       "      <td>1719241</td>\n",
       "      <td>24612552</td>\n",
       "      <td>12316496</td>\n",
       "      <td>...</td>\n",
       "      <td>0.0</td>\n",
       "      <td>0.110892</td>\n",
       "      <td>0.81455</td>\n",
       "      <td>0.863862</td>\n",
       "      <td>0.000000</td>\n",
       "      <td>0.0</td>\n",
       "      <td>0.0</td>\n",
       "      <td>0.0</td>\n",
       "      <td>0.791905</td>\n",
       "      <td>0.0</td>\n",
       "    </tr>\n",
       "  </tbody>\n",
       "</table>\n",
       "<p>5 rows × 203863 columns</p>\n",
       "</div>"
      ],
      "text/plain": [
       "  (14 or 15)-methylpalmitate (a17:0 or i17:0)  \\\n",
       "0                                     7439425   \n",
       "1                                    16636076   \n",
       "2                                     9140857   \n",
       "3                                   7863659.5   \n",
       "4                                   7996507.5   \n",
       "\n",
       "  (16 or 17)-methylstearate (a19:0 or i19:0)  \\\n",
       "0                               1007010.0625   \n",
       "1                                 1793032.25   \n",
       "2                                1179147.375   \n",
       "3                                1027411.125   \n",
       "4                                823444.4375   \n",
       "\n",
       "  (2 or 3)-decenoate (10:1n7 or n8) (2,4 or 2,5)-dimethylphenol sulfate  \\\n",
       "0                         832046.25                          79229.4219   \n",
       "1                       447215.5625                         326591.0938   \n",
       "2                       443550.2188                         198629.5156   \n",
       "3                       838084.8125                          49912.3047   \n",
       "4                       279286.1875                         134257.1563   \n",
       "\n",
       "  (R)-3-hydroxybutyrylcarnitine (S)-3-hydroxybutyrylcarnitine  \\\n",
       "0                           NaN                           NaN   \n",
       "1                           NaN                           NaN   \n",
       "2                           NaN                           NaN   \n",
       "3                           NaN                           NaN   \n",
       "4                   208471.2188                   334848.4063   \n",
       "\n",
       "  (S)-a-amino-omega-caprolactam 1-(1-enyl-oleoyl)-GPE (P-18:1)*  \\\n",
       "0                           NaN                     1986184.875   \n",
       "1                     757049.25                      1187651.25   \n",
       "2                      915471.5                          781512   \n",
       "3                   305460.7813                     479870.2813   \n",
       "4                   676507.4375                         1719241   \n",
       "\n",
       "  1-(1-enyl-palmitoyl)-2-arachidonoyl-GPC (P-16:0/20:4)*  \\\n",
       "0                                           44282120       \n",
       "1                                           28710652       \n",
       "2                                           20551872       \n",
       "3                                           17261926       \n",
       "4                                           24612552       \n",
       "\n",
       "  1-(1-enyl-palmitoyl)-2-arachidonoyl-GPE (P-16:0/20:4)*  ...  \\\n",
       "0                                           21753136      ...   \n",
       "1                                           12963986      ...   \n",
       "2                                          7749758.5      ...   \n",
       "3                                            6189067      ...   \n",
       "4                                           12316496      ...   \n",
       "\n",
       "  variant_ccms_row_101452 variant_ccms_row_101453 variant_ccms_row_101454  \\\n",
       "0                     0.0                1.958825                 0.00000   \n",
       "1                     0.0                2.544654                 0.00000   \n",
       "2                     0.0                0.913199                 0.00000   \n",
       "3                     0.0                1.035449                 0.00000   \n",
       "4                     0.0                0.110892                 0.81455   \n",
       "\n",
       "  variant_ccms_row_101455 variant_ccms_row_101456 variant_ccms_row_101457  \\\n",
       "0                0.000000                1.174198                     0.0   \n",
       "1                0.000000                0.000000                     0.0   \n",
       "2                0.000000                0.000000                     0.0   \n",
       "3                0.000000                0.000000                     0.0   \n",
       "4                0.863862                0.000000                     0.0   \n",
       "\n",
       "  variant_ccms_row_101458 variant_ccms_row_101459 variant_ccms_row_101460  \\\n",
       "0                     0.0                     0.0                0.370040   \n",
       "1                     0.0                     0.0                0.000000   \n",
       "2                     0.0                     0.0                0.000000   \n",
       "3                     0.0                     0.0                0.000000   \n",
       "4                     0.0                     0.0                0.791905   \n",
       "\n",
       "  variant_ccms_row_101461  \n",
       "0                     0.0  \n",
       "1                     0.0  \n",
       "2                     0.0  \n",
       "3                     0.0  \n",
       "4                     0.0  \n",
       "\n",
       "[5 rows x 203863 columns]"
      ]
     },
     "execution_count": 8,
     "metadata": {},
     "output_type": "execute_result"
    }
   ],
   "source": [
    "merged_data_X.head()"
   ]
  },
  {
   "cell_type": "markdown",
   "id": "2efdd11e",
   "metadata": {},
   "source": [
    "### Handling missing values\n",
    "###### How many columns have missing values?"
   ]
  },
  {
   "cell_type": "code",
   "execution_count": 9,
   "id": "607e4341",
   "metadata": {},
   "outputs": [
    {
     "data": {
      "text/plain": [
       "False    202595\n",
       "True       1268\n",
       "dtype: int64"
      ]
     },
     "execution_count": 9,
     "metadata": {},
     "output_type": "execute_result"
    }
   ],
   "source": [
    "(merged_data_X.isnull().sum() > 0).value_counts()"
   ]
  },
  {
   "cell_type": "markdown",
   "id": "ed1a3c65",
   "metadata": {},
   "source": [
    "##### Mean imputation for missing values"
   ]
  },
  {
   "cell_type": "code",
   "execution_count": 10,
   "id": "69bbe09d",
   "metadata": {},
   "outputs": [],
   "source": [
    "for i in merged_data_X.columns[merged_data_X.isnull().any(axis = 0)]:     #---Applying Only on variables with NaN values\n",
    "    merged_data_X[i].fillna(merged_data_X[i].mean(), inplace = True)"
   ]
  },
  {
   "cell_type": "markdown",
   "id": "73789104",
   "metadata": {},
   "source": [
    "##### How many columns still have NaN after mean imputation? \n",
    "##### Let us drop all these columns containing all NaN values"
   ]
  },
  {
   "cell_type": "code",
   "execution_count": 11,
   "id": "d978a0dc",
   "metadata": {},
   "outputs": [
    {
     "data": {
      "text/plain": [
       "False    203129\n",
       "True        734\n",
       "dtype: int64"
      ]
     },
     "execution_count": 11,
     "metadata": {},
     "output_type": "execute_result"
    }
   ],
   "source": [
    "(merged_data_X.isnull().sum() > 0).value_counts()"
   ]
  },
  {
   "cell_type": "code",
   "execution_count": 12,
   "id": "d75624ae",
   "metadata": {},
   "outputs": [],
   "source": [
    "merged_data_X.dropna(axis = 1, how = 'all', inplace = True)"
   ]
  },
  {
   "cell_type": "markdown",
   "id": "df4ee632",
   "metadata": {},
   "source": [
    "##### No more NaN values in the dataset"
   ]
  },
  {
   "cell_type": "code",
   "execution_count": 13,
   "id": "4b390d77",
   "metadata": {},
   "outputs": [
    {
     "data": {
      "text/plain": [
       "(False,\n",
       " False    203129\n",
       " dtype: int64)"
      ]
     },
     "execution_count": 13,
     "metadata": {},
     "output_type": "execute_result"
    }
   ],
   "source": [
    "merged_data_X.isnull().values.any(), (merged_data_X.isnull().sum() > 0).value_counts()"
   ]
  },
  {
   "cell_type": "markdown",
   "id": "f67df6b2",
   "metadata": {},
   "source": [
    "# Problem: Covid v/s Non-Covid\n",
    "## Experiment with Dimensionality Reduction techniques\n",
    "### Based on Pisit's initial analysis with Random Forest and Boosted trees we saw roughly around 75-85 features being used - rest were all dropped. For that reason I choose to reduce our data dimensions to total of 100 (for all types of data), 45 for unmod pep, 45 for variant peptide and 10 for metabolomics data"
   ]
  },
  {
   "cell_type": "code",
   "execution_count": 24,
   "id": "ee9ce3a4",
   "metadata": {},
   "outputs": [],
   "source": [
    "def get_splits(X_dataset_df, y):\n",
    "    # Prepare our data for analysis - keep distribution of classes same in all the sets\n",
    "    X_train, X_test_, y_train, y_test_ = train_test_split(X_dataset_df, y, test_size = 0.3, random_state = RANDOM_STATE, stratify = y)\n",
    "    X_test, X_val, y_test, y_val = train_test_split(X_test_, y_test_, test_size = 0.5, random_state = RANDOM_STATE, stratify = y_test_)\n",
    "    \n",
    "    print(y_train.value_counts(), y_val.value_counts(), y_test.value_counts(), end=\"\\n\")\n",
    "        \n",
    "    return X_train, y_train, X_val, y_val, X_test, y_test\n",
    "\n",
    "def train_and_eval(X_train, y_train, X_val, y_val, X_test, y_test):\n",
    "    model = SVC()\n",
    "    \n",
    "    model.fit(X_train, y_train)\n",
    "    \n",
    "    print(accuracy_score(model.predict(X_train), y_train))\n",
    "    print(accuracy_score(model.predict(X_val), y_val))\n",
    "    print(accuracy_score(model.predict(X_test), y_test))\n",
    "    \n",
    "    "
   ]
  },
  {
   "cell_type": "markdown",
   "id": "c665255c",
   "metadata": {},
   "source": [
    "## 1. PCA (n=50)\n",
    "### All features"
   ]
  },
  {
   "cell_type": "code",
   "execution_count": 33,
   "id": "e4745288",
   "metadata": {},
   "outputs": [
    {
     "name": "stdout",
     "output_type": "stream",
     "text": [
      "Time for PCA is: 6.851558s\n",
      "1    41\n",
      "0    17\n",
      "Name: y_covid, dtype: int64 1    9\n",
      "0    4\n",
      "Name: y_covid, dtype: int64 1    9\n",
      "0    3\n",
      "Name: y_covid, dtype: int64\n"
     ]
    }
   ],
   "source": [
    "from sklearn.decomposition import PCA\n",
    "\n",
    "pca = PCA(n_components=50)\n",
    "t1 = datetime.now()\n",
    "reduced_X_pca = pca.fit_transform(merged_data_X)\n",
    "print(f\"Time for PCA is: {(datetime.now() - t1).total_seconds()}s\")\n",
    "\n",
    "X_train_pca, y_train_pca, X_val_pca, y_val_pca, X_test_pca, y_test_pca = get_splits(reduced_X_pca, merged_data_y[\"y_covid\"])"
   ]
  },
  {
   "cell_type": "code",
   "execution_count": 34,
   "id": "a7258508",
   "metadata": {},
   "outputs": [
    {
     "name": "stdout",
     "output_type": "stream",
     "text": [
      "0.896551724137931\n",
      "0.7692307692307693\n",
      "0.9166666666666666\n"
     ]
    }
   ],
   "source": [
    "train_and_eval(X_train_pca, y_train_pca, X_val_pca, y_val_pca, X_test_pca, y_test_pca)"
   ]
  },
  {
   "cell_type": "markdown",
   "id": "941a237c",
   "metadata": {},
   "source": [
    "## 2. Factor Analysis (FA) (n=50)\n",
    "### All features"
   ]
  },
  {
   "cell_type": "code",
   "execution_count": 35,
   "id": "75907f5e",
   "metadata": {},
   "outputs": [
    {
     "name": "stdout",
     "output_type": "stream",
     "text": [
      "Time for PCA is: 46.463107s\n",
      "1    41\n",
      "0    17\n",
      "Name: y_covid, dtype: int64 1    9\n",
      "0    4\n",
      "Name: y_covid, dtype: int64 1    9\n",
      "0    3\n",
      "Name: y_covid, dtype: int64\n"
     ]
    }
   ],
   "source": [
    "from sklearn.decomposition import FactorAnalysis\n",
    "\n",
    "fa = FactorAnalysis(n_components=50, random_state=RANDOM_STATE)\n",
    "t1 = datetime.now()\n",
    "reduced_X_fa = fa.fit_transform(merged_data_X)\n",
    "print(f\"Time for FA is: {(datetime.now() - t1).total_seconds()}s\")\n",
    "\n",
    "X_train_fa, y_train_fa, X_val_fa, y_val_fa, X_test_fa, y_test_fa = get_splits(reduced_X_fa, merged_data_y[\"y_covid\"])"
   ]
  },
  {
   "cell_type": "code",
   "execution_count": 36,
   "id": "e30617fa",
   "metadata": {},
   "outputs": [
    {
     "name": "stdout",
     "output_type": "stream",
     "text": [
      "0.8793103448275862\n",
      "0.6923076923076923\n",
      "0.75\n"
     ]
    }
   ],
   "source": [
    "train_and_eval(X_train_fa, y_train_fa, X_val_fa, y_val_fa, X_test_fa, y_test_fa)"
   ]
  },
  {
   "cell_type": "markdown",
   "id": "d772ee42",
   "metadata": {},
   "source": [
    "## 3. TruncatedSVD (n=50)\n",
    "### All features"
   ]
  },
  {
   "cell_type": "code",
   "execution_count": 41,
   "id": "f71dc5e1",
   "metadata": {},
   "outputs": [
    {
     "name": "stdout",
     "output_type": "stream",
     "text": [
      "Time for TruncatedSVD is: 6.792177s\n",
      "1    41\n",
      "0    17\n",
      "Name: y_covid, dtype: int64 1    9\n",
      "0    4\n",
      "Name: y_covid, dtype: int64 1    9\n",
      "0    3\n",
      "Name: y_covid, dtype: int64\n"
     ]
    }
   ],
   "source": [
    "from sklearn.decomposition import TruncatedSVD\n",
    "\n",
    "t1 = datetime.now()\n",
    "svd = TruncatedSVD(n_components=50, algorithm='randomized',random_state=RANDOM_STATE)\n",
    "reduced_X_svd = svd.fit_transform(merged_data_X)\n",
    "print(f\"Time for TruncatedSVD is: {(datetime.now() - t1).total_seconds()}s\")\n",
    "\n",
    "X_train_svd, y_train_svd, X_val_svd, y_val_svd, X_test_svd, y_test_svd = get_splits(reduced_X_svd, merged_data_y[\"y_covid\"])"
   ]
  },
  {
   "cell_type": "code",
   "execution_count": 42,
   "id": "b14947f1",
   "metadata": {},
   "outputs": [
    {
     "name": "stdout",
     "output_type": "stream",
     "text": [
      "0.7241379310344828\n",
      "0.6923076923076923\n",
      "0.75\n"
     ]
    }
   ],
   "source": [
    "train_and_eval(X_train_svd, y_train_svd, X_val_svd, y_val_svd, X_test_svd, y_test_svd)"
   ]
  },
  {
   "cell_type": "markdown",
   "id": "f03d9141",
   "metadata": {},
   "source": [
    "## 4. KernelPCA (n=50)\n",
    "### All features"
   ]
  },
  {
   "cell_type": "code",
   "execution_count": 44,
   "id": "18c7e0d1",
   "metadata": {},
   "outputs": [
    {
     "name": "stdout",
     "output_type": "stream",
     "text": [
      "Time for kPCA is: 5.161817s\n",
      "1    41\n",
      "0    17\n",
      "Name: y_covid, dtype: int64 1    9\n",
      "0    4\n",
      "Name: y_covid, dtype: int64 1    9\n",
      "0    3\n",
      "Name: y_covid, dtype: int64\n"
     ]
    }
   ],
   "source": [
    "from sklearn.decomposition import KernelPCA\n",
    "\n",
    "kpca = KernelPCA(n_components=50, kernel='rbf', random_state=RANDOM_STATE)\n",
    "t1 = datetime.now()\n",
    "reduced_X_kpca = kpca.fit_transform(merged_data_X)\n",
    "print(f\"Time for kPCA is: {(datetime.now() - t1).total_seconds()}s\")\n",
    "\n",
    "X_train_kpca, y_train_kpca, X_val_kpca, y_val_kpca, X_test_kpca, y_test_kpca = get_splits(reduced_X_kpca, merged_data_y[\"y_covid\"])"
   ]
  },
  {
   "cell_type": "code",
   "execution_count": 45,
   "id": "f81b7677",
   "metadata": {},
   "outputs": [
    {
     "name": "stdout",
     "output_type": "stream",
     "text": [
      "0.9482758620689655\n",
      "0.6923076923076923\n",
      "0.75\n"
     ]
    }
   ],
   "source": [
    "train_and_eval(X_train_kpca, y_train_kpca, X_val_kpca, y_val_kpca, X_test_kpca, y_test_kpca)"
   ]
  },
  {
   "cell_type": "code",
   "execution_count": null,
   "id": "354f53e8",
   "metadata": {},
   "outputs": [],
   "source": []
  }
 ],
 "metadata": {
  "kernelspec": {
   "display_name": "Python 3 (ipykernel)",
   "language": "python",
   "name": "python3"
  },
  "language_info": {
   "codemirror_mode": {
    "name": "ipython",
    "version": 3
   },
   "file_extension": ".py",
   "mimetype": "text/x-python",
   "name": "python",
   "nbconvert_exporter": "python",
   "pygments_lexer": "ipython3",
   "version": "3.9.12"
  }
 },
 "nbformat": 4,
 "nbformat_minor": 5
}
