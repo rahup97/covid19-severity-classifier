{
  "nbformat": 4,
  "nbformat_minor": 0,
  "metadata": {
    "colab": {
      "name": "covid19-sera-feature-selection.ipynb",
      "provenance": []
    },
    "kernelspec": {
      "name": "python3",
      "display_name": "Python 3"
    },
    "language_info": {
      "name": "python"
    }
  },
  "cells": [
    {
      "cell_type": "code",
      "execution_count": null,
      "metadata": {
        "id": "8noX7ICU8gSc"
      },
      "outputs": [],
      "source": [
        "import numpy as np\n",
        "import pandas as pd\n",
        "import matplotlib.pyplot as plt"
      ]
    },
    {
      "cell_type": "code",
      "source": [
        "dataset_dir = \"/content/drive/MyDrive/ucsd/2022/spring/cse291/COVID19 Sera Data/\""
      ],
      "metadata": {
        "id": "K38t0lsI8toC"
      },
      "execution_count": null,
      "outputs": []
    },
    {
      "cell_type": "code",
      "source": [
        "dataset_df = pd.read_csv(dataset_dir + \"covid19_sera_merged.csv\")\n",
        "dataset_df.head()"
      ],
      "metadata": {
        "colab": {
          "base_uri": "https://localhost:8080/",
          "height": 352
        },
        "id": "Di6KOvy989Uj",
        "outputId": "f0f3f72c-fe20-46e4-acf5-41a44d89a814"
      },
      "execution_count": null,
      "outputs": [
        {
          "output_type": "execute_result",
          "data": {
            "text/plain": [
              "                                maestro_column_unmod  \\\n",
              "0  _dyn_#Healthy.HC1.Healthy..HC1.1_intensity_for...   \n",
              "1  _dyn_#Healthy.HC10.Healthy..HC10.1_intensity_f...   \n",
              "2  _dyn_#Healthy.HC12.Healthy..HC12.1_intensity_f...   \n",
              "3  _dyn_#Healthy.HC13.Healthy..HC13.1_intensity_f...   \n",
              "4  _dyn_#Healthy.HC17.Healthy..HC17.1_intensity_f...   \n",
              "\n",
              "                              maestro_column_variant patient_id    label  \\\n",
              "0  _dyn_#Healthy.HC1.Healthy..HC1.1_intensity_for...        HC1  Healthy   \n",
              "1  _dyn_#Healthy.HC10.Healthy..HC10.1_intensity_f...       HC10  Healthy   \n",
              "2  _dyn_#Healthy.HC12.Healthy..HC12.1_intensity_f...       HC12  Healthy   \n",
              "3  _dyn_#Healthy.HC13.Healthy..HC13.1_intensity_f...       HC13  Healthy   \n",
              "4  _dyn_#Healthy.HC17.Healthy..HC17.1_intensity_f...       HC17  Healthy   \n",
              "\n",
              "   y_covid  y_severe_type Patient ID a Metabolomics ID e Metabolites  \\\n",
              "0        1              0          HC1             jkdz1       jkdz1   \n",
              "1        1              0         HC10            jkdz10      jkdz10   \n",
              "2        1              0         HC12            jkdz12      jkdz12   \n",
              "3        1              0         HC13            jkdz13      jkdz13   \n",
              "4        1              0         HC17            jkdz17      jkdz17   \n",
              "\n",
              "   (14 or 15)-methylpalmitate (a17:0 or i17:0)  ...  variant_ccms_row_101452  \\\n",
              "0                                    7439425.0  ...                      0.0   \n",
              "1                                   16636076.0  ...                      0.0   \n",
              "2                                    9140857.0  ...                      0.0   \n",
              "3                                    7863659.5  ...                      0.0   \n",
              "4                                    7996507.5  ...                      0.0   \n",
              "\n",
              "   variant_ccms_row_101453  variant_ccms_row_101454  variant_ccms_row_101455  \\\n",
              "0                 1.958825                  0.00000                 0.000000   \n",
              "1                 2.544654                  0.00000                 0.000000   \n",
              "2                 0.913199                  0.00000                 0.000000   \n",
              "3                 1.035449                  0.00000                 0.000000   \n",
              "4                 0.110892                  0.81455                 0.863862   \n",
              "\n",
              "   variant_ccms_row_101456  variant_ccms_row_101457  variant_ccms_row_101458  \\\n",
              "0                 1.174198                      0.0                      0.0   \n",
              "1                 0.000000                      0.0                      0.0   \n",
              "2                 0.000000                      0.0                      0.0   \n",
              "3                 0.000000                      0.0                      0.0   \n",
              "4                 0.000000                      0.0                      0.0   \n",
              "\n",
              "   variant_ccms_row_101459  variant_ccms_row_101460  variant_ccms_row_101461  \n",
              "0                      0.0                 0.370040                      0.0  \n",
              "1                      0.0                 0.000000                      0.0  \n",
              "2                      0.0                 0.000000                      0.0  \n",
              "3                      0.0                 0.000000                      0.0  \n",
              "4                      0.0                 0.791905                      0.0  \n",
              "\n",
              "[5 rows x 203872 columns]"
            ],
            "text/html": [
              "\n",
              "  <div id=\"df-5c76b7c4-1762-4005-8749-d4061915cdfb\">\n",
              "    <div class=\"colab-df-container\">\n",
              "      <div>\n",
              "<style scoped>\n",
              "    .dataframe tbody tr th:only-of-type {\n",
              "        vertical-align: middle;\n",
              "    }\n",
              "\n",
              "    .dataframe tbody tr th {\n",
              "        vertical-align: top;\n",
              "    }\n",
              "\n",
              "    .dataframe thead th {\n",
              "        text-align: right;\n",
              "    }\n",
              "</style>\n",
              "<table border=\"1\" class=\"dataframe\">\n",
              "  <thead>\n",
              "    <tr style=\"text-align: right;\">\n",
              "      <th></th>\n",
              "      <th>maestro_column_unmod</th>\n",
              "      <th>maestro_column_variant</th>\n",
              "      <th>patient_id</th>\n",
              "      <th>label</th>\n",
              "      <th>y_covid</th>\n",
              "      <th>y_severe_type</th>\n",
              "      <th>Patient ID a</th>\n",
              "      <th>Metabolomics ID e</th>\n",
              "      <th>Metabolites</th>\n",
              "      <th>(14 or 15)-methylpalmitate (a17:0 or i17:0)</th>\n",
              "      <th>...</th>\n",
              "      <th>variant_ccms_row_101452</th>\n",
              "      <th>variant_ccms_row_101453</th>\n",
              "      <th>variant_ccms_row_101454</th>\n",
              "      <th>variant_ccms_row_101455</th>\n",
              "      <th>variant_ccms_row_101456</th>\n",
              "      <th>variant_ccms_row_101457</th>\n",
              "      <th>variant_ccms_row_101458</th>\n",
              "      <th>variant_ccms_row_101459</th>\n",
              "      <th>variant_ccms_row_101460</th>\n",
              "      <th>variant_ccms_row_101461</th>\n",
              "    </tr>\n",
              "  </thead>\n",
              "  <tbody>\n",
              "    <tr>\n",
              "      <th>0</th>\n",
              "      <td>_dyn_#Healthy.HC1.Healthy..HC1.1_intensity_for...</td>\n",
              "      <td>_dyn_#Healthy.HC1.Healthy..HC1.1_intensity_for...</td>\n",
              "      <td>HC1</td>\n",
              "      <td>Healthy</td>\n",
              "      <td>1</td>\n",
              "      <td>0</td>\n",
              "      <td>HC1</td>\n",
              "      <td>jkdz1</td>\n",
              "      <td>jkdz1</td>\n",
              "      <td>7439425.0</td>\n",
              "      <td>...</td>\n",
              "      <td>0.0</td>\n",
              "      <td>1.958825</td>\n",
              "      <td>0.00000</td>\n",
              "      <td>0.000000</td>\n",
              "      <td>1.174198</td>\n",
              "      <td>0.0</td>\n",
              "      <td>0.0</td>\n",
              "      <td>0.0</td>\n",
              "      <td>0.370040</td>\n",
              "      <td>0.0</td>\n",
              "    </tr>\n",
              "    <tr>\n",
              "      <th>1</th>\n",
              "      <td>_dyn_#Healthy.HC10.Healthy..HC10.1_intensity_f...</td>\n",
              "      <td>_dyn_#Healthy.HC10.Healthy..HC10.1_intensity_f...</td>\n",
              "      <td>HC10</td>\n",
              "      <td>Healthy</td>\n",
              "      <td>1</td>\n",
              "      <td>0</td>\n",
              "      <td>HC10</td>\n",
              "      <td>jkdz10</td>\n",
              "      <td>jkdz10</td>\n",
              "      <td>16636076.0</td>\n",
              "      <td>...</td>\n",
              "      <td>0.0</td>\n",
              "      <td>2.544654</td>\n",
              "      <td>0.00000</td>\n",
              "      <td>0.000000</td>\n",
              "      <td>0.000000</td>\n",
              "      <td>0.0</td>\n",
              "      <td>0.0</td>\n",
              "      <td>0.0</td>\n",
              "      <td>0.000000</td>\n",
              "      <td>0.0</td>\n",
              "    </tr>\n",
              "    <tr>\n",
              "      <th>2</th>\n",
              "      <td>_dyn_#Healthy.HC12.Healthy..HC12.1_intensity_f...</td>\n",
              "      <td>_dyn_#Healthy.HC12.Healthy..HC12.1_intensity_f...</td>\n",
              "      <td>HC12</td>\n",
              "      <td>Healthy</td>\n",
              "      <td>1</td>\n",
              "      <td>0</td>\n",
              "      <td>HC12</td>\n",
              "      <td>jkdz12</td>\n",
              "      <td>jkdz12</td>\n",
              "      <td>9140857.0</td>\n",
              "      <td>...</td>\n",
              "      <td>0.0</td>\n",
              "      <td>0.913199</td>\n",
              "      <td>0.00000</td>\n",
              "      <td>0.000000</td>\n",
              "      <td>0.000000</td>\n",
              "      <td>0.0</td>\n",
              "      <td>0.0</td>\n",
              "      <td>0.0</td>\n",
              "      <td>0.000000</td>\n",
              "      <td>0.0</td>\n",
              "    </tr>\n",
              "    <tr>\n",
              "      <th>3</th>\n",
              "      <td>_dyn_#Healthy.HC13.Healthy..HC13.1_intensity_f...</td>\n",
              "      <td>_dyn_#Healthy.HC13.Healthy..HC13.1_intensity_f...</td>\n",
              "      <td>HC13</td>\n",
              "      <td>Healthy</td>\n",
              "      <td>1</td>\n",
              "      <td>0</td>\n",
              "      <td>HC13</td>\n",
              "      <td>jkdz13</td>\n",
              "      <td>jkdz13</td>\n",
              "      <td>7863659.5</td>\n",
              "      <td>...</td>\n",
              "      <td>0.0</td>\n",
              "      <td>1.035449</td>\n",
              "      <td>0.00000</td>\n",
              "      <td>0.000000</td>\n",
              "      <td>0.000000</td>\n",
              "      <td>0.0</td>\n",
              "      <td>0.0</td>\n",
              "      <td>0.0</td>\n",
              "      <td>0.000000</td>\n",
              "      <td>0.0</td>\n",
              "    </tr>\n",
              "    <tr>\n",
              "      <th>4</th>\n",
              "      <td>_dyn_#Healthy.HC17.Healthy..HC17.1_intensity_f...</td>\n",
              "      <td>_dyn_#Healthy.HC17.Healthy..HC17.1_intensity_f...</td>\n",
              "      <td>HC17</td>\n",
              "      <td>Healthy</td>\n",
              "      <td>1</td>\n",
              "      <td>0</td>\n",
              "      <td>HC17</td>\n",
              "      <td>jkdz17</td>\n",
              "      <td>jkdz17</td>\n",
              "      <td>7996507.5</td>\n",
              "      <td>...</td>\n",
              "      <td>0.0</td>\n",
              "      <td>0.110892</td>\n",
              "      <td>0.81455</td>\n",
              "      <td>0.863862</td>\n",
              "      <td>0.000000</td>\n",
              "      <td>0.0</td>\n",
              "      <td>0.0</td>\n",
              "      <td>0.0</td>\n",
              "      <td>0.791905</td>\n",
              "      <td>0.0</td>\n",
              "    </tr>\n",
              "  </tbody>\n",
              "</table>\n",
              "<p>5 rows × 203872 columns</p>\n",
              "</div>\n",
              "      <button class=\"colab-df-convert\" onclick=\"convertToInteractive('df-5c76b7c4-1762-4005-8749-d4061915cdfb')\"\n",
              "              title=\"Convert this dataframe to an interactive table.\"\n",
              "              style=\"display:none;\">\n",
              "        \n",
              "  <svg xmlns=\"http://www.w3.org/2000/svg\" height=\"24px\"viewBox=\"0 0 24 24\"\n",
              "       width=\"24px\">\n",
              "    <path d=\"M0 0h24v24H0V0z\" fill=\"none\"/>\n",
              "    <path d=\"M18.56 5.44l.94 2.06.94-2.06 2.06-.94-2.06-.94-.94-2.06-.94 2.06-2.06.94zm-11 1L8.5 8.5l.94-2.06 2.06-.94-2.06-.94L8.5 2.5l-.94 2.06-2.06.94zm10 10l.94 2.06.94-2.06 2.06-.94-2.06-.94-.94-2.06-.94 2.06-2.06.94z\"/><path d=\"M17.41 7.96l-1.37-1.37c-.4-.4-.92-.59-1.43-.59-.52 0-1.04.2-1.43.59L10.3 9.45l-7.72 7.72c-.78.78-.78 2.05 0 2.83L4 21.41c.39.39.9.59 1.41.59.51 0 1.02-.2 1.41-.59l7.78-7.78 2.81-2.81c.8-.78.8-2.07 0-2.86zM5.41 20L4 18.59l7.72-7.72 1.47 1.35L5.41 20z\"/>\n",
              "  </svg>\n",
              "      </button>\n",
              "      \n",
              "  <style>\n",
              "    .colab-df-container {\n",
              "      display:flex;\n",
              "      flex-wrap:wrap;\n",
              "      gap: 12px;\n",
              "    }\n",
              "\n",
              "    .colab-df-convert {\n",
              "      background-color: #E8F0FE;\n",
              "      border: none;\n",
              "      border-radius: 50%;\n",
              "      cursor: pointer;\n",
              "      display: none;\n",
              "      fill: #1967D2;\n",
              "      height: 32px;\n",
              "      padding: 0 0 0 0;\n",
              "      width: 32px;\n",
              "    }\n",
              "\n",
              "    .colab-df-convert:hover {\n",
              "      background-color: #E2EBFA;\n",
              "      box-shadow: 0px 1px 2px rgba(60, 64, 67, 0.3), 0px 1px 3px 1px rgba(60, 64, 67, 0.15);\n",
              "      fill: #174EA6;\n",
              "    }\n",
              "\n",
              "    [theme=dark] .colab-df-convert {\n",
              "      background-color: #3B4455;\n",
              "      fill: #D2E3FC;\n",
              "    }\n",
              "\n",
              "    [theme=dark] .colab-df-convert:hover {\n",
              "      background-color: #434B5C;\n",
              "      box-shadow: 0px 1px 3px 1px rgba(0, 0, 0, 0.15);\n",
              "      filter: drop-shadow(0px 1px 2px rgba(0, 0, 0, 0.3));\n",
              "      fill: #FFFFFF;\n",
              "    }\n",
              "  </style>\n",
              "\n",
              "      <script>\n",
              "        const buttonEl =\n",
              "          document.querySelector('#df-5c76b7c4-1762-4005-8749-d4061915cdfb button.colab-df-convert');\n",
              "        buttonEl.style.display =\n",
              "          google.colab.kernel.accessAllowed ? 'block' : 'none';\n",
              "\n",
              "        async function convertToInteractive(key) {\n",
              "          const element = document.querySelector('#df-5c76b7c4-1762-4005-8749-d4061915cdfb');\n",
              "          const dataTable =\n",
              "            await google.colab.kernel.invokeFunction('convertToInteractive',\n",
              "                                                     [key], {});\n",
              "          if (!dataTable) return;\n",
              "\n",
              "          const docLinkHtml = 'Like what you see? Visit the ' +\n",
              "            '<a target=\"_blank\" href=https://colab.research.google.com/notebooks/data_table.ipynb>data table notebook</a>'\n",
              "            + ' to learn more about interactive tables.';\n",
              "          element.innerHTML = '';\n",
              "          dataTable['output_type'] = 'display_data';\n",
              "          await google.colab.output.renderOutput(dataTable, element);\n",
              "          const docLink = document.createElement('div');\n",
              "          docLink.innerHTML = docLinkHtml;\n",
              "          element.appendChild(docLink);\n",
              "        }\n",
              "      </script>\n",
              "    </div>\n",
              "  </div>\n",
              "  "
            ]
          },
          "metadata": {},
          "execution_count": 3
        }
      ]
    },
    {
      "cell_type": "code",
      "source": [
        "dataset_df = dataset_df.fillna(0)"
      ],
      "metadata": {
        "id": "SOvIgZDoJR_0"
      },
      "execution_count": null,
      "outputs": []
    },
    {
      "cell_type": "markdown",
      "source": [
        "## Split train/validation/test set"
      ],
      "metadata": {
        "id": "e2ube77MHIn9"
      }
    },
    {
      "cell_type": "code",
      "source": [
        "from sklearn.model_selection import train_test_split"
      ],
      "metadata": {
        "id": "bEyHSdXuHH_S"
      },
      "execution_count": null,
      "outputs": []
    },
    {
      "cell_type": "code",
      "source": [
        "train_df, test_df = train_test_split(dataset_df, test_size=0.3, random_state=12345)\n",
        "val_df, test_df = train_test_split(test_df, test_size=0.5, random_state=54321)"
      ],
      "metadata": {
        "id": "Acc5AzGIHakB"
      },
      "execution_count": null,
      "outputs": []
    },
    {
      "cell_type": "code",
      "source": [
        "print(train_df.shape)\n",
        "print(val_df.shape)\n",
        "print(test_df.shape)"
      ],
      "metadata": {
        "colab": {
          "base_uri": "https://localhost:8080/"
        },
        "id": "OR-_OBHwIc81",
        "outputId": "275ba5c1-b0e5-4d01-b80d-b51b80e2c756"
      },
      "execution_count": null,
      "outputs": [
        {
          "output_type": "stream",
          "name": "stdout",
          "text": [
            "(58, 203872)\n",
            "(12, 203872)\n",
            "(13, 203872)\n"
          ]
        }
      ]
    },
    {
      "cell_type": "code",
      "source": [
        "train_df[[\"y_severe_type\"]].hist()\n",
        "val_df[[\"y_severe_type\"]].hist()\n",
        "test_df[[\"y_severe_type\"]].hist()\n",
        "plt.show()"
      ],
      "metadata": {
        "colab": {
          "base_uri": "https://localhost:8080/",
          "height": 809
        },
        "id": "HksIdP7I8v3x",
        "outputId": "055af340-baed-4a38-84d7-a0e6a86579f0"
      },
      "execution_count": null,
      "outputs": [
        {
          "output_type": "display_data",
          "data": {
            "text/plain": [
              "<Figure size 432x288 with 1 Axes>"
            ],
            "image/png": "[encoded data removed]"
          },
          "metadata": {
            "needs_background": "light"
          }
        },
        {
          "output_type": "display_data",
          "data": {
            "text/plain": [
              "<Figure size 432x288 with 1 Axes>"
            ],
            "image/png": "[encoded data removed]"
          },
          "metadata": {
            "needs_background": "light"
          }
        },
        {
          "output_type": "display_data",
          "data": {
            "text/plain": [
              "<Figure size 432x288 with 1 Axes>"
            ],
            "image/png": "[encoded data removed]"
          },
          "metadata": {
            "needs_background": "light"
          }
        }
      ]
    },
    {
      "cell_type": "markdown",
      "source": [
        "## Unmod features selection"
      ],
      "metadata": {
        "id": "TEcqANSMJZgr"
      }
    },
    {
      "cell_type": "code",
      "source": [
        "def get_unmod_features(df):\n",
        "  return df.iloc[:, 950:102411]"
      ],
      "metadata": {
        "id": "oVcq4kpHJYQZ"
      },
      "execution_count": null,
      "outputs": []
    },
    {
      "cell_type": "code",
      "source": [
        "unmod_train = get_unmod_features(train_df)\n",
        "unmod_val = get_unmod_features(val_df)\n",
        "unmod_test = get_unmod_features(test_df)"
      ],
      "metadata": {
        "id": "MICycLgmJkYk"
      },
      "execution_count": null,
      "outputs": []
    },
    {
      "cell_type": "code",
      "source": [
        "unmod_train.head()"
      ],
      "metadata": {
        "colab": {
          "base_uri": "https://localhost:8080/",
          "height": 300
        },
        "id": "dk_7phJs9Vsq",
        "outputId": "4b84dd77-8125-4920-a00c-82e4b60cb279"
      },
      "execution_count": null,
      "outputs": [
        {
          "output_type": "execute_result",
          "data": {
            "text/plain": [
              "    unmod_ccms_row_1  unmod_ccms_row_2  unmod_ccms_row_3  unmod_ccms_row_4  \\\n",
              "25               0.0               0.0          0.125162          0.523169   \n",
              "70               0.0               0.0          1.210748          0.000000   \n",
              "28               0.0               0.0          0.757112          0.000000   \n",
              "18               0.0               0.0          0.743318          0.000000   \n",
              "9                0.0               0.0          0.030790          0.000000   \n",
              "\n",
              "    unmod_ccms_row_5  unmod_ccms_row_6  unmod_ccms_row_7  unmod_ccms_row_8  \\\n",
              "25          0.118659          0.623897               0.0          0.000000   \n",
              "70          0.000000          0.000000               0.0          0.165167   \n",
              "28          0.000000          0.000000               0.0          0.273064   \n",
              "18          0.000000          0.000000               0.0          0.254505   \n",
              "9           0.000000          0.000000               0.0          0.000000   \n",
              "\n",
              "    unmod_ccms_row_9  unmod_ccms_row_10  ...  unmod_ccms_row_101452  \\\n",
              "25          0.000000           0.000000  ...               0.475127   \n",
              "70          0.165167           0.165167  ...               0.498211   \n",
              "28          0.273064           0.273064  ...               0.717780   \n",
              "18          0.254505           0.254505  ...               0.650227   \n",
              "9           0.000000           0.000000  ...               1.453239   \n",
              "\n",
              "    unmod_ccms_row_101453  unmod_ccms_row_101454  unmod_ccms_row_101455  \\\n",
              "25               0.475127               0.475127               0.475127   \n",
              "70               0.498211               0.498211               0.498211   \n",
              "28               0.717780               0.717780               0.717780   \n",
              "18               0.650227               0.650227               0.650227   \n",
              "9                1.453239               1.453239               1.453239   \n",
              "\n",
              "    unmod_ccms_row_101456  unmod_ccms_row_101457  unmod_ccms_row_101458  \\\n",
              "25               0.475127               0.475127               0.475127   \n",
              "70               0.498211               0.498211               0.498211   \n",
              "28               0.717780               0.717780               0.717780   \n",
              "18               0.650227               0.650227               0.650227   \n",
              "9                1.453239               1.453239               1.453239   \n",
              "\n",
              "    unmod_ccms_row_101459  unmod_ccms_row_101460  unmod_ccms_row_101461  \n",
              "25               0.475127               0.319976               0.475127  \n",
              "70               0.498211               0.148594               0.498211  \n",
              "28               0.717780               0.200612               0.717780  \n",
              "18               0.650227               0.110129               0.650227  \n",
              "9                1.453239               0.487906               1.453239  \n",
              "\n",
              "[5 rows x 101461 columns]"
            ],
            "text/html": [
              "\n",
              "  <div id=\"df-b989d467-14d0-4442-8aa2-1a7cbf365869\">\n",
              "    <div class=\"colab-df-container\">\n",
              "      <div>\n",
              "<style scoped>\n",
              "    .dataframe tbody tr th:only-of-type {\n",
              "        vertical-align: middle;\n",
              "    }\n",
              "\n",
              "    .dataframe tbody tr th {\n",
              "        vertical-align: top;\n",
              "    }\n",
              "\n",
              "    .dataframe thead th {\n",
              "        text-align: right;\n",
              "    }\n",
              "</style>\n",
              "<table border=\"1\" class=\"dataframe\">\n",
              "  <thead>\n",
              "    <tr style=\"text-align: right;\">\n",
              "      <th></th>\n",
              "      <th>unmod_ccms_row_1</th>\n",
              "      <th>unmod_ccms_row_2</th>\n",
              "      <th>unmod_ccms_row_3</th>\n",
              "      <th>unmod_ccms_row_4</th>\n",
              "      <th>unmod_ccms_row_5</th>\n",
              "      <th>unmod_ccms_row_6</th>\n",
              "      <th>unmod_ccms_row_7</th>\n",
              "      <th>unmod_ccms_row_8</th>\n",
              "      <th>unmod_ccms_row_9</th>\n",
              "      <th>unmod_ccms_row_10</th>\n",
              "      <th>...</th>\n",
              "      <th>unmod_ccms_row_101452</th>\n",
              "      <th>unmod_ccms_row_101453</th>\n",
              "      <th>unmod_ccms_row_101454</th>\n",
              "      <th>unmod_ccms_row_101455</th>\n",
              "      <th>unmod_ccms_row_101456</th>\n",
              "      <th>unmod_ccms_row_101457</th>\n",
              "      <th>unmod_ccms_row_101458</th>\n",
              "      <th>unmod_ccms_row_101459</th>\n",
              "      <th>unmod_ccms_row_101460</th>\n",
              "      <th>unmod_ccms_row_101461</th>\n",
              "    </tr>\n",
              "  </thead>\n",
              "  <tbody>\n",
              "    <tr>\n",
              "      <th>25</th>\n",
              "      <td>0.0</td>\n",
              "      <td>0.0</td>\n",
              "      <td>0.125162</td>\n",
              "      <td>0.523169</td>\n",
              "      <td>0.118659</td>\n",
              "      <td>0.623897</td>\n",
              "      <td>0.0</td>\n",
              "      <td>0.000000</td>\n",
              "      <td>0.000000</td>\n",
              "      <td>0.000000</td>\n",
              "      <td>...</td>\n",
              "      <td>0.475127</td>\n",
              "      <td>0.475127</td>\n",
              "      <td>0.475127</td>\n",
              "      <td>0.475127</td>\n",
              "      <td>0.475127</td>\n",
              "      <td>0.475127</td>\n",
              "      <td>0.475127</td>\n",
              "      <td>0.475127</td>\n",
              "      <td>0.319976</td>\n",
              "      <td>0.475127</td>\n",
              "    </tr>\n",
              "    <tr>\n",
              "      <th>70</th>\n",
              "      <td>0.0</td>\n",
              "      <td>0.0</td>\n",
              "      <td>1.210748</td>\n",
              "      <td>0.000000</td>\n",
              "      <td>0.000000</td>\n",
              "      <td>0.000000</td>\n",
              "      <td>0.0</td>\n",
              "      <td>0.165167</td>\n",
              "      <td>0.165167</td>\n",
              "      <td>0.165167</td>\n",
              "      <td>...</td>\n",
              "      <td>0.498211</td>\n",
              "      <td>0.498211</td>\n",
              "      <td>0.498211</td>\n",
              "      <td>0.498211</td>\n",
              "      <td>0.498211</td>\n",
              "      <td>0.498211</td>\n",
              "      <td>0.498211</td>\n",
              "      <td>0.498211</td>\n",
              "      <td>0.148594</td>\n",
              "      <td>0.498211</td>\n",
              "    </tr>\n",
              "    <tr>\n",
              "      <th>28</th>\n",
              "      <td>0.0</td>\n",
              "      <td>0.0</td>\n",
              "      <td>0.757112</td>\n",
              "      <td>0.000000</td>\n",
              "      <td>0.000000</td>\n",
              "      <td>0.000000</td>\n",
              "      <td>0.0</td>\n",
              "      <td>0.273064</td>\n",
              "      <td>0.273064</td>\n",
              "      <td>0.273064</td>\n",
              "      <td>...</td>\n",
              "      <td>0.717780</td>\n",
              "      <td>0.717780</td>\n",
              "      <td>0.717780</td>\n",
              "      <td>0.717780</td>\n",
              "      <td>0.717780</td>\n",
              "      <td>0.717780</td>\n",
              "      <td>0.717780</td>\n",
              "      <td>0.717780</td>\n",
              "      <td>0.200612</td>\n",
              "      <td>0.717780</td>\n",
              "    </tr>\n",
              "    <tr>\n",
              "      <th>18</th>\n",
              "      <td>0.0</td>\n",
              "      <td>0.0</td>\n",
              "      <td>0.743318</td>\n",
              "      <td>0.000000</td>\n",
              "      <td>0.000000</td>\n",
              "      <td>0.000000</td>\n",
              "      <td>0.0</td>\n",
              "      <td>0.254505</td>\n",
              "      <td>0.254505</td>\n",
              "      <td>0.254505</td>\n",
              "      <td>...</td>\n",
              "      <td>0.650227</td>\n",
              "      <td>0.650227</td>\n",
              "      <td>0.650227</td>\n",
              "      <td>0.650227</td>\n",
              "      <td>0.650227</td>\n",
              "      <td>0.650227</td>\n",
              "      <td>0.650227</td>\n",
              "      <td>0.650227</td>\n",
              "      <td>0.110129</td>\n",
              "      <td>0.650227</td>\n",
              "    </tr>\n",
              "    <tr>\n",
              "      <th>9</th>\n",
              "      <td>0.0</td>\n",
              "      <td>0.0</td>\n",
              "      <td>0.030790</td>\n",
              "      <td>0.000000</td>\n",
              "      <td>0.000000</td>\n",
              "      <td>0.000000</td>\n",
              "      <td>0.0</td>\n",
              "      <td>0.000000</td>\n",
              "      <td>0.000000</td>\n",
              "      <td>0.000000</td>\n",
              "      <td>...</td>\n",
              "      <td>1.453239</td>\n",
              "      <td>1.453239</td>\n",
              "      <td>1.453239</td>\n",
              "      <td>1.453239</td>\n",
              "      <td>1.453239</td>\n",
              "      <td>1.453239</td>\n",
              "      <td>1.453239</td>\n",
              "      <td>1.453239</td>\n",
              "      <td>0.487906</td>\n",
              "      <td>1.453239</td>\n",
              "    </tr>\n",
              "  </tbody>\n",
              "</table>\n",
              "<p>5 rows × 101461 columns</p>\n",
              "</div>\n",
              "      <button class=\"colab-df-convert\" onclick=\"convertToInteractive('df-b989d467-14d0-4442-8aa2-1a7cbf365869')\"\n",
              "              title=\"Convert this dataframe to an interactive table.\"\n",
              "              style=\"display:none;\">\n",
              "        \n",
              "  <svg xmlns=\"http://www.w3.org/2000/svg\" height=\"24px\"viewBox=\"0 0 24 24\"\n",
              "       width=\"24px\">\n",
              "    <path d=\"M0 0h24v24H0V0z\" fill=\"none\"/>\n",
              "    <path d=\"M18.56 5.44l.94 2.06.94-2.06 2.06-.94-2.06-.94-.94-2.06-.94 2.06-2.06.94zm-11 1L8.5 8.5l.94-2.06 2.06-.94-2.06-.94L8.5 2.5l-.94 2.06-2.06.94zm10 10l.94 2.06.94-2.06 2.06-.94-2.06-.94-.94-2.06-.94 2.06-2.06.94z\"/><path d=\"M17.41 7.96l-1.37-1.37c-.4-.4-.92-.59-1.43-.59-.52 0-1.04.2-1.43.59L10.3 9.45l-7.72 7.72c-.78.78-.78 2.05 0 2.83L4 21.41c.39.39.9.59 1.41.59.51 0 1.02-.2 1.41-.59l7.78-7.78 2.81-2.81c.8-.78.8-2.07 0-2.86zM5.41 20L4 18.59l7.72-7.72 1.47 1.35L5.41 20z\"/>\n",
              "  </svg>\n",
              "      </button>\n",
              "      \n",
              "  <style>\n",
              "    .colab-df-container {\n",
              "      display:flex;\n",
              "      flex-wrap:wrap;\n",
              "      gap: 12px;\n",
              "    }\n",
              "\n",
              "    .colab-df-convert {\n",
              "      background-color: #E8F0FE;\n",
              "      border: none;\n",
              "      border-radius: 50%;\n",
              "      cursor: pointer;\n",
              "      display: none;\n",
              "      fill: #1967D2;\n",
              "      height: 32px;\n",
              "      padding: 0 0 0 0;\n",
              "      width: 32px;\n",
              "    }\n",
              "\n",
              "    .colab-df-convert:hover {\n",
              "      background-color: #E2EBFA;\n",
              "      box-shadow: 0px 1px 2px rgba(60, 64, 67, 0.3), 0px 1px 3px 1px rgba(60, 64, 67, 0.15);\n",
              "      fill: #174EA6;\n",
              "    }\n",
              "\n",
              "    [theme=dark] .colab-df-convert {\n",
              "      background-color: #3B4455;\n",
              "      fill: #D2E3FC;\n",
              "    }\n",
              "\n",
              "    [theme=dark] .colab-df-convert:hover {\n",
              "      background-color: #434B5C;\n",
              "      box-shadow: 0px 1px 3px 1px rgba(0, 0, 0, 0.15);\n",
              "      filter: drop-shadow(0px 1px 2px rgba(0, 0, 0, 0.3));\n",
              "      fill: #FFFFFF;\n",
              "    }\n",
              "  </style>\n",
              "\n",
              "      <script>\n",
              "        const buttonEl =\n",
              "          document.querySelector('#df-b989d467-14d0-4442-8aa2-1a7cbf365869 button.colab-df-convert');\n",
              "        buttonEl.style.display =\n",
              "          google.colab.kernel.accessAllowed ? 'block' : 'none';\n",
              "\n",
              "        async function convertToInteractive(key) {\n",
              "          const element = document.querySelector('#df-b989d467-14d0-4442-8aa2-1a7cbf365869');\n",
              "          const dataTable =\n",
              "            await google.colab.kernel.invokeFunction('convertToInteractive',\n",
              "                                                     [key], {});\n",
              "          if (!dataTable) return;\n",
              "\n",
              "          const docLinkHtml = 'Like what you see? Visit the ' +\n",
              "            '<a target=\"_blank\" href=https://colab.research.google.com/notebooks/data_table.ipynb>data table notebook</a>'\n",
              "            + ' to learn more about interactive tables.';\n",
              "          element.innerHTML = '';\n",
              "          dataTable['output_type'] = 'display_data';\n",
              "          await google.colab.output.renderOutput(dataTable, element);\n",
              "          const docLink = document.createElement('div');\n",
              "          docLink.innerHTML = docLinkHtml;\n",
              "          element.appendChild(docLink);\n",
              "        }\n",
              "      </script>\n",
              "    </div>\n",
              "  </div>\n",
              "  "
            ]
          },
          "metadata": {},
          "execution_count": 11
        }
      ]
    },
    {
      "cell_type": "code",
      "source": [
        "unmod_selected = []\n",
        "threshold = 1.0\n",
        "ratio_df = (unmod_train.to_numpy() == 0).sum(axis=0)\n",
        "for i, x in enumerate(ratio_df):\n",
        "  if x < threshold*unmod_train.shape[0]:\n",
        "    unmod_selected.append(i)\n",
        "len(unmod_selected)"
      ],
      "metadata": {
        "colab": {
          "base_uri": "https://localhost:8080/"
        },
        "id": "zmiC5EiZN1fw",
        "outputId": "9cbf74bd-921b-4cd4-d520-271447acd254"
      },
      "execution_count": null,
      "outputs": [
        {
          "output_type": "execute_result",
          "data": {
            "text/plain": [
              "101248"
            ]
          },
          "metadata": {},
          "execution_count": 12
        }
      ]
    },
    {
      "cell_type": "markdown",
      "source": [
        "## Finding feature importance using Logistic Regression with L1 and Random Forest Classifier (on unmod peptide)"
      ],
      "metadata": {
        "id": "E6YoacK9FGtG"
      }
    },
    {
      "cell_type": "code",
      "source": [
        "!pip install catboost"
      ],
      "metadata": {
        "colab": {
          "base_uri": "https://localhost:8080/"
        },
        "id": "FZ2u8nrX9xPG",
        "outputId": "4102b30d-e0b5-4b8b-e083-5c0e6c3ef819"
      },
      "execution_count": null,
      "outputs": [
        {
          "output_type": "stream",
          "name": "stdout",
          "text": [
            "Collecting catboost\n",
            "  Downloading catboost-1.0.5-cp37-none-manylinux1_x86_64.whl (76.6 MB)\n",
            "\u001b[K     |████████████████████████████████| 76.6 MB 1.2 MB/s \n",
            "\u001b[?25hRequirement already satisfied: pandas>=0.24.0 in /usr/local/lib/python3.7/dist-packages (from catboost) (1.3.5)\n",
            "Requirement already satisfied: plotly in /usr/local/lib/python3.7/dist-packages (from catboost) (5.5.0)\n",
            "Requirement already satisfied: six in /usr/local/lib/python3.7/dist-packages (from catboost) (1.15.0)\n",
            "Requirement already satisfied: matplotlib in /usr/local/lib/python3.7/dist-packages (from catboost) (3.2.2)\n",
            "Requirement already satisfied: scipy in /usr/local/lib/python3.7/dist-packages (from catboost) (1.4.1)\n",
            "Requirement already satisfied: numpy>=1.16.0 in /usr/local/lib/python3.7/dist-packages (from catboost) (1.21.6)\n",
            "Requirement already satisfied: graphviz in /usr/local/lib/python3.7/dist-packages (from catboost) (0.10.1)\n",
            "Requirement already satisfied: pytz>=2017.3 in /usr/local/lib/python3.7/dist-packages (from pandas>=0.24.0->catboost) (2022.1)\n",
            "Requirement already satisfied: python-dateutil>=2.7.3 in /usr/local/lib/python3.7/dist-packages (from pandas>=0.24.0->catboost) (2.8.2)\n",
            "Requirement already satisfied: kiwisolver>=1.0.1 in /usr/local/lib/python3.7/dist-packages (from matplotlib->catboost) (1.4.2)\n",
            "Requirement already satisfied: pyparsing!=2.0.4,!=2.1.2,!=2.1.6,>=2.0.1 in /usr/local/lib/python3.7/dist-packages (from matplotlib->catboost) (3.0.8)\n",
            "Requirement already satisfied: cycler>=0.10 in /usr/local/lib/python3.7/dist-packages (from matplotlib->catboost) (0.11.0)\n",
            "Requirement already satisfied: typing-extensions in /usr/local/lib/python3.7/dist-packages (from kiwisolver>=1.0.1->matplotlib->catboost) (4.2.0)\n",
            "Requirement already satisfied: tenacity>=6.2.0 in /usr/local/lib/python3.7/dist-packages (from plotly->catboost) (8.0.1)\n",
            "Installing collected packages: catboost\n",
            "Successfully installed catboost-1.0.5\n"
          ]
        }
      ]
    },
    {
      "cell_type": "code",
      "source": [
        "from sklearn.ensemble import RandomForestClassifier\n",
        "from sklearn.linear_model import LogisticRegression\n",
        "from lightgbm import LGBMClassifier\n",
        "from catboost import CatBoostClassifier\n",
        "\n",
        "from sklearn.metrics import accuracy_score"
      ],
      "metadata": {
        "id": "o3uZuYPA-hXB"
      },
      "execution_count": null,
      "outputs": []
    },
    {
      "cell_type": "code",
      "source": [
        "# lr_model = LogisticRegression(penalty=\"l1\", solver=\"liblinear\")\n",
        "# lr_model.fit(unmod_train.iloc[:, unmod_selected], train_df[\"y_severe_type\"])"
      ],
      "metadata": {
        "id": "bHyTQTBMJ7Y2"
      },
      "execution_count": null,
      "outputs": []
    },
    {
      "cell_type": "code",
      "source": [
        "# print(accuracy_score(lr_model.predict(unmod_train.iloc[:, unmod_selected]), train_df[\"y_severe_type\"]))\n",
        "# print(accuracy_score(lr_model.predict(unmod_val.iloc[:, unmod_selected]), val_df[\"y_severe_type\"]))\n",
        "# print(accuracy_score(lr_model.predict(unmod_test.iloc[:, unmod_selected]), test_df[\"y_severe_type\"]))"
      ],
      "metadata": {
        "id": "BOevykSwKUz-"
      },
      "execution_count": null,
      "outputs": []
    },
    {
      "cell_type": "code",
      "source": [
        "# unmod_selected = []\n",
        "# for i, x in enumerate(np.sum(lr_model.coef_, axis=0)):\n",
        "#   if x != 0:\n",
        "#     unmod_selected.append(i)\n",
        "# len(unmod_selected)"
      ],
      "metadata": {
        "id": "WhujuQD9Lch9"
      },
      "execution_count": null,
      "outputs": []
    },
    {
      "cell_type": "code",
      "source": [
        "# rf_model = RandomForestClassifier(n_estimators=30)\n",
        "# rf_model.fit(unmod_train.iloc[:, unmod_selected], train_df[\"y_severe_type\"])\n",
        "\n",
        "rf_model = LGBMClassifier(n_estimators=200)\n",
        "rf_model.fit(unmod_train.iloc[:, unmod_selected], train_df[\"y_severe_type\"])\n",
        "\n",
        "print(accuracy_score(rf_model.predict(unmod_train.iloc[:, unmod_selected]), train_df[\"y_severe_type\"]))\n",
        "print(accuracy_score(rf_model.predict(unmod_val.iloc[:, unmod_selected]), val_df[\"y_severe_type\"]))\n",
        "print(accuracy_score(rf_model.predict(unmod_test.iloc[:, unmod_selected]), test_df[\"y_severe_type\"]))"
      ],
      "metadata": {
        "colab": {
          "base_uri": "https://localhost:8080/"
        },
        "id": "mUUtt1FUMfff",
        "outputId": "57f4387b-e4ad-46a4-8e1b-9791aaaba1e4"
      },
      "execution_count": null,
      "outputs": [
        {
          "output_type": "stream",
          "name": "stdout",
          "text": [
            "1.0\n",
            "0.8333333333333334\n",
            "0.6153846153846154\n"
          ]
        }
      ]
    },
    {
      "cell_type": "code",
      "source": [
        "unmod_selected = []\n",
        "for i, x in enumerate(rf_model.feature_importances_):\n",
        "  if x != 0:\n",
        "    unmod_selected.append(i)\n",
        "len(unmod_selected)"
      ],
      "metadata": {
        "colab": {
          "base_uri": "https://localhost:8080/"
        },
        "id": "E6lTxLVcSSgA",
        "outputId": "b479d2c9-8200-4664-e045-631a995e5234"
      },
      "execution_count": null,
      "outputs": [
        {
          "output_type": "execute_result",
          "data": {
            "text/plain": [
              "78"
            ]
          },
          "metadata": {},
          "execution_count": 19
        }
      ]
    },
    {
      "cell_type": "markdown",
      "source": [
        "## Finding feature importance using Logistic Regression with L1 and Random Forest Classifier (on variant peptide)"
      ],
      "metadata": {
        "id": "45YeHYFcTTUu"
      }
    },
    {
      "cell_type": "code",
      "source": [
        "def get_variant_features(df):\n",
        "  return df.iloc[:, 102411:]"
      ],
      "metadata": {
        "id": "De6puqJUTiKR"
      },
      "execution_count": null,
      "outputs": []
    },
    {
      "cell_type": "code",
      "source": [
        "variant_train = get_variant_features(train_df)\n",
        "variant_val = get_variant_features(val_df)\n",
        "variant_test = get_variant_features(test_df)"
      ],
      "metadata": {
        "id": "We7ZRoWbTiKS"
      },
      "execution_count": null,
      "outputs": []
    },
    {
      "cell_type": "code",
      "source": [
        "variant_train.head()"
      ],
      "metadata": {
        "colab": {
          "base_uri": "https://localhost:8080/",
          "height": 300
        },
        "outputId": "3b251255-5e1d-4e1c-9aa9-04a46157425d",
        "id": "5oZEF2GhTiKS"
      },
      "execution_count": null,
      "outputs": [
        {
          "output_type": "execute_result",
          "data": {
            "text/plain": [
              "    variant_ccms_row_1  variant_ccms_row_2  variant_ccms_row_3  \\\n",
              "25                 0.0                 0.0            0.125162   \n",
              "70                 0.0                 0.0            1.210748   \n",
              "28                 0.0                 0.0            0.757112   \n",
              "18                 0.0                 0.0            0.743318   \n",
              "9                  0.0                 0.0            0.030790   \n",
              "\n",
              "    variant_ccms_row_4  variant_ccms_row_5  variant_ccms_row_6  \\\n",
              "25            0.523169            0.118659            0.623897   \n",
              "70            0.000000            0.000000            0.000000   \n",
              "28            0.000000            0.000000            0.000000   \n",
              "18            0.000000            0.000000            0.000000   \n",
              "9             0.000000            0.000000            0.000000   \n",
              "\n",
              "    variant_ccms_row_7  variant_ccms_row_8  variant_ccms_row_9  \\\n",
              "25                 0.0                 0.0                 0.0   \n",
              "70                 0.0                 0.0                 0.0   \n",
              "28                 0.0                 0.0                 0.0   \n",
              "18                 0.0                 0.0                 0.0   \n",
              "9                  0.0                 0.0                 0.0   \n",
              "\n",
              "    variant_ccms_row_10  ...  variant_ccms_row_101452  \\\n",
              "25             0.000000  ...                  0.00000   \n",
              "70             0.181003  ...                  0.00000   \n",
              "28             0.299246  ...                  0.00000   \n",
              "18             0.278907  ...                  0.00000   \n",
              "9              0.000000  ...                  1.52507   \n",
              "\n",
              "    variant_ccms_row_101453  variant_ccms_row_101454  variant_ccms_row_101455  \\\n",
              "25                 0.000000                 0.321736                      0.0   \n",
              "70                 0.307777                 0.000000                      0.0   \n",
              "28                 1.489917                 0.000000                      0.0   \n",
              "18                 1.182886                 0.000000                      0.0   \n",
              "9                  0.143092                 0.000000                      0.0   \n",
              "\n",
              "    variant_ccms_row_101456  variant_ccms_row_101457  variant_ccms_row_101458  \\\n",
              "25                 0.000000                 0.000000                 0.000000   \n",
              "70                 0.549982                 0.000000                 0.000000   \n",
              "28                 0.789613                 0.000000                 0.000000   \n",
              "18                 0.589243                 0.000000                 0.000000   \n",
              "9                  0.000000                 1.488615                 1.349938   \n",
              "\n",
              "    variant_ccms_row_101459  variant_ccms_row_101460  variant_ccms_row_101461  \n",
              "25                 0.000000                 0.524086                      0.0  \n",
              "70                 0.000000                 0.232562                      0.0  \n",
              "28                 0.000000                 0.156169                      0.0  \n",
              "18                 0.000000                 0.163054                      0.0  \n",
              "9                  1.324341                 0.000000                      0.0  \n",
              "\n",
              "[5 rows x 101461 columns]"
            ],
            "text/html": [
              "\n",
              "  <div id=\"df-a678cb19-81ba-4c8a-9b93-93e5c74ed931\">\n",
              "    <div class=\"colab-df-container\">\n",
              "      <div>\n",
              "<style scoped>\n",
              "    .dataframe tbody tr th:only-of-type {\n",
              "        vertical-align: middle;\n",
              "    }\n",
              "\n",
              "    .dataframe tbody tr th {\n",
              "        vertical-align: top;\n",
              "    }\n",
              "\n",
              "    .dataframe thead th {\n",
              "        text-align: right;\n",
              "    }\n",
              "</style>\n",
              "<table border=\"1\" class=\"dataframe\">\n",
              "  <thead>\n",
              "    <tr style=\"text-align: right;\">\n",
              "      <th></th>\n",
              "      <th>variant_ccms_row_1</th>\n",
              "      <th>variant_ccms_row_2</th>\n",
              "      <th>variant_ccms_row_3</th>\n",
              "      <th>variant_ccms_row_4</th>\n",
              "      <th>variant_ccms_row_5</th>\n",
              "      <th>variant_ccms_row_6</th>\n",
              "      <th>variant_ccms_row_7</th>\n",
              "      <th>variant_ccms_row_8</th>\n",
              "      <th>variant_ccms_row_9</th>\n",
              "      <th>variant_ccms_row_10</th>\n",
              "      <th>...</th>\n",
              "      <th>variant_ccms_row_101452</th>\n",
              "      <th>variant_ccms_row_101453</th>\n",
              "      <th>variant_ccms_row_101454</th>\n",
              "      <th>variant_ccms_row_101455</th>\n",
              "      <th>variant_ccms_row_101456</th>\n",
              "      <th>variant_ccms_row_101457</th>\n",
              "      <th>variant_ccms_row_101458</th>\n",
              "      <th>variant_ccms_row_101459</th>\n",
              "      <th>variant_ccms_row_101460</th>\n",
              "      <th>variant_ccms_row_101461</th>\n",
              "    </tr>\n",
              "  </thead>\n",
              "  <tbody>\n",
              "    <tr>\n",
              "      <th>25</th>\n",
              "      <td>0.0</td>\n",
              "      <td>0.0</td>\n",
              "      <td>0.125162</td>\n",
              "      <td>0.523169</td>\n",
              "      <td>0.118659</td>\n",
              "      <td>0.623897</td>\n",
              "      <td>0.0</td>\n",
              "      <td>0.0</td>\n",
              "      <td>0.0</td>\n",
              "      <td>0.000000</td>\n",
              "      <td>...</td>\n",
              "      <td>0.00000</td>\n",
              "      <td>0.000000</td>\n",
              "      <td>0.321736</td>\n",
              "      <td>0.0</td>\n",
              "      <td>0.000000</td>\n",
              "      <td>0.000000</td>\n",
              "      <td>0.000000</td>\n",
              "      <td>0.000000</td>\n",
              "      <td>0.524086</td>\n",
              "      <td>0.0</td>\n",
              "    </tr>\n",
              "    <tr>\n",
              "      <th>70</th>\n",
              "      <td>0.0</td>\n",
              "      <td>0.0</td>\n",
              "      <td>1.210748</td>\n",
              "      <td>0.000000</td>\n",
              "      <td>0.000000</td>\n",
              "      <td>0.000000</td>\n",
              "      <td>0.0</td>\n",
              "      <td>0.0</td>\n",
              "      <td>0.0</td>\n",
              "      <td>0.181003</td>\n",
              "      <td>...</td>\n",
              "      <td>0.00000</td>\n",
              "      <td>0.307777</td>\n",
              "      <td>0.000000</td>\n",
              "      <td>0.0</td>\n",
              "      <td>0.549982</td>\n",
              "      <td>0.000000</td>\n",
              "      <td>0.000000</td>\n",
              "      <td>0.000000</td>\n",
              "      <td>0.232562</td>\n",
              "      <td>0.0</td>\n",
              "    </tr>\n",
              "    <tr>\n",
              "      <th>28</th>\n",
              "      <td>0.0</td>\n",
              "      <td>0.0</td>\n",
              "      <td>0.757112</td>\n",
              "      <td>0.000000</td>\n",
              "      <td>0.000000</td>\n",
              "      <td>0.000000</td>\n",
              "      <td>0.0</td>\n",
              "      <td>0.0</td>\n",
              "      <td>0.0</td>\n",
              "      <td>0.299246</td>\n",
              "      <td>...</td>\n",
              "      <td>0.00000</td>\n",
              "      <td>1.489917</td>\n",
              "      <td>0.000000</td>\n",
              "      <td>0.0</td>\n",
              "      <td>0.789613</td>\n",
              "      <td>0.000000</td>\n",
              "      <td>0.000000</td>\n",
              "      <td>0.000000</td>\n",
              "      <td>0.156169</td>\n",
              "      <td>0.0</td>\n",
              "    </tr>\n",
              "    <tr>\n",
              "      <th>18</th>\n",
              "      <td>0.0</td>\n",
              "      <td>0.0</td>\n",
              "      <td>0.743318</td>\n",
              "      <td>0.000000</td>\n",
              "      <td>0.000000</td>\n",
              "      <td>0.000000</td>\n",
              "      <td>0.0</td>\n",
              "      <td>0.0</td>\n",
              "      <td>0.0</td>\n",
              "      <td>0.278907</td>\n",
              "      <td>...</td>\n",
              "      <td>0.00000</td>\n",
              "      <td>1.182886</td>\n",
              "      <td>0.000000</td>\n",
              "      <td>0.0</td>\n",
              "      <td>0.589243</td>\n",
              "      <td>0.000000</td>\n",
              "      <td>0.000000</td>\n",
              "      <td>0.000000</td>\n",
              "      <td>0.163054</td>\n",
              "      <td>0.0</td>\n",
              "    </tr>\n",
              "    <tr>\n",
              "      <th>9</th>\n",
              "      <td>0.0</td>\n",
              "      <td>0.0</td>\n",
              "      <td>0.030790</td>\n",
              "      <td>0.000000</td>\n",
              "      <td>0.000000</td>\n",
              "      <td>0.000000</td>\n",
              "      <td>0.0</td>\n",
              "      <td>0.0</td>\n",
              "      <td>0.0</td>\n",
              "      <td>0.000000</td>\n",
              "      <td>...</td>\n",
              "      <td>1.52507</td>\n",
              "      <td>0.143092</td>\n",
              "      <td>0.000000</td>\n",
              "      <td>0.0</td>\n",
              "      <td>0.000000</td>\n",
              "      <td>1.488615</td>\n",
              "      <td>1.349938</td>\n",
              "      <td>1.324341</td>\n",
              "      <td>0.000000</td>\n",
              "      <td>0.0</td>\n",
              "    </tr>\n",
              "  </tbody>\n",
              "</table>\n",
              "<p>5 rows × 101461 columns</p>\n",
              "</div>\n",
              "      <button class=\"colab-df-convert\" onclick=\"convertToInteractive('df-a678cb19-81ba-4c8a-9b93-93e5c74ed931')\"\n",
              "              title=\"Convert this dataframe to an interactive table.\"\n",
              "              style=\"display:none;\">\n",
              "        \n",
              "  <svg xmlns=\"http://www.w3.org/2000/svg\" height=\"24px\"viewBox=\"0 0 24 24\"\n",
              "       width=\"24px\">\n",
              "    <path d=\"M0 0h24v24H0V0z\" fill=\"none\"/>\n",
              "    <path d=\"M18.56 5.44l.94 2.06.94-2.06 2.06-.94-2.06-.94-.94-2.06-.94 2.06-2.06.94zm-11 1L8.5 8.5l.94-2.06 2.06-.94-2.06-.94L8.5 2.5l-.94 2.06-2.06.94zm10 10l.94 2.06.94-2.06 2.06-.94-2.06-.94-.94-2.06-.94 2.06-2.06.94z\"/><path d=\"M17.41 7.96l-1.37-1.37c-.4-.4-.92-.59-1.43-.59-.52 0-1.04.2-1.43.59L10.3 9.45l-7.72 7.72c-.78.78-.78 2.05 0 2.83L4 21.41c.39.39.9.59 1.41.59.51 0 1.02-.2 1.41-.59l7.78-7.78 2.81-2.81c.8-.78.8-2.07 0-2.86zM5.41 20L4 18.59l7.72-7.72 1.47 1.35L5.41 20z\"/>\n",
              "  </svg>\n",
              "      </button>\n",
              "      \n",
              "  <style>\n",
              "    .colab-df-container {\n",
              "      display:flex;\n",
              "      flex-wrap:wrap;\n",
              "      gap: 12px;\n",
              "    }\n",
              "\n",
              "    .colab-df-convert {\n",
              "      background-color: #E8F0FE;\n",
              "      border: none;\n",
              "      border-radius: 50%;\n",
              "      cursor: pointer;\n",
              "      display: none;\n",
              "      fill: #1967D2;\n",
              "      height: 32px;\n",
              "      padding: 0 0 0 0;\n",
              "      width: 32px;\n",
              "    }\n",
              "\n",
              "    .colab-df-convert:hover {\n",
              "      background-color: #E2EBFA;\n",
              "      box-shadow: 0px 1px 2px rgba(60, 64, 67, 0.3), 0px 1px 3px 1px rgba(60, 64, 67, 0.15);\n",
              "      fill: #174EA6;\n",
              "    }\n",
              "\n",
              "    [theme=dark] .colab-df-convert {\n",
              "      background-color: #3B4455;\n",
              "      fill: #D2E3FC;\n",
              "    }\n",
              "\n",
              "    [theme=dark] .colab-df-convert:hover {\n",
              "      background-color: #434B5C;\n",
              "      box-shadow: 0px 1px 3px 1px rgba(0, 0, 0, 0.15);\n",
              "      filter: drop-shadow(0px 1px 2px rgba(0, 0, 0, 0.3));\n",
              "      fill: #FFFFFF;\n",
              "    }\n",
              "  </style>\n",
              "\n",
              "      <script>\n",
              "        const buttonEl =\n",
              "          document.querySelector('#df-a678cb19-81ba-4c8a-9b93-93e5c74ed931 button.colab-df-convert');\n",
              "        buttonEl.style.display =\n",
              "          google.colab.kernel.accessAllowed ? 'block' : 'none';\n",
              "\n",
              "        async function convertToInteractive(key) {\n",
              "          const element = document.querySelector('#df-a678cb19-81ba-4c8a-9b93-93e5c74ed931');\n",
              "          const dataTable =\n",
              "            await google.colab.kernel.invokeFunction('convertToInteractive',\n",
              "                                                     [key], {});\n",
              "          if (!dataTable) return;\n",
              "\n",
              "          const docLinkHtml = 'Like what you see? Visit the ' +\n",
              "            '<a target=\"_blank\" href=https://colab.research.google.com/notebooks/data_table.ipynb>data table notebook</a>'\n",
              "            + ' to learn more about interactive tables.';\n",
              "          element.innerHTML = '';\n",
              "          dataTable['output_type'] = 'display_data';\n",
              "          await google.colab.output.renderOutput(dataTable, element);\n",
              "          const docLink = document.createElement('div');\n",
              "          docLink.innerHTML = docLinkHtml;\n",
              "          element.appendChild(docLink);\n",
              "        }\n",
              "      </script>\n",
              "    </div>\n",
              "  </div>\n",
              "  "
            ]
          },
          "metadata": {},
          "execution_count": 22
        }
      ]
    },
    {
      "cell_type": "code",
      "source": [
        "variant_selected = []\n",
        "threshold = 1.0\n",
        "ratio_df = (variant_train.to_numpy() == 0).sum(axis=0)\n",
        "for i, x in enumerate(ratio_df):\n",
        "  if x < threshold*variant_train.shape[0]:\n",
        "    variant_selected.append(i)\n",
        "len(variant_selected)"
      ],
      "metadata": {
        "colab": {
          "base_uri": "https://localhost:8080/"
        },
        "outputId": "a1beb4fb-6118-4fc4-abc9-52bbddd75650",
        "id": "AIpRzofLTiKT"
      },
      "execution_count": null,
      "outputs": [
        {
          "output_type": "execute_result",
          "data": {
            "text/plain": [
              "100940"
            ]
          },
          "metadata": {},
          "execution_count": 23
        }
      ]
    },
    {
      "cell_type": "code",
      "source": [
        "# lr_model = LogisticRegression(penalty=\"l1\", solver=\"liblinear\")\n",
        "# lr_model.fit(variant_train.iloc[:, variant_selected], train_df[\"y_severe_type\"])"
      ],
      "metadata": {
        "id": "4Jxs3_PUTiKU"
      },
      "execution_count": null,
      "outputs": []
    },
    {
      "cell_type": "code",
      "source": [
        "# print(accuracy_score(lr_model.predict(variant_train.iloc[:, variant_selected]), train_df[\"y_severe_type\"]))\n",
        "# print(accuracy_score(lr_model.predict(variant_val.iloc[:, variant_selected]), val_df[\"y_severe_type\"]))\n",
        "# print(accuracy_score(lr_model.predict(variant_test.iloc[:, variant_selected]), test_df[\"y_severe_type\"]))"
      ],
      "metadata": {
        "id": "UZKDrjKfTiKV"
      },
      "execution_count": null,
      "outputs": []
    },
    {
      "cell_type": "code",
      "source": [
        "# variant_selected = []\n",
        "# for i, x in enumerate(np.sum(lr_model.coef_, axis=0)):\n",
        "#   if x != 0:\n",
        "#     variant_selected.append(i)\n",
        "# len(variant_selected)"
      ],
      "metadata": {
        "id": "aZGTFEkQTiKV"
      },
      "execution_count": null,
      "outputs": []
    },
    {
      "cell_type": "code",
      "source": [
        "# rf_model = RandomForestClassifier(n_estimators=30)\n",
        "# rf_model.fit(variant_train.iloc[:, variant_selected], train_df[\"y_severe_type\"])\n",
        "\n",
        "rf_model = LGBMClassifier(n_estimators=200)\n",
        "rf_model.fit(variant_train.iloc[:, variant_selected], train_df[\"y_severe_type\"])\n",
        "\n",
        "print(accuracy_score(rf_model.predict(variant_train.iloc[:, variant_selected]), train_df[\"y_severe_type\"]))\n",
        "print(accuracy_score(rf_model.predict(variant_val.iloc[:, variant_selected]), val_df[\"y_severe_type\"]))\n",
        "print(accuracy_score(rf_model.predict(variant_test.iloc[:, variant_selected]), test_df[\"y_severe_type\"]))"
      ],
      "metadata": {
        "colab": {
          "base_uri": "https://localhost:8080/"
        },
        "outputId": "91bc995e-e608-4568-b09b-9e0c2d4cfe0b",
        "id": "65yoAjMrTiKV"
      },
      "execution_count": null,
      "outputs": [
        {
          "output_type": "stream",
          "name": "stdout",
          "text": [
            "1.0\n",
            "1.0\n",
            "0.7692307692307693\n"
          ]
        }
      ]
    },
    {
      "cell_type": "code",
      "source": [
        "variant_selected = []\n",
        "for i, x in enumerate(rf_model.feature_importances_):\n",
        "  if x != 0:\n",
        "    variant_selected.append(i)\n",
        "len(variant_selected)"
      ],
      "metadata": {
        "colab": {
          "base_uri": "https://localhost:8080/"
        },
        "outputId": "f51c8684-507c-4bab-c1f3-4e3360ac6f10",
        "id": "TCqAMiEITiKW"
      },
      "execution_count": null,
      "outputs": [
        {
          "output_type": "execute_result",
          "data": {
            "text/plain": [
              "66"
            ]
          },
          "metadata": {},
          "execution_count": 28
        }
      ]
    },
    {
      "cell_type": "markdown",
      "source": [
        "## Finding feature importance with Random Forest (on metabolomic data)"
      ],
      "metadata": {
        "id": "TvyAiKVWQoAq"
      }
    },
    {
      "cell_type": "code",
      "source": [
        "def get_meta_features(df):\n",
        "  return df.iloc[:, 9:950]"
      ],
      "metadata": {
        "id": "uFF2jCDlXhvF"
      },
      "execution_count": null,
      "outputs": []
    },
    {
      "cell_type": "code",
      "source": [
        "meta_train = get_meta_features(train_df)\n",
        "meta_val = get_meta_features(val_df)\n",
        "meta_test = get_meta_features(test_df)"
      ],
      "metadata": {
        "id": "NJOO39VRXhvG"
      },
      "execution_count": null,
      "outputs": []
    },
    {
      "cell_type": "code",
      "source": [
        "meta_train.head()"
      ],
      "metadata": {
        "colab": {
          "base_uri": "https://localhost:8080/",
          "height": 369
        },
        "outputId": "670e819a-8ed7-430d-f9b3-90deb3d41886",
        "id": "bmzEhfpRXhvH"
      },
      "execution_count": null,
      "outputs": [
        {
          "output_type": "execute_result",
          "data": {
            "text/plain": [
              "    (14 or 15)-methylpalmitate (a17:0 or i17:0)  \\\n",
              "25                                   14176780.0   \n",
              "70                                    8905790.0   \n",
              "28                                    8759014.0   \n",
              "18                                   12287208.0   \n",
              "9                                     9796969.0   \n",
              "\n",
              "    (16 or 17)-methylstearate (a19:0 or i19:0)  \\\n",
              "25                                1.231224e+06   \n",
              "70                                9.645103e+05   \n",
              "28                                1.024313e+06   \n",
              "18                                1.516480e+06   \n",
              "9                                 1.019916e+06   \n",
              "\n",
              "    (2 or 3)-decenoate (10:1n7 or n8)  (2,4 or 2,5)-dimethylphenol sulfate  \\\n",
              "25                         623500.000                               0.0000   \n",
              "70                        3359165.750                               0.0000   \n",
              "28                         350098.875                           90617.0000   \n",
              "18                        1165411.750                           27345.4199   \n",
              "9                               0.000                           86051.6484   \n",
              "\n",
              "    (R)-3-hydroxybutyrylcarnitine  (S)-3-hydroxybutyrylcarnitine  \\\n",
              "25                   1.562588e+06                    213251.0000   \n",
              "70                   0.000000e+00                         0.0000   \n",
              "28                   0.000000e+00                    192375.1250   \n",
              "18                   0.000000e+00                    685162.1875   \n",
              "9                    2.134169e+05                    189071.4063   \n",
              "\n",
              "    (S)-a-amino-omega-caprolactam  1-(1-enyl-oleoyl)-GPE (P-18:1)*  \\\n",
              "25                   0.000000e+00                     2.606015e+05   \n",
              "70                   1.035049e+06                     9.447748e+05   \n",
              "28                   1.000798e+06                     0.000000e+00   \n",
              "18                   0.000000e+00                     2.336276e+06   \n",
              "9                    7.857872e+05                     1.384170e+06   \n",
              "\n",
              "    1-(1-enyl-palmitoyl)-2-arachidonoyl-GPC (P-16:0/20:4)*  \\\n",
              "25                                         22206588.0        \n",
              "70                                         50521448.0        \n",
              "28                                         16333119.0        \n",
              "18                                         37113956.0        \n",
              "9                                          32048208.0        \n",
              "\n",
              "    1-(1-enyl-palmitoyl)-2-arachidonoyl-GPE (P-16:0/20:4)*  ...     valine  \\\n",
              "25                                         10955761.0       ...  558215424   \n",
              "70                                                0.0       ...  678859392   \n",
              "28                                          8128851.5       ...  463664544   \n",
              "18                                         18988858.0       ...  542268096   \n",
              "9                                          20300660.0       ...  695492800   \n",
              "\n",
              "    valsartan  valylglycine  vanillactate  vanillic acid glycine  \\\n",
              "25        0.0   286266.2500    53240.0000                 0.0000   \n",
              "70        0.0   248050.1094    81752.6328                 0.0000   \n",
              "28        0.0   260476.9688    42393.3555             88918.5156   \n",
              "18        0.0   383362.7188        0.0000             35317.8672   \n",
              "9         0.0   376211.1250    44411.6484             27215.4961   \n",
              "\n",
              "    vanillic alcohol sulfate  vanillylmandelate (VMA)    xanthine  \\\n",
              "25                       0.0              185616.2656  10978099.0   \n",
              "70                       0.0              201078.2656  43347372.0   \n",
              "28                       0.0              155431.1250  11145432.0   \n",
              "18                       0.0              118960.4453  27888098.0   \n",
              "9                        0.0              207670.0469  13685490.0   \n",
              "\n",
              "     xanthosine  xanthurenate  \n",
              "25       0.0000   138476.5781  \n",
              "70  166201.9375        0.0000  \n",
              "28       0.0000        0.0000  \n",
              "18       0.0000        0.0000  \n",
              "9        0.0000        0.0000  \n",
              "\n",
              "[5 rows x 941 columns]"
            ],
            "text/html": [
              "\n",
              "  <div id=\"df-e68a38d0-2e9d-4df6-b8ee-715e6abd41ef\">\n",
              "    <div class=\"colab-df-container\">\n",
              "      <div>\n",
              "<style scoped>\n",
              "    .dataframe tbody tr th:only-of-type {\n",
              "        vertical-align: middle;\n",
              "    }\n",
              "\n",
              "    .dataframe tbody tr th {\n",
              "        vertical-align: top;\n",
              "    }\n",
              "\n",
              "    .dataframe thead th {\n",
              "        text-align: right;\n",
              "    }\n",
              "</style>\n",
              "<table border=\"1\" class=\"dataframe\">\n",
              "  <thead>\n",
              "    <tr style=\"text-align: right;\">\n",
              "      <th></th>\n",
              "      <th>(14 or 15)-methylpalmitate (a17:0 or i17:0)</th>\n",
              "      <th>(16 or 17)-methylstearate (a19:0 or i19:0)</th>\n",
              "      <th>(2 or 3)-decenoate (10:1n7 or n8)</th>\n",
              "      <th>(2,4 or 2,5)-dimethylphenol sulfate</th>\n",
              "      <th>(R)-3-hydroxybutyrylcarnitine</th>\n",
              "      <th>(S)-3-hydroxybutyrylcarnitine</th>\n",
              "      <th>(S)-a-amino-omega-caprolactam</th>\n",
              "      <th>1-(1-enyl-oleoyl)-GPE (P-18:1)*</th>\n",
              "      <th>1-(1-enyl-palmitoyl)-2-arachidonoyl-GPC (P-16:0/20:4)*</th>\n",
              "      <th>1-(1-enyl-palmitoyl)-2-arachidonoyl-GPE (P-16:0/20:4)*</th>\n",
              "      <th>...</th>\n",
              "      <th>valine</th>\n",
              "      <th>valsartan</th>\n",
              "      <th>valylglycine</th>\n",
              "      <th>vanillactate</th>\n",
              "      <th>vanillic acid glycine</th>\n",
              "      <th>vanillic alcohol sulfate</th>\n",
              "      <th>vanillylmandelate (VMA)</th>\n",
              "      <th>xanthine</th>\n",
              "      <th>xanthosine</th>\n",
              "      <th>xanthurenate</th>\n",
              "    </tr>\n",
              "  </thead>\n",
              "  <tbody>\n",
              "    <tr>\n",
              "      <th>25</th>\n",
              "      <td>14176780.0</td>\n",
              "      <td>1.231224e+06</td>\n",
              "      <td>623500.000</td>\n",
              "      <td>0.0000</td>\n",
              "      <td>1.562588e+06</td>\n",
              "      <td>213251.0000</td>\n",
              "      <td>0.000000e+00</td>\n",
              "      <td>2.606015e+05</td>\n",
              "      <td>22206588.0</td>\n",
              "      <td>10955761.0</td>\n",
              "      <td>...</td>\n",
              "      <td>558215424</td>\n",
              "      <td>0.0</td>\n",
              "      <td>286266.2500</td>\n",
              "      <td>53240.0000</td>\n",
              "      <td>0.0000</td>\n",
              "      <td>0.0</td>\n",
              "      <td>185616.2656</td>\n",
              "      <td>10978099.0</td>\n",
              "      <td>0.0000</td>\n",
              "      <td>138476.5781</td>\n",
              "    </tr>\n",
              "    <tr>\n",
              "      <th>70</th>\n",
              "      <td>8905790.0</td>\n",
              "      <td>9.645103e+05</td>\n",
              "      <td>3359165.750</td>\n",
              "      <td>0.0000</td>\n",
              "      <td>0.000000e+00</td>\n",
              "      <td>0.0000</td>\n",
              "      <td>1.035049e+06</td>\n",
              "      <td>9.447748e+05</td>\n",
              "      <td>50521448.0</td>\n",
              "      <td>0.0</td>\n",
              "      <td>...</td>\n",
              "      <td>678859392</td>\n",
              "      <td>0.0</td>\n",
              "      <td>248050.1094</td>\n",
              "      <td>81752.6328</td>\n",
              "      <td>0.0000</td>\n",
              "      <td>0.0</td>\n",
              "      <td>201078.2656</td>\n",
              "      <td>43347372.0</td>\n",
              "      <td>166201.9375</td>\n",
              "      <td>0.0000</td>\n",
              "    </tr>\n",
              "    <tr>\n",
              "      <th>28</th>\n",
              "      <td>8759014.0</td>\n",
              "      <td>1.024313e+06</td>\n",
              "      <td>350098.875</td>\n",
              "      <td>90617.0000</td>\n",
              "      <td>0.000000e+00</td>\n",
              "      <td>192375.1250</td>\n",
              "      <td>1.000798e+06</td>\n",
              "      <td>0.000000e+00</td>\n",
              "      <td>16333119.0</td>\n",
              "      <td>8128851.5</td>\n",
              "      <td>...</td>\n",
              "      <td>463664544</td>\n",
              "      <td>0.0</td>\n",
              "      <td>260476.9688</td>\n",
              "      <td>42393.3555</td>\n",
              "      <td>88918.5156</td>\n",
              "      <td>0.0</td>\n",
              "      <td>155431.1250</td>\n",
              "      <td>11145432.0</td>\n",
              "      <td>0.0000</td>\n",
              "      <td>0.0000</td>\n",
              "    </tr>\n",
              "    <tr>\n",
              "      <th>18</th>\n",
              "      <td>12287208.0</td>\n",
              "      <td>1.516480e+06</td>\n",
              "      <td>1165411.750</td>\n",
              "      <td>27345.4199</td>\n",
              "      <td>0.000000e+00</td>\n",
              "      <td>685162.1875</td>\n",
              "      <td>0.000000e+00</td>\n",
              "      <td>2.336276e+06</td>\n",
              "      <td>37113956.0</td>\n",
              "      <td>18988858.0</td>\n",
              "      <td>...</td>\n",
              "      <td>542268096</td>\n",
              "      <td>0.0</td>\n",
              "      <td>383362.7188</td>\n",
              "      <td>0.0000</td>\n",
              "      <td>35317.8672</td>\n",
              "      <td>0.0</td>\n",
              "      <td>118960.4453</td>\n",
              "      <td>27888098.0</td>\n",
              "      <td>0.0000</td>\n",
              "      <td>0.0000</td>\n",
              "    </tr>\n",
              "    <tr>\n",
              "      <th>9</th>\n",
              "      <td>9796969.0</td>\n",
              "      <td>1.019916e+06</td>\n",
              "      <td>0.000</td>\n",
              "      <td>86051.6484</td>\n",
              "      <td>2.134169e+05</td>\n",
              "      <td>189071.4063</td>\n",
              "      <td>7.857872e+05</td>\n",
              "      <td>1.384170e+06</td>\n",
              "      <td>32048208.0</td>\n",
              "      <td>20300660.0</td>\n",
              "      <td>...</td>\n",
              "      <td>695492800</td>\n",
              "      <td>0.0</td>\n",
              "      <td>376211.1250</td>\n",
              "      <td>44411.6484</td>\n",
              "      <td>27215.4961</td>\n",
              "      <td>0.0</td>\n",
              "      <td>207670.0469</td>\n",
              "      <td>13685490.0</td>\n",
              "      <td>0.0000</td>\n",
              "      <td>0.0000</td>\n",
              "    </tr>\n",
              "  </tbody>\n",
              "</table>\n",
              "<p>5 rows × 941 columns</p>\n",
              "</div>\n",
              "      <button class=\"colab-df-convert\" onclick=\"convertToInteractive('df-e68a38d0-2e9d-4df6-b8ee-715e6abd41ef')\"\n",
              "              title=\"Convert this dataframe to an interactive table.\"\n",
              "              style=\"display:none;\">\n",
              "        \n",
              "  <svg xmlns=\"http://www.w3.org/2000/svg\" height=\"24px\"viewBox=\"0 0 24 24\"\n",
              "       width=\"24px\">\n",
              "    <path d=\"M0 0h24v24H0V0z\" fill=\"none\"/>\n",
              "    <path d=\"M18.56 5.44l.94 2.06.94-2.06 2.06-.94-2.06-.94-.94-2.06-.94 2.06-2.06.94zm-11 1L8.5 8.5l.94-2.06 2.06-.94-2.06-.94L8.5 2.5l-.94 2.06-2.06.94zm10 10l.94 2.06.94-2.06 2.06-.94-2.06-.94-.94-2.06-.94 2.06-2.06.94z\"/><path d=\"M17.41 7.96l-1.37-1.37c-.4-.4-.92-.59-1.43-.59-.52 0-1.04.2-1.43.59L10.3 9.45l-7.72 7.72c-.78.78-.78 2.05 0 2.83L4 21.41c.39.39.9.59 1.41.59.51 0 1.02-.2 1.41-.59l7.78-7.78 2.81-2.81c.8-.78.8-2.07 0-2.86zM5.41 20L4 18.59l7.72-7.72 1.47 1.35L5.41 20z\"/>\n",
              "  </svg>\n",
              "      </button>\n",
              "      \n",
              "  <style>\n",
              "    .colab-df-container {\n",
              "      display:flex;\n",
              "      flex-wrap:wrap;\n",
              "      gap: 12px;\n",
              "    }\n",
              "\n",
              "    .colab-df-convert {\n",
              "      background-color: #E8F0FE;\n",
              "      border: none;\n",
              "      border-radius: 50%;\n",
              "      cursor: pointer;\n",
              "      display: none;\n",
              "      fill: #1967D2;\n",
              "      height: 32px;\n",
              "      padding: 0 0 0 0;\n",
              "      width: 32px;\n",
              "    }\n",
              "\n",
              "    .colab-df-convert:hover {\n",
              "      background-color: #E2EBFA;\n",
              "      box-shadow: 0px 1px 2px rgba(60, 64, 67, 0.3), 0px 1px 3px 1px rgba(60, 64, 67, 0.15);\n",
              "      fill: #174EA6;\n",
              "    }\n",
              "\n",
              "    [theme=dark] .colab-df-convert {\n",
              "      background-color: #3B4455;\n",
              "      fill: #D2E3FC;\n",
              "    }\n",
              "\n",
              "    [theme=dark] .colab-df-convert:hover {\n",
              "      background-color: #434B5C;\n",
              "      box-shadow: 0px 1px 3px 1px rgba(0, 0, 0, 0.15);\n",
              "      filter: drop-shadow(0px 1px 2px rgba(0, 0, 0, 0.3));\n",
              "      fill: #FFFFFF;\n",
              "    }\n",
              "  </style>\n",
              "\n",
              "      <script>\n",
              "        const buttonEl =\n",
              "          document.querySelector('#df-e68a38d0-2e9d-4df6-b8ee-715e6abd41ef button.colab-df-convert');\n",
              "        buttonEl.style.display =\n",
              "          google.colab.kernel.accessAllowed ? 'block' : 'none';\n",
              "\n",
              "        async function convertToInteractive(key) {\n",
              "          const element = document.querySelector('#df-e68a38d0-2e9d-4df6-b8ee-715e6abd41ef');\n",
              "          const dataTable =\n",
              "            await google.colab.kernel.invokeFunction('convertToInteractive',\n",
              "                                                     [key], {});\n",
              "          if (!dataTable) return;\n",
              "\n",
              "          const docLinkHtml = 'Like what you see? Visit the ' +\n",
              "            '<a target=\"_blank\" href=https://colab.research.google.com/notebooks/data_table.ipynb>data table notebook</a>'\n",
              "            + ' to learn more about interactive tables.';\n",
              "          element.innerHTML = '';\n",
              "          dataTable['output_type'] = 'display_data';\n",
              "          await google.colab.output.renderOutput(dataTable, element);\n",
              "          const docLink = document.createElement('div');\n",
              "          docLink.innerHTML = docLinkHtml;\n",
              "          element.appendChild(docLink);\n",
              "        }\n",
              "      </script>\n",
              "    </div>\n",
              "  </div>\n",
              "  "
            ]
          },
          "metadata": {},
          "execution_count": 31
        }
      ]
    },
    {
      "cell_type": "code",
      "source": [
        "meta_selected = []\n",
        "threshold = 1.0\n",
        "ratio_df = (meta_train.to_numpy() == 0).sum(axis=0)\n",
        "for i, x in enumerate(ratio_df):\n",
        "  if x < threshold*meta_train.shape[0]:\n",
        "    meta_selected.append(i)\n",
        "len(meta_selected)"
      ],
      "metadata": {
        "colab": {
          "base_uri": "https://localhost:8080/"
        },
        "outputId": "647437d8-65ca-488d-c408-33acd17a68e2",
        "id": "BXsh13gHXhvH"
      },
      "execution_count": null,
      "outputs": [
        {
          "output_type": "execute_result",
          "data": {
            "text/plain": [
              "935"
            ]
          },
          "metadata": {},
          "execution_count": 32
        }
      ]
    },
    {
      "cell_type": "code",
      "source": [
        "# lr_model = LogisticRegression(penalty=\"l1\", solver=\"liblinear\")\n",
        "# lr_model.fit(meta_train.iloc[:, meta_selected], train_df[\"y_severe_type\"])"
      ],
      "metadata": {
        "id": "sfNA_6wSXhvH"
      },
      "execution_count": null,
      "outputs": []
    },
    {
      "cell_type": "code",
      "source": [
        "# print(accuracy_score(lr_model.predict(meta_train.iloc[:, meta_selected]), train_df[\"y_severe_type\"]))\n",
        "# print(accuracy_score(lr_model.predict(meta_val.iloc[:, meta_selected]), val_df[\"y_severe_type\"]))\n",
        "# print(accuracy_score(lr_model.predict(meta_test.iloc[:, meta_selected]), test_df[\"y_severe_type\"]))"
      ],
      "metadata": {
        "id": "Ep8Wxt3mXhvI"
      },
      "execution_count": null,
      "outputs": []
    },
    {
      "cell_type": "code",
      "source": [
        "# meta_selected = []\n",
        "# for i, x in enumerate(np.sum(lr_model.coef_, axis=0)):\n",
        "#   if x != 0:\n",
        "#     meta_selected.append(i)\n",
        "# len(meta_selected)"
      ],
      "metadata": {
        "id": "Y65EEbVzXhvI"
      },
      "execution_count": null,
      "outputs": []
    },
    {
      "cell_type": "code",
      "source": [
        "# rf_model = RandomForestClassifier(n_estimators=30)\n",
        "# rf_model.fit(meta_train.iloc[:, meta_selected], train_df[\"y_severe_type\"])\n",
        "\n",
        "rf_model = LGBMClassifier(n_estimators=200)\n",
        "rf_model.fit(meta_train.iloc[:, meta_selected], train_df[\"y_severe_type\"])\n",
        "\n",
        "print(accuracy_score(rf_model.predict(meta_train.iloc[:, meta_selected]), train_df[\"y_severe_type\"]))\n",
        "print(accuracy_score(rf_model.predict(meta_val.iloc[:, meta_selected]), val_df[\"y_severe_type\"]))\n",
        "print(accuracy_score(rf_model.predict(meta_test.iloc[:, meta_selected]), test_df[\"y_severe_type\"]))"
      ],
      "metadata": {
        "colab": {
          "base_uri": "https://localhost:8080/"
        },
        "outputId": "aa05f5b8-efcb-4901-cc36-915c7782a37d",
        "id": "Peb9vickXhvJ"
      },
      "execution_count": null,
      "outputs": [
        {
          "output_type": "stream",
          "name": "stdout",
          "text": [
            "1.0\n",
            "0.6666666666666666\n",
            "0.8461538461538461\n"
          ]
        }
      ]
    },
    {
      "cell_type": "code",
      "source": [
        "meta_selected = []\n",
        "for i, x in enumerate(rf_model.feature_importances_):\n",
        "  if x != 0:\n",
        "    meta_selected.append(i)\n",
        "len(meta_selected)"
      ],
      "metadata": {
        "colab": {
          "base_uri": "https://localhost:8080/"
        },
        "outputId": "34b75f26-36c4-4011-d425-95910b62457c",
        "id": "TfAMjDMHXhvJ"
      },
      "execution_count": null,
      "outputs": [
        {
          "output_type": "execute_result",
          "data": {
            "text/plain": [
              "75"
            ]
          },
          "metadata": {},
          "execution_count": 37
        }
      ]
    },
    {
      "cell_type": "code",
      "source": [
        ""
      ],
      "metadata": {
        "id": "qTaRyiiwalqD"
      },
      "execution_count": null,
      "outputs": []
    },
    {
      "cell_type": "markdown",
      "source": [
        "## Just try to combine everything together"
      ],
      "metadata": {
        "id": "R40bHYpXal_a"
      }
    },
    {
      "cell_type": "code",
      "source": [
        "!pip install lightgbm"
      ],
      "metadata": {
        "colab": {
          "base_uri": "https://localhost:8080/"
        },
        "id": "ju0XVhNlj3hI",
        "outputId": "44744fe9-359b-4e97-e5ba-366e44331777"
      },
      "execution_count": null,
      "outputs": [
        {
          "output_type": "stream",
          "name": "stdout",
          "text": [
            "Requirement already satisfied: lightgbm in /usr/local/lib/python3.7/dist-packages (2.2.3)\n",
            "Requirement already satisfied: numpy in /usr/local/lib/python3.7/dist-packages (from lightgbm) (1.21.6)\n",
            "Requirement already satisfied: scikit-learn in /usr/local/lib/python3.7/dist-packages (from lightgbm) (1.0.2)\n",
            "Requirement already satisfied: scipy in /usr/local/lib/python3.7/dist-packages (from lightgbm) (1.4.1)\n",
            "Requirement already satisfied: joblib>=0.11 in /usr/local/lib/python3.7/dist-packages (from scikit-learn->lightgbm) (1.1.0)\n",
            "Requirement already satisfied: threadpoolctl>=2.0.0 in /usr/local/lib/python3.7/dist-packages (from scikit-learn->lightgbm) (3.1.0)\n"
          ]
        }
      ]
    },
    {
      "cell_type": "code",
      "source": [
        "selected = []\n",
        "for x in unmod_selected:\n",
        "  selected.append(x + 950)\n",
        "for x in variant_selected:\n",
        "  selected.append(x + 102411)\n",
        "for x in meta_selected:\n",
        "  selected.append(x + 9)\n",
        "model = LGBMClassifier(n_estimators=200)\n",
        "model.fit(train_df.iloc[:, selected], train_df[\"y_severe_type\"])"
      ],
      "metadata": {
        "colab": {
          "base_uri": "https://localhost:8080/"
        },
        "id": "fV2CWy0PapRN",
        "outputId": "bab2be96-14f3-4946-ebd8-9a54870a8e4d"
      },
      "execution_count": null,
      "outputs": [
        {
          "output_type": "execute_result",
          "data": {
            "text/plain": [
              "LGBMClassifier(n_estimators=200)"
            ]
          },
          "metadata": {},
          "execution_count": 39
        }
      ]
    },
    {
      "cell_type": "code",
      "source": [
        "print(accuracy_score(model.predict(train_df.iloc[:, selected]), train_df[\"y_severe_type\"]))\n",
        "print(accuracy_score(model.predict(val_df.iloc[:, selected]), val_df[\"y_severe_type\"]))\n",
        "print(accuracy_score(model.predict(test_df.iloc[:, selected]), test_df[\"y_severe_type\"]))"
      ],
      "metadata": {
        "colab": {
          "base_uri": "https://localhost:8080/"
        },
        "id": "QQyfNrV1bU9h",
        "outputId": "ac7d54ff-5084-4301-8b36-1d4b14270d5a"
      },
      "execution_count": null,
      "outputs": [
        {
          "output_type": "stream",
          "name": "stdout",
          "text": [
            "1.0\n",
            "0.75\n",
            "0.8461538461538461\n"
          ]
        }
      ]
    },
    {
      "cell_type": "code",
      "source": [
        "len(selected)"
      ],
      "metadata": {
        "colab": {
          "base_uri": "https://localhost:8080/"
        },
        "id": "TfYoeMvId8v2",
        "outputId": "7351c723-1ba6-49ce-a866-7408293403a9"
      },
      "execution_count": null,
      "outputs": [
        {
          "output_type": "execute_result",
          "data": {
            "text/plain": [
              "219"
            ]
          },
          "metadata": {},
          "execution_count": 41
        }
      ]
    },
    {
      "cell_type": "code",
      "source": [
        "ref_model = LGBMClassifier(n_estimators=200)\n",
        "ref_model.fit(train_df.iloc[:, 9:], train_df[\"y_severe_type\"])\n",
        "\n",
        "print(accuracy_score(ref_model.predict(train_df.iloc[:, 9:]), train_df[\"y_severe_type\"]))\n",
        "print(accuracy_score(ref_model.predict(val_df.iloc[:, 9:]), val_df[\"y_severe_type\"]))\n",
        "print(accuracy_score(ref_model.predict(test_df.iloc[:, 9:]), test_df[\"y_severe_type\"]))"
      ],
      "metadata": {
        "colab": {
          "base_uri": "https://localhost:8080/"
        },
        "id": "NqyyERcLcY8w",
        "outputId": "e8eff9d5-4c43-4f50-8bf1-fb4318efa4a8"
      },
      "execution_count": null,
      "outputs": [
        {
          "output_type": "stream",
          "name": "stdout",
          "text": [
            "1.0\n",
            "0.8333333333333334\n",
            "0.8461538461538461\n"
          ]
        }
      ]
    },
    {
      "cell_type": "code",
      "source": [
        "sum(ref_model.feature_importances_ != 0)"
      ],
      "metadata": {
        "colab": {
          "base_uri": "https://localhost:8080/"
        },
        "id": "b-n1Q4i1l0U2",
        "outputId": "d75a96b3-ab1d-4681-d145-1c2676ba0c84"
      },
      "execution_count": null,
      "outputs": [
        {
          "output_type": "execute_result",
          "data": {
            "text/plain": [
              "84"
            ]
          },
          "metadata": {},
          "execution_count": 43
        }
      ]
    },
    {
      "cell_type": "code",
      "source": [
        "for i, x in enumerate(ref_model.feature_importances_):\n",
        "  if x != 0:\n",
        "    print(i + 9, train_df.columns[i + 9])"
      ],
      "metadata": {
        "colab": {
          "base_uri": "https://localhost:8080/"
        },
        "id": "uF6lLT4_obrO",
        "outputId": "d416a985-c9ef-4a9f-8d0c-a840583525cf"
      },
      "execution_count": null,
      "outputs": [
        {
          "output_type": "stream",
          "name": "stdout",
          "text": [
            "14 (S)-3-hydroxybutyrylcarnitine\n",
            "17 1-(1-enyl-palmitoyl)-2-arachidonoyl-GPC (P-16:0/20:4)*\n",
            "64 1-linoleoyl-GPA (18:2)*\n",
            "81 1-oleoyl-2-linoleoyl-GPC (18:1/18:2)*\n",
            "115 1-stearoyl-2-docosahexaenoyl-GPE (18:0/22:6)*\n",
            "143 2'-deoxyuridine\n",
            "172 2'-O-methyluridine\n",
            "195 3b-hydroxy-5-cholenoic acid\n",
            "207 3-hydroxydecanoate\n",
            "212 3-hydroxylaurate\n",
            "224 3-methyl catechol sulfate (1)\n",
            "235 3-sulfo-L-alanine\n",
            "256 4-methoxyphenol sulfate\n",
            "284 5-HETE\n",
            "289 5-methylthioadenosine (MTA)\n",
            "293 6-bromotryptophan\n",
            "318 alpha-hydroxyisocaproate\n",
            "319 alpha-hydroxyisovalerate\n",
            "321 alpha-ketoglutarate\n",
            "322 alpha-tocopherol\n",
            "349 benzoate\n",
            "350 beta-alanine\n",
            "353 beta-hydroxyisovalerate\n",
            "367 biliverdin\n",
            "372 butyrate/isobutyrate (4:0)\n",
            "386 catechol sulfate\n",
            "411 creatine\n",
            "418 cysteine-glutathione disulfide\n",
            "497 gamma-glutamyl-epsilon-lysine\n",
            "517 glucose\n",
            "518 glucuronate\n",
            "544 glycochenodeoxycholate glucuronide (1)\n",
            "553 glycoursodeoxycholic acid sulfate (1)\n",
            "569 hexanoylglutamine\n",
            "570 hexanoylglycine (C6)\n",
            "573 histidine betaine (hercynine)*\n",
            "637 maltose\n",
            "640 mannose\n",
            "661 N('1)-acetylspermidine\n",
            "671 N2,N2-dimethylguanosine\n",
            "682 N6-carbamoylthreonyladenosine\n",
            "684 N6-methyladenosine\n",
            "690 N-acetylalanine\n",
            "713 N-acetylneuraminate\n",
            "737 N-linoleoylglycine\n",
            "750 N-stearoyl-sphingosine (d18:1/18:0)*\n",
            "752 o-cresol sulfate\n",
            "815 prolylhydroxyproline\n",
            "822 pseudouridine\n",
            "830 ribitol\n",
            "838 S-allylcysteine\n",
            "840 S-carboxyethylcysteine\n",
            "848 spermidine\n",
            "916 thyroxine\n",
            "931 undecanedioate (C11-DC)\n",
            "13336 unmod_ccms_row_12387\n",
            "20569 unmod_ccms_row_19620\n",
            "43676 unmod_ccms_row_42727\n",
            "99404 unmod_ccms_row_98455\n",
            "105446 variant_ccms_row_3036\n",
            "106004 variant_ccms_row_3594\n",
            "115050 variant_ccms_row_12640\n",
            "125801 variant_ccms_row_23391\n",
            "126592 variant_ccms_row_24182\n",
            "142031 variant_ccms_row_39621\n",
            "144155 variant_ccms_row_41745\n",
            "144669 variant_ccms_row_42259\n",
            "158534 variant_ccms_row_56124\n",
            "159774 variant_ccms_row_57364\n",
            "163936 variant_ccms_row_61526\n",
            "168236 variant_ccms_row_65826\n",
            "171215 variant_ccms_row_68805\n",
            "172656 variant_ccms_row_70246\n",
            "172662 variant_ccms_row_70252\n",
            "173911 variant_ccms_row_71501\n",
            "174330 variant_ccms_row_71920\n",
            "174601 variant_ccms_row_72191\n",
            "175927 variant_ccms_row_73517\n",
            "176044 variant_ccms_row_73634\n",
            "176100 variant_ccms_row_73690\n",
            "177212 variant_ccms_row_74802\n",
            "185219 variant_ccms_row_82809\n",
            "198698 variant_ccms_row_96288\n",
            "199166 variant_ccms_row_96756\n"
          ]
        }
      ]
    },
    {
      "cell_type": "code",
      "source": [
        "ref_model2 = LGBMClassifier(n_estimators=200)\n",
        "ref_model2.fit(train_df.iloc[:, 950:], train_df[\"y_severe_type\"])\n",
        "\n",
        "print(accuracy_score(ref_model2.predict(train_df.iloc[:, 950:]), train_df[\"y_severe_type\"]))\n",
        "print(accuracy_score(ref_model2.predict(val_df.iloc[:, 950:]), val_df[\"y_severe_type\"]))\n",
        "print(accuracy_score(ref_model2.predict(test_df.iloc[:, 950:]), test_df[\"y_severe_type\"]))"
      ],
      "metadata": {
        "colab": {
          "base_uri": "https://localhost:8080/"
        },
        "id": "74hOqtiPqJ_s",
        "outputId": "633adf23-4be0-4a3f-9566-545300b54563"
      },
      "execution_count": null,
      "outputs": [
        {
          "output_type": "stream",
          "name": "stdout",
          "text": [
            "1.0\n",
            "0.8333333333333334\n",
            "0.7692307692307693\n"
          ]
        }
      ]
    },
    {
      "cell_type": "code",
      "source": [
        "sum(ref_model2.feature_importances_ != 0)"
      ],
      "metadata": {
        "colab": {
          "base_uri": "https://localhost:8080/"
        },
        "id": "zzI-0804rmWy",
        "outputId": "ecadad14-4e9b-4cea-bf4e-2e49edb07855"
      },
      "execution_count": null,
      "outputs": [
        {
          "output_type": "execute_result",
          "data": {
            "text/plain": [
              "76"
            ]
          },
          "metadata": {},
          "execution_count": 46
        }
      ]
    },
    {
      "cell_type": "code",
      "source": [
        "fi_idxs = list(range(len(ref_model2.feature_importances_)))\n",
        "fis = list(ref_model2.feature_importances_)\n",
        "fi_idxs.sort(key=lambda i: fis[i], reverse=True)\n",
        "fi_idxs[:10]"
      ],
      "metadata": {
        "colab": {
          "base_uri": "https://localhost:8080/"
        },
        "id": "iehelh6Cb9g0",
        "outputId": "c8695eb1-38a0-4a2d-f0fa-b4df38863a55"
      },
      "execution_count": null,
      "outputs": [
        {
          "output_type": "execute_result",
          "data": {
            "text/plain": [
              "[172961, 158824, 12386, 198216, 197748, 174977, 176262, 98454, 121973, 19270]"
            ]
          },
          "metadata": {},
          "execution_count": 74
        }
      ]
    },
    {
      "cell_type": "code",
      "source": [
        "172961 - 101461"
      ],
      "metadata": {
        "colab": {
          "base_uri": "https://localhost:8080/"
        },
        "id": "8nsZS2H2ccfk",
        "outputId": "1bba6766-fd57-4cb8-badb-10f898d1ddb9"
      },
      "execution_count": null,
      "outputs": [
        {
          "output_type": "execute_result",
          "data": {
            "text/plain": [
              "71500"
            ]
          },
          "metadata": {},
          "execution_count": 75
        }
      ]
    },
    {
      "cell_type": "code",
      "source": [
        "prot_idxs = set()\n",
        "for i, x in enumerate(ref_model2.feature_importances_):\n",
        "  if x != 0:\n",
        "    if i >= 101461:\n",
        "      prot_idxs.add(i - 101461)\n",
        "    else:\n",
        "      prot_idxs.add(i)\n",
        "    print(i + 950, train_df.columns[i + 950], i, i - 101461)\n",
        "prot_idxs = sorted(prot_idxs)"
      ],
      "metadata": {
        "colab": {
          "base_uri": "https://localhost:8080/"
        },
        "id": "IwGmLwV6rqH2",
        "outputId": "1e3f68e7-5091-4080-e3a0-0acc354a535c"
      },
      "execution_count": null,
      "outputs": [
        {
          "output_type": "stream",
          "name": "stdout",
          "text": [
            "5350 unmod_ccms_row_4401 4400 -97061\n",
            "6557 unmod_ccms_row_5608 5607 -95854\n",
            "7668 unmod_ccms_row_6719 6718 -94743\n",
            "13336 unmod_ccms_row_12387 12386 -89075\n",
            "20220 unmod_ccms_row_19271 19270 -82191\n",
            "20569 unmod_ccms_row_19620 19619 -81842\n",
            "34857 unmod_ccms_row_33908 33907 -67554\n",
            "40673 unmod_ccms_row_39724 39723 -61738\n",
            "45528 unmod_ccms_row_44579 44578 -56883\n",
            "52855 unmod_ccms_row_51906 51905 -49556\n",
            "57335 unmod_ccms_row_56386 56385 -45076\n",
            "78925 unmod_ccms_row_77976 77975 -23486\n",
            "92529 unmod_ccms_row_91580 91579 -9882\n",
            "99404 unmod_ccms_row_98455 98454 -3007\n",
            "104124 variant_ccms_row_1714 103174 1713\n",
            "105446 variant_ccms_row_3036 104496 3035\n",
            "107946 variant_ccms_row_5536 106996 5535\n",
            "109721 variant_ccms_row_7311 108771 7310\n",
            "114642 variant_ccms_row_12232 113692 12231\n",
            "118027 variant_ccms_row_15617 117077 15616\n",
            "118393 variant_ccms_row_15983 117443 15982\n",
            "120346 variant_ccms_row_17936 119396 17935\n",
            "121819 variant_ccms_row_19409 120869 19408\n",
            "122923 variant_ccms_row_20513 121973 20512\n",
            "127004 variant_ccms_row_24594 126054 24593\n",
            "132827 variant_ccms_row_30417 131877 30416\n",
            "138861 variant_ccms_row_36451 137911 36450\n",
            "142031 variant_ccms_row_39621 141081 39620\n",
            "144155 variant_ccms_row_41745 143205 41744\n",
            "144582 variant_ccms_row_42172 143632 42171\n",
            "144669 variant_ccms_row_42259 143719 42258\n",
            "145012 variant_ccms_row_42602 144062 42601\n",
            "145207 variant_ccms_row_42797 144257 42796\n",
            "153047 variant_ccms_row_50637 152097 50636\n",
            "158534 variant_ccms_row_56124 157584 56123\n",
            "159148 variant_ccms_row_56738 158198 56737\n",
            "159774 variant_ccms_row_57364 158824 57363\n",
            "159838 variant_ccms_row_57428 158888 57427\n",
            "159926 variant_ccms_row_57516 158976 57515\n",
            "159928 variant_ccms_row_57518 158978 57517\n",
            "160538 variant_ccms_row_58128 159588 58127\n",
            "160693 variant_ccms_row_58283 159743 58282\n",
            "163912 variant_ccms_row_61502 162962 61501\n",
            "163936 variant_ccms_row_61526 162986 61525\n",
            "165969 variant_ccms_row_63559 165019 63558\n",
            "166228 variant_ccms_row_63818 165278 63817\n",
            "167929 variant_ccms_row_65519 166979 65518\n",
            "168236 variant_ccms_row_65826 167286 65825\n",
            "170396 variant_ccms_row_67986 169446 67985\n",
            "170533 variant_ccms_row_68123 169583 68122\n",
            "170749 variant_ccms_row_68339 169799 68338\n",
            "171215 variant_ccms_row_68805 170265 68804\n",
            "171986 variant_ccms_row_69576 171036 69575\n",
            "172493 variant_ccms_row_70083 171543 70082\n",
            "172656 variant_ccms_row_70246 171706 70245\n",
            "172662 variant_ccms_row_70252 171712 70251\n",
            "172997 variant_ccms_row_70587 172047 70586\n",
            "173911 variant_ccms_row_71501 172961 71500\n",
            "174330 variant_ccms_row_71920 173380 71919\n",
            "174601 variant_ccms_row_72191 173651 72190\n",
            "174757 variant_ccms_row_72347 173807 72346\n",
            "175927 variant_ccms_row_73517 174977 73516\n",
            "176023 variant_ccms_row_73613 175073 73612\n",
            "176044 variant_ccms_row_73634 175094 73633\n",
            "176100 variant_ccms_row_73690 175150 73689\n",
            "177166 variant_ccms_row_74756 176216 74755\n",
            "177212 variant_ccms_row_74802 176262 74801\n",
            "177235 variant_ccms_row_74825 176285 74824\n",
            "177406 variant_ccms_row_74996 176456 74995\n",
            "182223 variant_ccms_row_79813 181273 79812\n",
            "183609 variant_ccms_row_81199 182659 81198\n",
            "183746 variant_ccms_row_81336 182796 81335\n",
            "187700 variant_ccms_row_85290 186750 85289\n",
            "198698 variant_ccms_row_96288 197748 96287\n",
            "199166 variant_ccms_row_96756 198216 96755\n",
            "200269 variant_ccms_row_97859 199319 97858\n"
          ]
        }
      ]
    },
    {
      "cell_type": "code",
      "source": [
        "prot_df = pd.read_csv(dataset_dir + \"MAESTRO-d6178bdd-identified_variants_merged_protein_regions-main.tsv\", sep=\"\\t\")"
      ],
      "metadata": {
        "id": "suUkTVZcr_xM",
        "colab": {
          "base_uri": "https://localhost:8080/"
        },
        "outputId": "8a13e287-b4a5-469a-f7f5-748579e486b3"
      },
      "execution_count": null,
      "outputs": [
        {
          "output_type": "stream",
          "name": "stderr",
          "text": [
            "/usr/local/lib/python3.7/dist-packages/IPython/core/interactiveshell.py:2882: DtypeWarning: Columns (259) have mixed types.Specify dtype option on import or set low_memory=False.\n",
            "  exec(code_obj, self.user_global_ns, self.user_ns)\n"
          ]
        }
      ]
    },
    {
      "cell_type": "code",
      "source": [
        "prot_df.iloc[prot_idxs, :8]"
      ],
      "metadata": {
        "colab": {
          "base_uri": "https://localhost:8080/",
          "height": 488
        },
        "id": "zSp_ptehUmsy",
        "outputId": "ebe5bb80-982a-4739-fdc7-2490d7e3973e"
      },
      "execution_count": null,
      "outputs": [
        {
          "output_type": "execute_result",
          "data": {
            "text/plain": [
              "       rowid  ccms_row_id   Algorithm      Filename  Cluster_index  \\\n",
              "1713    1714         1714      .MODA.  specs_ms.mgf        1095390   \n",
              "3035    3036         3036      .MODA.  specs_ms.mgf         927303   \n",
              "4400    4401         4401      .MODA.  specs_ms.mgf         539609   \n",
              "5535    5536         5536      .MODA.  specs_ms.mgf        1012798   \n",
              "5607    5608         5608  .MSGFPLUS.  specs_ms.mgf         998701   \n",
              "...      ...          ...         ...           ...            ...   \n",
              "91579  91580        91580  .MSGFPLUS.  specs_ms.mgf         949573   \n",
              "96287  96288        96288      .MODA.  specs_ms.mgf         967464   \n",
              "96755  96756        96756      .MODA.  specs_ms.mgf         815174   \n",
              "97858  97859        97859      .MODA.  specs_ms.mgf         706464   \n",
              "98454  98455        98455      .MODA.  specs_ms.mgf         747950   \n",
              "\n",
              "                                                 Peptide  \\\n",
              "1713       K.[304.207](K,176.118)SASDLTWDNL(K,304.207).G   \n",
              "3035   R.{290.173}[304.207]EGT(C,57.021)PEAPTDE(C,57....   \n",
              "4400             K.{89.979}[304.207]QSFDLSV(K,304.207).A   \n",
              "5535   K.[304.207]ADSVVDLLSYNV(Q,303.212)GSGETTYDH(K,...   \n",
              "5607   K.[304.207]LLLQ(M,15.995)DSSATAYGSTVS(K,304.20...   \n",
              "...                                                  ...   \n",
              "91579  R.[304.207]DETLQDG(C,57.021)DTHF(C,57.021)(K,3...   \n",
              "96287  K.[304.207]LVD(K,304.207)FLED(V,272.169)(K,304...   \n",
              "96755  R.[304.207](Q,-48.618)(K,304.207)LHELQE(K,304....   \n",
              "97858                    K.[304.207]LLDNWDS(V,-36.013).T   \n",
              "98454   R.[304.207]V(K,304.207)DLATVYVDVL(K,270.153)DS.G   \n",
              "\n",
              "             Unmodified_sequence  Charge  \n",
              "1713              .KSASDLTWDNLK.       2  \n",
              "3035          .EGTCPEAPTDECKPVK.       4  \n",
              "4400                  .QSFDLSVK.       3  \n",
              "5535   .ADSVVDLLSYNVQGSGETTYDHK.       4  \n",
              "5607        .LLLQMDSSATAYGSTVSK.       3  \n",
              "...                          ...     ...  \n",
              "91579           .DETLQDGCDTHFCK.       3  \n",
              "96287               .LVDKFLEDVK.       3  \n",
              "96755                .QKLHELQEK.       3  \n",
              "97858                 .LLDNWDSV.       2  \n",
              "98454          .VKDLATVYVDVLKDS.       4  \n",
              "\n",
              "[76 rows x 8 columns]"
            ],
            "text/html": [
              "\n",
              "  <div id=\"df-1a9dd977-6c18-47e4-9430-9482e105e5be\">\n",
              "    <div class=\"colab-df-container\">\n",
              "      <div>\n",
              "<style scoped>\n",
              "    .dataframe tbody tr th:only-of-type {\n",
              "        vertical-align: middle;\n",
              "    }\n",
              "\n",
              "    .dataframe tbody tr th {\n",
              "        vertical-align: top;\n",
              "    }\n",
              "\n",
              "    .dataframe thead th {\n",
              "        text-align: right;\n",
              "    }\n",
              "</style>\n",
              "<table border=\"1\" class=\"dataframe\">\n",
              "  <thead>\n",
              "    <tr style=\"text-align: right;\">\n",
              "      <th></th>\n",
              "      <th>rowid</th>\n",
              "      <th>ccms_row_id</th>\n",
              "      <th>Algorithm</th>\n",
              "      <th>Filename</th>\n",
              "      <th>Cluster_index</th>\n",
              "      <th>Peptide</th>\n",
              "      <th>Unmodified_sequence</th>\n",
              "      <th>Charge</th>\n",
              "    </tr>\n",
              "  </thead>\n",
              "  <tbody>\n",
              "    <tr>\n",
              "      <th>1713</th>\n",
              "      <td>1714</td>\n",
              "      <td>1714</td>\n",
              "      <td>.MODA.</td>\n",
              "      <td>specs_ms.mgf</td>\n",
              "      <td>1095390</td>\n",
              "      <td>K.[304.207](K,176.118)SASDLTWDNL(K,304.207).G</td>\n",
              "      <td>.KSASDLTWDNLK.</td>\n",
              "      <td>2</td>\n",
              "    </tr>\n",
              "    <tr>\n",
              "      <th>3035</th>\n",
              "      <td>3036</td>\n",
              "      <td>3036</td>\n",
              "      <td>.MODA.</td>\n",
              "      <td>specs_ms.mgf</td>\n",
              "      <td>927303</td>\n",
              "      <td>R.{290.173}[304.207]EGT(C,57.021)PEAPTDE(C,57....</td>\n",
              "      <td>.EGTCPEAPTDECKPVK.</td>\n",
              "      <td>4</td>\n",
              "    </tr>\n",
              "    <tr>\n",
              "      <th>4400</th>\n",
              "      <td>4401</td>\n",
              "      <td>4401</td>\n",
              "      <td>.MODA.</td>\n",
              "      <td>specs_ms.mgf</td>\n",
              "      <td>539609</td>\n",
              "      <td>K.{89.979}[304.207]QSFDLSV(K,304.207).A</td>\n",
              "      <td>.QSFDLSVK.</td>\n",
              "      <td>3</td>\n",
              "    </tr>\n",
              "    <tr>\n",
              "      <th>5535</th>\n",
              "      <td>5536</td>\n",
              "      <td>5536</td>\n",
              "      <td>.MODA.</td>\n",
              "      <td>specs_ms.mgf</td>\n",
              "      <td>1012798</td>\n",
              "      <td>K.[304.207]ADSVVDLLSYNV(Q,303.212)GSGETTYDH(K,...</td>\n",
              "      <td>.ADSVVDLLSYNVQGSGETTYDHK.</td>\n",
              "      <td>4</td>\n",
              "    </tr>\n",
              "    <tr>\n",
              "      <th>5607</th>\n",
              "      <td>5608</td>\n",
              "      <td>5608</td>\n",
              "      <td>.MSGFPLUS.</td>\n",
              "      <td>specs_ms.mgf</td>\n",
              "      <td>998701</td>\n",
              "      <td>K.[304.207]LLLQ(M,15.995)DSSATAYGSTVS(K,304.20...</td>\n",
              "      <td>.LLLQMDSSATAYGSTVSK.</td>\n",
              "      <td>3</td>\n",
              "    </tr>\n",
              "    <tr>\n",
              "      <th>...</th>\n",
              "      <td>...</td>\n",
              "      <td>...</td>\n",
              "      <td>...</td>\n",
              "      <td>...</td>\n",
              "      <td>...</td>\n",
              "      <td>...</td>\n",
              "      <td>...</td>\n",
              "      <td>...</td>\n",
              "    </tr>\n",
              "    <tr>\n",
              "      <th>91579</th>\n",
              "      <td>91580</td>\n",
              "      <td>91580</td>\n",
              "      <td>.MSGFPLUS.</td>\n",
              "      <td>specs_ms.mgf</td>\n",
              "      <td>949573</td>\n",
              "      <td>R.[304.207]DETLQDG(C,57.021)DTHF(C,57.021)(K,3...</td>\n",
              "      <td>.DETLQDGCDTHFCK.</td>\n",
              "      <td>3</td>\n",
              "    </tr>\n",
              "    <tr>\n",
              "      <th>96287</th>\n",
              "      <td>96288</td>\n",
              "      <td>96288</td>\n",
              "      <td>.MODA.</td>\n",
              "      <td>specs_ms.mgf</td>\n",
              "      <td>967464</td>\n",
              "      <td>K.[304.207]LVD(K,304.207)FLED(V,272.169)(K,304...</td>\n",
              "      <td>.LVDKFLEDVK.</td>\n",
              "      <td>3</td>\n",
              "    </tr>\n",
              "    <tr>\n",
              "      <th>96755</th>\n",
              "      <td>96756</td>\n",
              "      <td>96756</td>\n",
              "      <td>.MODA.</td>\n",
              "      <td>specs_ms.mgf</td>\n",
              "      <td>815174</td>\n",
              "      <td>R.[304.207](Q,-48.618)(K,304.207)LHELQE(K,304....</td>\n",
              "      <td>.QKLHELQEK.</td>\n",
              "      <td>3</td>\n",
              "    </tr>\n",
              "    <tr>\n",
              "      <th>97858</th>\n",
              "      <td>97859</td>\n",
              "      <td>97859</td>\n",
              "      <td>.MODA.</td>\n",
              "      <td>specs_ms.mgf</td>\n",
              "      <td>706464</td>\n",
              "      <td>K.[304.207]LLDNWDS(V,-36.013).T</td>\n",
              "      <td>.LLDNWDSV.</td>\n",
              "      <td>2</td>\n",
              "    </tr>\n",
              "    <tr>\n",
              "      <th>98454</th>\n",
              "      <td>98455</td>\n",
              "      <td>98455</td>\n",
              "      <td>.MODA.</td>\n",
              "      <td>specs_ms.mgf</td>\n",
              "      <td>747950</td>\n",
              "      <td>R.[304.207]V(K,304.207)DLATVYVDVL(K,270.153)DS.G</td>\n",
              "      <td>.VKDLATVYVDVLKDS.</td>\n",
              "      <td>4</td>\n",
              "    </tr>\n",
              "  </tbody>\n",
              "</table>\n",
              "<p>76 rows × 8 columns</p>\n",
              "</div>\n",
              "      <button class=\"colab-df-convert\" onclick=\"convertToInteractive('df-1a9dd977-6c18-47e4-9430-9482e105e5be')\"\n",
              "              title=\"Convert this dataframe to an interactive table.\"\n",
              "              style=\"display:none;\">\n",
              "        \n",
              "  <svg xmlns=\"http://www.w3.org/2000/svg\" height=\"24px\"viewBox=\"0 0 24 24\"\n",
              "       width=\"24px\">\n",
              "    <path d=\"M0 0h24v24H0V0z\" fill=\"none\"/>\n",
              "    <path d=\"M18.56 5.44l.94 2.06.94-2.06 2.06-.94-2.06-.94-.94-2.06-.94 2.06-2.06.94zm-11 1L8.5 8.5l.94-2.06 2.06-.94-2.06-.94L8.5 2.5l-.94 2.06-2.06.94zm10 10l.94 2.06.94-2.06 2.06-.94-2.06-.94-.94-2.06-.94 2.06-2.06.94z\"/><path d=\"M17.41 7.96l-1.37-1.37c-.4-.4-.92-.59-1.43-.59-.52 0-1.04.2-1.43.59L10.3 9.45l-7.72 7.72c-.78.78-.78 2.05 0 2.83L4 21.41c.39.39.9.59 1.41.59.51 0 1.02-.2 1.41-.59l7.78-7.78 2.81-2.81c.8-.78.8-2.07 0-2.86zM5.41 20L4 18.59l7.72-7.72 1.47 1.35L5.41 20z\"/>\n",
              "  </svg>\n",
              "      </button>\n",
              "      \n",
              "  <style>\n",
              "    .colab-df-container {\n",
              "      display:flex;\n",
              "      flex-wrap:wrap;\n",
              "      gap: 12px;\n",
              "    }\n",
              "\n",
              "    .colab-df-convert {\n",
              "      background-color: #E8F0FE;\n",
              "      border: none;\n",
              "      border-radius: 50%;\n",
              "      cursor: pointer;\n",
              "      display: none;\n",
              "      fill: #1967D2;\n",
              "      height: 32px;\n",
              "      padding: 0 0 0 0;\n",
              "      width: 32px;\n",
              "    }\n",
              "\n",
              "    .colab-df-convert:hover {\n",
              "      background-color: #E2EBFA;\n",
              "      box-shadow: 0px 1px 2px rgba(60, 64, 67, 0.3), 0px 1px 3px 1px rgba(60, 64, 67, 0.15);\n",
              "      fill: #174EA6;\n",
              "    }\n",
              "\n",
              "    [theme=dark] .colab-df-convert {\n",
              "      background-color: #3B4455;\n",
              "      fill: #D2E3FC;\n",
              "    }\n",
              "\n",
              "    [theme=dark] .colab-df-convert:hover {\n",
              "      background-color: #434B5C;\n",
              "      box-shadow: 0px 1px 3px 1px rgba(0, 0, 0, 0.15);\n",
              "      filter: drop-shadow(0px 1px 2px rgba(0, 0, 0, 0.3));\n",
              "      fill: #FFFFFF;\n",
              "    }\n",
              "  </style>\n",
              "\n",
              "      <script>\n",
              "        const buttonEl =\n",
              "          document.querySelector('#df-1a9dd977-6c18-47e4-9430-9482e105e5be button.colab-df-convert');\n",
              "        buttonEl.style.display =\n",
              "          google.colab.kernel.accessAllowed ? 'block' : 'none';\n",
              "\n",
              "        async function convertToInteractive(key) {\n",
              "          const element = document.querySelector('#df-1a9dd977-6c18-47e4-9430-9482e105e5be');\n",
              "          const dataTable =\n",
              "            await google.colab.kernel.invokeFunction('convertToInteractive',\n",
              "                                                     [key], {});\n",
              "          if (!dataTable) return;\n",
              "\n",
              "          const docLinkHtml = 'Like what you see? Visit the ' +\n",
              "            '<a target=\"_blank\" href=https://colab.research.google.com/notebooks/data_table.ipynb>data table notebook</a>'\n",
              "            + ' to learn more about interactive tables.';\n",
              "          element.innerHTML = '';\n",
              "          dataTable['output_type'] = 'display_data';\n",
              "          await google.colab.output.renderOutput(dataTable, element);\n",
              "          const docLink = document.createElement('div');\n",
              "          docLink.innerHTML = docLinkHtml;\n",
              "          element.appendChild(docLink);\n",
              "        }\n",
              "      </script>\n",
              "    </div>\n",
              "  </div>\n",
              "  "
            ]
          },
          "metadata": {},
          "execution_count": 70
        }
      ]
    },
    {
      "cell_type": "code",
      "source": [
        "prot_df.columns[-10:]"
      ],
      "metadata": {
        "colab": {
          "base_uri": "https://localhost:8080/"
        },
        "id": "on-OFQ-FVGNZ",
        "outputId": "3dfe7700-aa23-4489-de48-ad2a6f891910"
      },
      "execution_count": null,
      "outputs": [
        {
          "output_type": "execute_result",
          "data": {
            "text/plain": [
              "Index(['PSP_site_match', 'DrugBank_drugs', 'Parent_mass',\n",
              "       'Num_PSP_Drugbank_events', 'Start_AA_1_based', 'End_AA_1_based',\n",
              "       'Num_spectra_for_cluster', 'Num_spectra_for_unmodified_sequence',\n",
              "       'Num_spectra_for_peptide_variant', 'Internal_ref_orig_intensity'],\n",
              "      dtype='object')"
            ]
          },
          "metadata": {},
          "execution_count": 64
        }
      ]
    },
    {
      "cell_type": "code",
      "source": [
        "prot_df.iloc[prot_idxs, :8].to_csv(dataset_dir + \"selected_peptides.tsv\", sep=\"\\t\")"
      ],
      "metadata": {
        "id": "JKeEz2jUVtn7"
      },
      "execution_count": null,
      "outputs": []
    },
    {
      "cell_type": "code",
      "source": [
        "prot_df.columns[:20]"
      ],
      "metadata": {
        "colab": {
          "base_uri": "https://localhost:8080/"
        },
        "id": "GVn3ybD1ZQQP",
        "outputId": "38133da2-0eef-4d57-df01-c4851a99054d"
      },
      "execution_count": null,
      "outputs": [
        {
          "output_type": "execute_result",
          "data": {
            "text/plain": [
              "Index(['rowid', 'ccms_row_id', 'Algorithm', 'Filename', 'Cluster_index',\n",
              "       'Peptide', 'Unmodified_sequence', 'Charge',\n",
              "       '_dyn_#Intensity_for_cluster',\n",
              "       '_dyn_#Intensity_for_unmodified_sequence',\n",
              "       'Num_G1_spectra_for_unmodified_sequence',\n",
              "       'Num_G2_spectra_for_unmodified_sequence',\n",
              "       'Num_G3_spectra_for_unmodified_sequence',\n",
              "       'Num_G4_spectra_for_unmodified_sequence',\n",
              "       'Num_G5_spectra_for_unmodified_sequence',\n",
              "       'Num_G6_spectra_for_unmodified_sequence',\n",
              "       '_dyn_#Empty.Empty.Empty..Empty.1_intensity_for_unmodified_sequence',\n",
              "       '_dyn_#Healthy.HC1.Healthy..HC1.1_intensity_for_unmodified_sequence',\n",
              "       '_dyn_#Healthy.HC10.Healthy..HC10.1_intensity_for_unmodified_sequence',\n",
              "       '_dyn_#Healthy.HC12.Healthy..HC12.1_intensity_for_unmodified_sequence'],\n",
              "      dtype='object')"
            ]
          },
          "metadata": {},
          "execution_count": 76
        }
      ]
    },
    {
      "cell_type": "code",
      "source": [
        "prot_df.columns[-50:]"
      ],
      "metadata": {
        "colab": {
          "base_uri": "https://localhost:8080/"
        },
        "id": "J5xVcBsXdY5A",
        "outputId": "475c754b-83b3-4341-9e15-a6e678142c78"
      },
      "execution_count": null,
      "outputs": [
        {
          "output_type": "execute_result",
          "data": {
            "text/plain": [
              "Index(['Outlier_default_group_for_unmodified_sequence',\n",
              "       'Outlier_default_group_ratio_for_unmodified_sequence',\n",
              "       'Outlier_default_group_for_peptide_variant',\n",
              "       'Outlier_default_group_ratio_for_peptide_variant',\n",
              "       'Outlier_user_group_for_unmodified_sequence',\n",
              "       'Outlier_user_group_ratio_for_unmodified_sequence',\n",
              "       'Outlier_user_group_for_peptide_variant',\n",
              "       'Outlier_user_group_ratio_for_peptide_variant', 'Spectral_network',\n",
              "       'All_spectral_networks', 'Original_filepath',\n",
              "       'Num_network_neighbors_for_unmodified_sequence',\n",
              "       'Num_network_neighbors_for_peptide_variant',\n",
              "       'Sum_of_peptide_mass_offsets', 'All_peptide_mods',\n",
              "       'Num_G1_spectra_for_cluster', 'Num_G2_spectra_for_cluster',\n",
              "       'Num_G3_spectra_for_cluster', 'Num_G4_spectra_for_cluster',\n",
              "       'Num_G5_spectra_for_cluster', 'Num_G6_spectra_for_cluster', 'Start_AA',\n",
              "       'End_AA', 'Peptide_variant_group', 'Protein_region_indices',\n",
              "       'Protein_region', 'Num_peptide_mods', 'FDR', 'Spec_prob', 'Q_score',\n",
              "       'Parent_mass_for_variant', 'Variant_FDR',\n",
              "       'Num_peptide_variants_for_unmodified_sequence',\n",
              "       'All_cluster_indices_for_variant', 'Cluster_index_with_periods',\n",
              "       'PSP_diseases', 'PSP_regulatory_function',\n",
              "       'PSP_regulatory_interactions', 'PSP_modifications', 'PSP_PTM_variants',\n",
              "       'PSP_site_match', 'DrugBank_drugs', 'Parent_mass',\n",
              "       'Num_PSP_Drugbank_events', 'Start_AA_1_based', 'End_AA_1_based',\n",
              "       'Num_spectra_for_cluster', 'Num_spectra_for_unmodified_sequence',\n",
              "       'Num_spectra_for_peptide_variant', 'Internal_ref_orig_intensity'],\n",
              "      dtype='object')"
            ]
          },
          "metadata": {},
          "execution_count": 79
        }
      ]
    },
    {
      "cell_type": "code",
      "source": [
        ""
      ],
      "metadata": {
        "id": "mpi0z8Itdb8u"
      },
      "execution_count": null,
      "outputs": []
    }
  ]
}