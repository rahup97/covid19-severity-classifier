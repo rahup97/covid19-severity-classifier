{
 "cells": [
  {
   "cell_type": "code",
   "execution_count": 71,
   "metadata": {
    "id": "8noX7ICU8gSc"
   },
   "outputs": [],
   "source": [
    "import numpy as np\n",
    "import pandas as pd\n",
    "import matplotlib.pyplot as plt\n",
    "\n",
    "from datetime import datetime\n",
    "import sys"
   ]
  },
  {
   "cell_type": "code",
   "execution_count": 21,
   "metadata": {},
   "outputs": [],
   "source": [
    "RANDOM_STATE = 42"
   ]
  },
  {
   "cell_type": "code",
   "execution_count": 22,
   "metadata": {
    "id": "K38t0lsI8toC"
   },
   "outputs": [],
   "source": [
    "# dataset_dir = \"/content/drive/MyDrive/ucsd/2022/spring/cse291/COVID19 Sera Data/\"\n",
    "dataset_dir = \"/Users/rahul/Desktop/UCSD/Academics/Q3/291-B/\""
   ]
  },
  {
   "cell_type": "code",
   "execution_count": 23,
   "metadata": {
    "colab": {
     "base_uri": "https://localhost:8080/",
     "height": 317
    },
    "id": "Di6KOvy989Uj",
    "outputId": "6d61f73d-ed31-467e-fa71-7540fcc44d43"
   },
   "outputs": [
    {
     "data": {
      "text/html": [
       "<div>\n",
       "<style scoped>\n",
       "    .dataframe tbody tr th:only-of-type {\n",
       "        vertical-align: middle;\n",
       "    }\n",
       "\n",
       "    .dataframe tbody tr th {\n",
       "        vertical-align: top;\n",
       "    }\n",
       "\n",
       "    .dataframe thead th {\n",
       "        text-align: right;\n",
       "    }\n",
       "</style>\n",
       "<table border=\"1\" class=\"dataframe\">\n",
       "  <thead>\n",
       "    <tr style=\"text-align: right;\">\n",
       "      <th></th>\n",
       "      <th>maestro_column_unmod</th>\n",
       "      <th>maestro_column_variant</th>\n",
       "      <th>patient_id</th>\n",
       "      <th>label</th>\n",
       "      <th>y_covid</th>\n",
       "      <th>y_severe_type</th>\n",
       "      <th>is_train</th>\n",
       "      <th>Patient ID a</th>\n",
       "      <th>Metabolomics ID e</th>\n",
       "      <th>Metabolites</th>\n",
       "      <th>...</th>\n",
       "      <th>variant_ccms_row_101452</th>\n",
       "      <th>variant_ccms_row_101453</th>\n",
       "      <th>variant_ccms_row_101454</th>\n",
       "      <th>variant_ccms_row_101455</th>\n",
       "      <th>variant_ccms_row_101456</th>\n",
       "      <th>variant_ccms_row_101457</th>\n",
       "      <th>variant_ccms_row_101458</th>\n",
       "      <th>variant_ccms_row_101459</th>\n",
       "      <th>variant_ccms_row_101460</th>\n",
       "      <th>variant_ccms_row_101461</th>\n",
       "    </tr>\n",
       "  </thead>\n",
       "  <tbody>\n",
       "    <tr>\n",
       "      <th>0</th>\n",
       "      <td>_dyn_#Healthy.HC1.Healthy..HC1.1_intensity_for...</td>\n",
       "      <td>_dyn_#Healthy.HC1.Healthy..HC1.1_intensity_for...</td>\n",
       "      <td>HC1</td>\n",
       "      <td>Healthy</td>\n",
       "      <td>0</td>\n",
       "      <td>0</td>\n",
       "      <td>1</td>\n",
       "      <td>HC1</td>\n",
       "      <td>jkdz1</td>\n",
       "      <td>jkdz1</td>\n",
       "      <td>...</td>\n",
       "      <td>0.0</td>\n",
       "      <td>1.958825</td>\n",
       "      <td>0.00000</td>\n",
       "      <td>0.000000</td>\n",
       "      <td>1.174198</td>\n",
       "      <td>0.0</td>\n",
       "      <td>0.0</td>\n",
       "      <td>0.0</td>\n",
       "      <td>0.370040</td>\n",
       "      <td>0.0</td>\n",
       "    </tr>\n",
       "    <tr>\n",
       "      <th>1</th>\n",
       "      <td>_dyn_#Healthy.HC10.Healthy..HC10.1_intensity_f...</td>\n",
       "      <td>_dyn_#Healthy.HC10.Healthy..HC10.1_intensity_f...</td>\n",
       "      <td>HC10</td>\n",
       "      <td>Healthy</td>\n",
       "      <td>0</td>\n",
       "      <td>0</td>\n",
       "      <td>0</td>\n",
       "      <td>HC10</td>\n",
       "      <td>jkdz10</td>\n",
       "      <td>jkdz10</td>\n",
       "      <td>...</td>\n",
       "      <td>0.0</td>\n",
       "      <td>2.544654</td>\n",
       "      <td>0.00000</td>\n",
       "      <td>0.000000</td>\n",
       "      <td>0.000000</td>\n",
       "      <td>0.0</td>\n",
       "      <td>0.0</td>\n",
       "      <td>0.0</td>\n",
       "      <td>0.000000</td>\n",
       "      <td>0.0</td>\n",
       "    </tr>\n",
       "    <tr>\n",
       "      <th>2</th>\n",
       "      <td>_dyn_#Healthy.HC12.Healthy..HC12.1_intensity_f...</td>\n",
       "      <td>_dyn_#Healthy.HC12.Healthy..HC12.1_intensity_f...</td>\n",
       "      <td>HC12</td>\n",
       "      <td>Healthy</td>\n",
       "      <td>0</td>\n",
       "      <td>0</td>\n",
       "      <td>0</td>\n",
       "      <td>HC12</td>\n",
       "      <td>jkdz12</td>\n",
       "      <td>jkdz12</td>\n",
       "      <td>...</td>\n",
       "      <td>0.0</td>\n",
       "      <td>0.913199</td>\n",
       "      <td>0.00000</td>\n",
       "      <td>0.000000</td>\n",
       "      <td>0.000000</td>\n",
       "      <td>0.0</td>\n",
       "      <td>0.0</td>\n",
       "      <td>0.0</td>\n",
       "      <td>0.000000</td>\n",
       "      <td>0.0</td>\n",
       "    </tr>\n",
       "    <tr>\n",
       "      <th>3</th>\n",
       "      <td>_dyn_#Healthy.HC13.Healthy..HC13.1_intensity_f...</td>\n",
       "      <td>_dyn_#Healthy.HC13.Healthy..HC13.1_intensity_f...</td>\n",
       "      <td>HC13</td>\n",
       "      <td>Healthy</td>\n",
       "      <td>0</td>\n",
       "      <td>0</td>\n",
       "      <td>1</td>\n",
       "      <td>HC13</td>\n",
       "      <td>jkdz13</td>\n",
       "      <td>jkdz13</td>\n",
       "      <td>...</td>\n",
       "      <td>0.0</td>\n",
       "      <td>1.035449</td>\n",
       "      <td>0.00000</td>\n",
       "      <td>0.000000</td>\n",
       "      <td>0.000000</td>\n",
       "      <td>0.0</td>\n",
       "      <td>0.0</td>\n",
       "      <td>0.0</td>\n",
       "      <td>0.000000</td>\n",
       "      <td>0.0</td>\n",
       "    </tr>\n",
       "    <tr>\n",
       "      <th>4</th>\n",
       "      <td>_dyn_#Healthy.HC17.Healthy..HC17.1_intensity_f...</td>\n",
       "      <td>_dyn_#Healthy.HC17.Healthy..HC17.1_intensity_f...</td>\n",
       "      <td>HC17</td>\n",
       "      <td>Healthy</td>\n",
       "      <td>0</td>\n",
       "      <td>0</td>\n",
       "      <td>1</td>\n",
       "      <td>HC17</td>\n",
       "      <td>jkdz17</td>\n",
       "      <td>jkdz17</td>\n",
       "      <td>...</td>\n",
       "      <td>0.0</td>\n",
       "      <td>0.110892</td>\n",
       "      <td>0.81455</td>\n",
       "      <td>0.863862</td>\n",
       "      <td>0.000000</td>\n",
       "      <td>0.0</td>\n",
       "      <td>0.0</td>\n",
       "      <td>0.0</td>\n",
       "      <td>0.791905</td>\n",
       "      <td>0.0</td>\n",
       "    </tr>\n",
       "  </tbody>\n",
       "</table>\n",
       "<p>5 rows × 203873 columns</p>\n",
       "</div>"
      ],
      "text/plain": [
       "                                maestro_column_unmod  \\\n",
       "0  _dyn_#Healthy.HC1.Healthy..HC1.1_intensity_for...   \n",
       "1  _dyn_#Healthy.HC10.Healthy..HC10.1_intensity_f...   \n",
       "2  _dyn_#Healthy.HC12.Healthy..HC12.1_intensity_f...   \n",
       "3  _dyn_#Healthy.HC13.Healthy..HC13.1_intensity_f...   \n",
       "4  _dyn_#Healthy.HC17.Healthy..HC17.1_intensity_f...   \n",
       "\n",
       "                              maestro_column_variant patient_id    label  \\\n",
       "0  _dyn_#Healthy.HC1.Healthy..HC1.1_intensity_for...        HC1  Healthy   \n",
       "1  _dyn_#Healthy.HC10.Healthy..HC10.1_intensity_f...       HC10  Healthy   \n",
       "2  _dyn_#Healthy.HC12.Healthy..HC12.1_intensity_f...       HC12  Healthy   \n",
       "3  _dyn_#Healthy.HC13.Healthy..HC13.1_intensity_f...       HC13  Healthy   \n",
       "4  _dyn_#Healthy.HC17.Healthy..HC17.1_intensity_f...       HC17  Healthy   \n",
       "\n",
       "   y_covid  y_severe_type  is_train Patient ID a Metabolomics ID e  \\\n",
       "0        0              0         1          HC1             jkdz1   \n",
       "1        0              0         0         HC10            jkdz10   \n",
       "2        0              0         0         HC12            jkdz12   \n",
       "3        0              0         1         HC13            jkdz13   \n",
       "4        0              0         1         HC17            jkdz17   \n",
       "\n",
       "  Metabolites  ...  variant_ccms_row_101452  variant_ccms_row_101453  \\\n",
       "0       jkdz1  ...                      0.0                 1.958825   \n",
       "1      jkdz10  ...                      0.0                 2.544654   \n",
       "2      jkdz12  ...                      0.0                 0.913199   \n",
       "3      jkdz13  ...                      0.0                 1.035449   \n",
       "4      jkdz17  ...                      0.0                 0.110892   \n",
       "\n",
       "   variant_ccms_row_101454  variant_ccms_row_101455  variant_ccms_row_101456  \\\n",
       "0                  0.00000                 0.000000                 1.174198   \n",
       "1                  0.00000                 0.000000                 0.000000   \n",
       "2                  0.00000                 0.000000                 0.000000   \n",
       "3                  0.00000                 0.000000                 0.000000   \n",
       "4                  0.81455                 0.863862                 0.000000   \n",
       "\n",
       "   variant_ccms_row_101457  variant_ccms_row_101458  variant_ccms_row_101459  \\\n",
       "0                      0.0                      0.0                      0.0   \n",
       "1                      0.0                      0.0                      0.0   \n",
       "2                      0.0                      0.0                      0.0   \n",
       "3                      0.0                      0.0                      0.0   \n",
       "4                      0.0                      0.0                      0.0   \n",
       "\n",
       "   variant_ccms_row_101460  variant_ccms_row_101461  \n",
       "0                 0.370040                      0.0  \n",
       "1                 0.000000                      0.0  \n",
       "2                 0.000000                      0.0  \n",
       "3                 0.000000                      0.0  \n",
       "4                 0.791905                      0.0  \n",
       "\n",
       "[5 rows x 203873 columns]"
      ]
     },
     "execution_count": 23,
     "metadata": {},
     "output_type": "execute_result"
    }
   ],
   "source": [
    "dataset_df = pd.read_csv(dataset_dir + \"covid19_sera_merged.csv\")\n",
    "dataset_df.head()"
   ]
  },
  {
   "cell_type": "markdown",
   "metadata": {
    "id": "e2ube77MHIn9"
   },
   "source": [
    "## Split train/validation/test set"
   ]
  },
  {
   "cell_type": "code",
   "execution_count": 15,
   "metadata": {
    "id": "bEyHSdXuHH_S"
   },
   "outputs": [],
   "source": [
    "# from sklearn.model_selection import train_test_split"
   ]
  },
  {
   "cell_type": "code",
   "execution_count": 18,
   "metadata": {
    "id": "Acc5AzGIHakB"
   },
   "outputs": [],
   "source": [
    "# train_df, test_df = train_test_split(dataset_df, test_size=0.2, random_state=RANDOM_STATE)"
   ]
  },
  {
   "cell_type": "code",
   "execution_count": 24,
   "metadata": {
    "id": "yDFzmfHf-71T"
   },
   "outputs": [],
   "source": [
    "train_df = dataset_df.loc[dataset_df[\"is_train\"] == 1, :]\n",
    "test_df = dataset_df.loc[dataset_df[\"is_train\"] == 0, :]"
   ]
  },
  {
   "cell_type": "code",
   "execution_count": 25,
   "metadata": {
    "colab": {
     "base_uri": "https://localhost:8080/"
    },
    "id": "OR-_OBHwIc81",
    "outputId": "f03c1ecd-be1c-4f48-8536-a97cb35eb426"
   },
   "outputs": [
    {
     "name": "stdout",
     "output_type": "stream",
     "text": [
      "(66, 203873)\n",
      "(17, 203873)\n"
     ]
    }
   ],
   "source": [
    "print(train_df.shape)\n",
    "# print(val_df.shape)\n",
    "print(test_df.shape)"
   ]
  },
  {
   "cell_type": "code",
   "execution_count": 47,
   "metadata": {
    "colab": {
     "base_uri": "https://localhost:8080/",
     "height": 545
    },
    "id": "HksIdP7I8v3x",
    "outputId": "65fe1ba8-b999-4eed-adb3-84e0ef2da560"
   },
   "outputs": [
    {
     "data": {
      "image/png": "[encoded data removed]",
      "text/plain": [
       "<Figure size 432x288 with 1 Axes>"
      ]
     },
     "metadata": {
      "needs_background": "light"
     },
     "output_type": "display_data"
    },
    {
     "data": {
      "image/png": "[encoded data removed]",
      "text/plain": [
       "<Figure size 432x288 with 1 Axes>"
      ]
     },
     "metadata": {
      "needs_background": "light"
     },
     "output_type": "display_data"
    }
   ],
   "source": [
    "train_df[[\"y_severe_type\"]].hist()\n",
    "# val_df[[\"y_severe_type\"]].hist()\n",
    "test_df[[\"y_severe_type\"]].hist()\n",
    "plt.show()\n",
    "\n",
    "del train_df\n",
    "del test_df"
   ]
  },
  {
   "cell_type": "markdown",
   "metadata": {},
   "source": [
    "# Imputation"
   ]
  },
  {
   "cell_type": "code",
   "execution_count": 51,
   "metadata": {},
   "outputs": [],
   "source": [
    "features_df = dataset_df.iloc[:, 10:]"
   ]
  },
  {
   "cell_type": "code",
   "execution_count": 74,
   "metadata": {},
   "outputs": [
    {
     "data": {
      "text/html": [
       "<div>\n",
       "<style scoped>\n",
       "    .dataframe tbody tr th:only-of-type {\n",
       "        vertical-align: middle;\n",
       "    }\n",
       "\n",
       "    .dataframe tbody tr th {\n",
       "        vertical-align: top;\n",
       "    }\n",
       "\n",
       "    .dataframe thead th {\n",
       "        text-align: right;\n",
       "    }\n",
       "</style>\n",
       "<table border=\"1\" class=\"dataframe\">\n",
       "  <thead>\n",
       "    <tr style=\"text-align: right;\">\n",
       "      <th></th>\n",
       "      <th>(14 or 15)-methylpalmitate (a17:0 or i17:0)</th>\n",
       "      <th>(16 or 17)-methylstearate (a19:0 or i19:0)</th>\n",
       "      <th>(2 or 3)-decenoate (10:1n7 or n8)</th>\n",
       "      <th>(2,4 or 2,5)-dimethylphenol sulfate</th>\n",
       "      <th>(R)-3-hydroxybutyrylcarnitine</th>\n",
       "      <th>(S)-3-hydroxybutyrylcarnitine</th>\n",
       "      <th>(S)-a-amino-omega-caprolactam</th>\n",
       "      <th>1-(1-enyl-oleoyl)-GPE (P-18:1)*</th>\n",
       "      <th>1-(1-enyl-palmitoyl)-2-arachidonoyl-GPC (P-16:0/20:4)*</th>\n",
       "      <th>1-(1-enyl-palmitoyl)-2-arachidonoyl-GPE (P-16:0/20:4)*</th>\n",
       "      <th>...</th>\n",
       "      <th>variant_ccms_row_101452</th>\n",
       "      <th>variant_ccms_row_101453</th>\n",
       "      <th>variant_ccms_row_101454</th>\n",
       "      <th>variant_ccms_row_101455</th>\n",
       "      <th>variant_ccms_row_101456</th>\n",
       "      <th>variant_ccms_row_101457</th>\n",
       "      <th>variant_ccms_row_101458</th>\n",
       "      <th>variant_ccms_row_101459</th>\n",
       "      <th>variant_ccms_row_101460</th>\n",
       "      <th>variant_ccms_row_101461</th>\n",
       "    </tr>\n",
       "  </thead>\n",
       "  <tbody>\n",
       "    <tr>\n",
       "      <th>0</th>\n",
       "      <td>7439425.0</td>\n",
       "      <td>1.007010e+06</td>\n",
       "      <td>832046.2500</td>\n",
       "      <td>79229.4219</td>\n",
       "      <td>NaN</td>\n",
       "      <td>NaN</td>\n",
       "      <td>NaN</td>\n",
       "      <td>1.986185e+06</td>\n",
       "      <td>44282120.0</td>\n",
       "      <td>21753136.0</td>\n",
       "      <td>...</td>\n",
       "      <td>0.0</td>\n",
       "      <td>1.958825</td>\n",
       "      <td>0.00000</td>\n",
       "      <td>0.000000</td>\n",
       "      <td>1.174198</td>\n",
       "      <td>0.0</td>\n",
       "      <td>0.0</td>\n",
       "      <td>0.0</td>\n",
       "      <td>0.370040</td>\n",
       "      <td>0.0</td>\n",
       "    </tr>\n",
       "    <tr>\n",
       "      <th>1</th>\n",
       "      <td>16636076.0</td>\n",
       "      <td>1.793032e+06</td>\n",
       "      <td>447215.5625</td>\n",
       "      <td>326591.0938</td>\n",
       "      <td>NaN</td>\n",
       "      <td>NaN</td>\n",
       "      <td>757049.2500</td>\n",
       "      <td>1.187651e+06</td>\n",
       "      <td>28710652.0</td>\n",
       "      <td>12963986.0</td>\n",
       "      <td>...</td>\n",
       "      <td>0.0</td>\n",
       "      <td>2.544654</td>\n",
       "      <td>0.00000</td>\n",
       "      <td>0.000000</td>\n",
       "      <td>0.000000</td>\n",
       "      <td>0.0</td>\n",
       "      <td>0.0</td>\n",
       "      <td>0.0</td>\n",
       "      <td>0.000000</td>\n",
       "      <td>0.0</td>\n",
       "    </tr>\n",
       "    <tr>\n",
       "      <th>2</th>\n",
       "      <td>9140857.0</td>\n",
       "      <td>1.179147e+06</td>\n",
       "      <td>443550.2188</td>\n",
       "      <td>198629.5156</td>\n",
       "      <td>NaN</td>\n",
       "      <td>NaN</td>\n",
       "      <td>915471.5000</td>\n",
       "      <td>7.815120e+05</td>\n",
       "      <td>20551872.0</td>\n",
       "      <td>7749758.5</td>\n",
       "      <td>...</td>\n",
       "      <td>0.0</td>\n",
       "      <td>0.913199</td>\n",
       "      <td>0.00000</td>\n",
       "      <td>0.000000</td>\n",
       "      <td>0.000000</td>\n",
       "      <td>0.0</td>\n",
       "      <td>0.0</td>\n",
       "      <td>0.0</td>\n",
       "      <td>0.000000</td>\n",
       "      <td>0.0</td>\n",
       "    </tr>\n",
       "    <tr>\n",
       "      <th>3</th>\n",
       "      <td>7863659.5</td>\n",
       "      <td>1.027411e+06</td>\n",
       "      <td>838084.8125</td>\n",
       "      <td>49912.3047</td>\n",
       "      <td>NaN</td>\n",
       "      <td>NaN</td>\n",
       "      <td>305460.7813</td>\n",
       "      <td>4.798703e+05</td>\n",
       "      <td>17261926.0</td>\n",
       "      <td>6189067.0</td>\n",
       "      <td>...</td>\n",
       "      <td>0.0</td>\n",
       "      <td>1.035449</td>\n",
       "      <td>0.00000</td>\n",
       "      <td>0.000000</td>\n",
       "      <td>0.000000</td>\n",
       "      <td>0.0</td>\n",
       "      <td>0.0</td>\n",
       "      <td>0.0</td>\n",
       "      <td>0.000000</td>\n",
       "      <td>0.0</td>\n",
       "    </tr>\n",
       "    <tr>\n",
       "      <th>4</th>\n",
       "      <td>7996507.5</td>\n",
       "      <td>8.234444e+05</td>\n",
       "      <td>279286.1875</td>\n",
       "      <td>134257.1563</td>\n",
       "      <td>208471.2188</td>\n",
       "      <td>334848.4063</td>\n",
       "      <td>676507.4375</td>\n",
       "      <td>1.719241e+06</td>\n",
       "      <td>24612552.0</td>\n",
       "      <td>12316496.0</td>\n",
       "      <td>...</td>\n",
       "      <td>0.0</td>\n",
       "      <td>0.110892</td>\n",
       "      <td>0.81455</td>\n",
       "      <td>0.863862</td>\n",
       "      <td>0.000000</td>\n",
       "      <td>0.0</td>\n",
       "      <td>0.0</td>\n",
       "      <td>0.0</td>\n",
       "      <td>0.791905</td>\n",
       "      <td>0.0</td>\n",
       "    </tr>\n",
       "  </tbody>\n",
       "</table>\n",
       "<p>5 rows × 203863 columns</p>\n",
       "</div>"
      ],
      "text/plain": [
       "   (14 or 15)-methylpalmitate (a17:0 or i17:0)  \\\n",
       "0                                    7439425.0   \n",
       "1                                   16636076.0   \n",
       "2                                    9140857.0   \n",
       "3                                    7863659.5   \n",
       "4                                    7996507.5   \n",
       "\n",
       "   (16 or 17)-methylstearate (a19:0 or i19:0)  \\\n",
       "0                                1.007010e+06   \n",
       "1                                1.793032e+06   \n",
       "2                                1.179147e+06   \n",
       "3                                1.027411e+06   \n",
       "4                                8.234444e+05   \n",
       "\n",
       "   (2 or 3)-decenoate (10:1n7 or n8)  (2,4 or 2,5)-dimethylphenol sulfate  \\\n",
       "0                        832046.2500                           79229.4219   \n",
       "1                        447215.5625                          326591.0938   \n",
       "2                        443550.2188                          198629.5156   \n",
       "3                        838084.8125                           49912.3047   \n",
       "4                        279286.1875                          134257.1563   \n",
       "\n",
       "   (R)-3-hydroxybutyrylcarnitine  (S)-3-hydroxybutyrylcarnitine  \\\n",
       "0                            NaN                            NaN   \n",
       "1                            NaN                            NaN   \n",
       "2                            NaN                            NaN   \n",
       "3                            NaN                            NaN   \n",
       "4                    208471.2188                    334848.4063   \n",
       "\n",
       "   (S)-a-amino-omega-caprolactam  1-(1-enyl-oleoyl)-GPE (P-18:1)*  \\\n",
       "0                            NaN                     1.986185e+06   \n",
       "1                    757049.2500                     1.187651e+06   \n",
       "2                    915471.5000                     7.815120e+05   \n",
       "3                    305460.7813                     4.798703e+05   \n",
       "4                    676507.4375                     1.719241e+06   \n",
       "\n",
       "   1-(1-enyl-palmitoyl)-2-arachidonoyl-GPC (P-16:0/20:4)*  \\\n",
       "0                                         44282120.0        \n",
       "1                                         28710652.0        \n",
       "2                                         20551872.0        \n",
       "3                                         17261926.0        \n",
       "4                                         24612552.0        \n",
       "\n",
       "   1-(1-enyl-palmitoyl)-2-arachidonoyl-GPE (P-16:0/20:4)*  ...  \\\n",
       "0                                         21753136.0       ...   \n",
       "1                                         12963986.0       ...   \n",
       "2                                          7749758.5       ...   \n",
       "3                                          6189067.0       ...   \n",
       "4                                         12316496.0       ...   \n",
       "\n",
       "   variant_ccms_row_101452  variant_ccms_row_101453  variant_ccms_row_101454  \\\n",
       "0                      0.0                 1.958825                  0.00000   \n",
       "1                      0.0                 2.544654                  0.00000   \n",
       "2                      0.0                 0.913199                  0.00000   \n",
       "3                      0.0                 1.035449                  0.00000   \n",
       "4                      0.0                 0.110892                  0.81455   \n",
       "\n",
       "   variant_ccms_row_101455  variant_ccms_row_101456  variant_ccms_row_101457  \\\n",
       "0                 0.000000                 1.174198                      0.0   \n",
       "1                 0.000000                 0.000000                      0.0   \n",
       "2                 0.000000                 0.000000                      0.0   \n",
       "3                 0.000000                 0.000000                      0.0   \n",
       "4                 0.863862                 0.000000                      0.0   \n",
       "\n",
       "   variant_ccms_row_101458  variant_ccms_row_101459  variant_ccms_row_101460  \\\n",
       "0                      0.0                      0.0                 0.370040   \n",
       "1                      0.0                      0.0                 0.000000   \n",
       "2                      0.0                      0.0                 0.000000   \n",
       "3                      0.0                      0.0                 0.000000   \n",
       "4                      0.0                      0.0                 0.791905   \n",
       "\n",
       "   variant_ccms_row_101461  \n",
       "0                      0.0  \n",
       "1                      0.0  \n",
       "2                      0.0  \n",
       "3                      0.0  \n",
       "4                      0.0  \n",
       "\n",
       "[5 rows x 203863 columns]"
      ]
     },
     "execution_count": 74,
     "metadata": {},
     "output_type": "execute_result"
    }
   ],
   "source": [
    "features_df.head(5)"
   ]
  },
  {
   "cell_type": "code",
   "execution_count": 52,
   "metadata": {},
   "outputs": [
    {
     "data": {
      "text/plain": [
       "'Features containing at least one null value: 1268'"
      ]
     },
     "execution_count": 52,
     "metadata": {},
     "output_type": "execute_result"
    }
   ],
   "source": [
    "f\"Features containing at least one null value: {len(features_df.columns[features_df.isna().any()].tolist())}\""
   ]
  },
  {
   "cell_type": "code",
   "execution_count": 53,
   "metadata": {},
   "outputs": [],
   "source": [
    "missingness = features_df.isnull().mean().round(4).mul(100).sort_values(ascending=False)"
   ]
  },
  {
   "cell_type": "code",
   "execution_count": 54,
   "metadata": {},
   "outputs": [
    {
     "name": "stdout",
     "output_type": "stream",
     "text": [
      "Number of columns with more (or equal to) than 0% missingness: 203863\n",
      "Number of columns with more (or equal to) than 10% missingness: 1054\n",
      "Number of columns with more (or equal to) than 20% missingness: 983\n",
      "Number of columns with more (or equal to) than 30% missingness: 939\n",
      "Number of columns with more (or equal to) than 40% missingness: 886\n",
      "Number of columns with more (or equal to) than 50% missingness: 852\n",
      "Number of columns with more (or equal to) than 60% missingness: 825\n",
      "Number of columns with more (or equal to) than 70% missingness: 791\n",
      "Number of columns with more (or equal to) than 80% missingness: 775\n",
      "Number of columns with more (or equal to) than 90% missingness: 759\n",
      "Number of columns with more (or equal to) than 100% missingness: 734\n"
     ]
    }
   ],
   "source": [
    "for missing_percent in range(0, 110, 10):\n",
    "    print(f\"Number of columns with more (or equal to) than {missing_percent}% missingness: {len(missingness[missingness >= missing_percent])}\")\n",
    "    "
   ]
  },
  {
   "cell_type": "code",
   "execution_count": 88,
   "metadata": {},
   "outputs": [],
   "source": [
    "# Mean imputation\n",
    "from sklearn.impute import SimpleImputer\n",
    "\n",
    "imp_mean = SimpleImputer(strategy='mean')\n",
    "imp_mean.fit(features_df)\n",
    "mean_imputed_df = imp_mean.transform(features_df)"
   ]
  },
  {
   "cell_type": "code",
   "execution_count": 62,
   "metadata": {},
   "outputs": [],
   "source": [
    "np.save(dataset_dir + \"covid19_sera_merged-MEAN.npy\", mean_imputed_df)"
   ]
  },
  {
   "cell_type": "code",
   "execution_count": 89,
   "metadata": {},
   "outputs": [],
   "source": [
    "# Median imputation\n",
    "\n",
    "imp_median = SimpleImputer(strategy='median')\n",
    "imp_median.fit(features_df)\n",
    "median_imputed_df = imp_median.transform(features_df)"
   ]
  },
  {
   "cell_type": "code",
   "execution_count": 63,
   "metadata": {},
   "outputs": [],
   "source": [
    "np.save(dataset_dir + \"covid19_sera_merged-MEDIAN.npy\", median_imputed_df)"
   ]
  },
  {
   "cell_type": "code",
   "execution_count": 90,
   "metadata": {},
   "outputs": [],
   "source": [
    "# Mode imputation\n",
    "\n",
    "imp_mode = SimpleImputer(strategy='most_frequent')\n",
    "imp_mode.fit(features_df)\n",
    "mode_imputed_df = imp_mode.transform(features_df)"
   ]
  },
  {
   "cell_type": "code",
   "execution_count": 66,
   "metadata": {},
   "outputs": [],
   "source": [
    "np.save(dataset_dir + \"covid19_sera_merged-MODE.npy\", mode_imputed_df)"
   ]
  },
  {
   "cell_type": "code",
   "execution_count": 91,
   "metadata": {},
   "outputs": [
    {
     "name": "stdout",
     "output_type": "stream",
     "text": [
      "Time taken: 0:00:24.448637\n"
     ]
    }
   ],
   "source": [
    "# KNN imputation\n",
    "from sklearn.impute import KNNImputer\n",
    "sys.setrecursionlimit(100000)\n",
    "\n",
    "# start the KNN training\n",
    "t1 = datetime.now()\n",
    "imputer = KNNImputer(n_neighbors = 3, weights='distance')\n",
    "imputer.fit(features_df)\n",
    "knn_imputed_df = imputer.transform(features_df)\n",
    "\n",
    "print(f\"Time taken: {datetime.now() - t1}\")"
   ]
  },
  {
   "cell_type": "code",
   "execution_count": 76,
   "metadata": {},
   "outputs": [],
   "source": [
    "np.save(dataset_dir + \"covid19_sera_merged-KNN-3.npy\", knn_imputed_df)"
   ]
  },
  {
   "cell_type": "code",
   "execution_count": null,
   "metadata": {},
   "outputs": [],
   "source": [
    "# To-do: MICE imputation\n",
    "from sklearn.experimental import enable_iterative_imputer\n",
    "from sklearn.impute import IterativeImputer\n",
    "from sklearn.linear_model import LinearRegression\n",
    "\n",
    "t2 = datetime.now()\n",
    "lr = LinearRegression()\n",
    "imp = IterativeImputer(estimator=lr, max_iter=2, verbose=2, imputation_order='roman', random_state=RANDOM_STATE)\n",
    "mice_imputed_df = imp.fit_transform(features_df)\n",
    "print(f\"Time taken: {datetime.now() - t2}\")"
   ]
  },
  {
   "cell_type": "code",
   "execution_count": null,
   "metadata": {},
   "outputs": [],
   "source": [
    "np.save(dataset_dir + \"covid19_sera_merged-MICE.npy\", mice_imputed_df)"
   ]
  },
  {
   "cell_type": "markdown",
   "metadata": {
    "id": "45YeHYFcTTUu"
   },
   "source": [
    "## Random forest and Gradient Boosting experiments"
   ]
  },
  {
   "cell_type": "code",
   "execution_count": 101,
   "metadata": {
    "id": "FmIlXh_LvtkT"
   },
   "outputs": [],
   "source": [
    "from sklearn.ensemble import RandomForestClassifier, GradientBoostingClassifier\n",
    "from lightgbm import LGBMClassifier\n",
    "\n",
    "from sklearn.metrics import accuracy_score, precision_score"
   ]
  },
  {
   "cell_type": "code",
   "execution_count": 118,
   "metadata": {
    "id": "De6puqJUTiKR"
   },
   "outputs": [],
   "source": [
    "def get_variant_features(df):\n",
    "    return df[:, 102402:]\n",
    "\n",
    "def get_unmod_features(df):\n",
    "    return df[:, 941:102402]\n",
    "\n",
    "def get_meta_features(df):\n",
    "    return df[:, :941]\n",
    "\n",
    "def get_all_features(df):\n",
    "    return df.copy()\n",
    "\n",
    "def get_y(df):\n",
    "    return df.iloc[:, :7].copy()\n",
    "\n",
    "def get_y_covid(df):\n",
    "    return df.loc[:, \"y_covid\"]"
   ]
  },
  {
   "cell_type": "code",
   "execution_count": 103,
   "metadata": {},
   "outputs": [],
   "source": [
    "# get idx of train and test splits\n",
    "train_idx = dataset_df.index[dataset_df[\"is_train\"] == 1]\n",
    "test_idx = dataset_df.index[dataset_df[\"is_train\"] == 0]"
   ]
  },
  {
   "cell_type": "code",
   "execution_count": 119,
   "metadata": {
    "id": "We7ZRoWbTiKS"
   },
   "outputs": [],
   "source": [
    "variant_train_mean = get_variant_features(mean_imputed_df[train_idx])\n",
    "variant_test_mean = get_variant_features(mean_imputed_df[test_idx])\n",
    "\n",
    "variant_train_median = get_variant_features(median_imputed_df[train_idx])\n",
    "variant_test_median = get_variant_features(median_imputed_df[test_idx])\n",
    "\n",
    "variant_train_mode = get_variant_features(mode_imputed_df[train_idx])\n",
    "variant_test_mode = get_variant_features(mode_imputed_df[test_idx])\n",
    "\n",
    "variant_train_knn = get_variant_features(knn_imputed_df[train_idx])\n",
    "variant_test_knn = get_variant_features(knn_imputed_df[test_idx])"
   ]
  },
  {
   "cell_type": "code",
   "execution_count": 142,
   "metadata": {},
   "outputs": [],
   "source": [
    "#Compute kendall correlation (between feature and target)\n",
    "def compute_kendall_correlation(np, col_index, target):\n",
    "    val = pd.Series(np[:, col_index]).corr(target, method = 'kendall')\n",
    "    return val"
   ]
  },
  {
   "cell_type": "code",
   "execution_count": 139,
   "metadata": {},
   "outputs": [],
   "source": [
    "#Compute stats corresponding to each column in the dataframe\n",
    "def generate_column_stats_df(dataset_df, labels):\n",
    "    col_stats = dict()\n",
    "    for col_index in range(dataset_df.shape[1]):\n",
    "        col_values = list(dataset_df[:, col_index])\n",
    "        col_stats[col_index] = {'kendall': abs(compute_kendall_correlation(dataset_df, col_index, labels))}\n",
    "    colstatsdf = pd.DataFrame(col_stats).transpose()\n",
    "    return colstatsdf"
   ]
  },
  {
   "cell_type": "code",
   "execution_count": 140,
   "metadata": {},
   "outputs": [],
   "source": [
    "#Filter out columns based on certain metrics\n",
    "def select_feature_columns_ind_metrics(feature_type = 'variant',\n",
    "                                       column_stats = None,\n",
    "                                       missing_ratio_threshold = None,\n",
    "                                       kendall_corr_threshold = None):\n",
    "    if column_stats is None:\n",
    "        return None\n",
    "    \n",
    "    if kendall_corr_threshold:\n",
    "        column_stats = column_stats[column_stats['kendall'] > kendall_corr_threshold]\n",
    "    \n",
    "    selected_indices = list(column_stats.index)\n",
    "    \n",
    "    return selected_indices"
   ]
  },
  {
   "cell_type": "code",
   "execution_count": 143,
   "metadata": {},
   "outputs": [],
   "source": [
    "columnstats_mean = generate_column_stats_df(variant_train_mean, train_labels)\n",
    "columnstats_median = generate_column_stats_df(variant_train_median, train_labels)\n",
    "columnstats_mode = generate_column_stats_df(variant_train_mode, train_labels)\n",
    "columnstats_knn = generate_column_stats_df(variant_train_knn, train_labels)"
   ]
  },
  {
   "cell_type": "code",
   "execution_count": 144,
   "metadata": {},
   "outputs": [],
   "source": [
    "selected_col_indices_mean = select_feature_columns_ind_metrics(feature_type = 'variant',\n",
    "                                                          column_stats = columnstats_mean,\n",
    "                                                          kendall_corr_threshold = 0.1)\n",
    "\n",
    "selected_col_indices_median = select_feature_columns_ind_metrics(feature_type = 'variant',\n",
    "                                                          column_stats = columnstats_median,\n",
    "                                                          kendall_corr_threshold = 0.1)\n",
    "\n",
    "selected_col_indices_mode = select_feature_columns_ind_metrics(feature_type = 'variant',\n",
    "                                                          column_stats = columnstats_mode,\n",
    "                                                          kendall_corr_threshold = 0.1)\n",
    "\n",
    "selected_col_indices_knn = select_feature_columns_ind_metrics(feature_type = 'variant',\n",
    "                                                          column_stats = columnstats_knn,\n",
    "                                                          kendall_corr_threshold = 0.1)"
   ]
  },
  {
   "cell_type": "code",
   "execution_count": 147,
   "metadata": {
    "id": "UwaRLafUXAXk"
   },
   "outputs": [],
   "source": [
    "n_experiments = 10\n",
    "n_estimators = 50\n",
    "\n",
    "train_labels = dataset_df.loc[train_idx, \"y_covid\"]\n",
    "test_labels = dataset_df.loc[test_idx, \"y_covid\"]"
   ]
  },
  {
   "cell_type": "code",
   "execution_count": null,
   "metadata": {
    "colab": {
     "base_uri": "https://localhost:8080/"
    },
    "id": "fkas0kLZXLB6",
    "outputId": "8719ab82-eb5e-4567-eeae-4b3ae5503a0f"
   },
   "outputs": [],
   "source": [
    "mean_models = []\n",
    "\n",
    "mean_accs = []\n",
    "mean_pres = []\n",
    "\n",
    "impute_train = variant_train_mean.iloc[:, selected_col_indices_mean]\n",
    "impute_test = variant_test_mean.iloc[:, selected_col_indices_mean]\n",
    "for i in range(n_experiments):\n",
    "    print(\"[MEAN] Running experiment\", i + 1)\n",
    "    lg_model = LGBMClassifier(n_estimators = n_estimators, random_state = RANDOM_STATE)\n",
    "    \n",
    "    model.fit(impute_train, train_labels)\n",
    "\n",
    "    train_preds = model.predict(variant_train_mean)\n",
    "    test_preds = model.predict(variant_test_mean)\n",
    "\n",
    "    mean_models.append(lg_model)\n",
    "    \n",
    "    mean_accs.append((accuracy_score(train_labels, train_preds),\n",
    "                 accuracy_score(test_labels, test_preds)))\n",
    "    \n",
    "    mean_pres.append((precision_score(train_labels, train_preds),\n",
    "                 precision_score(test_labels, test_preds)))"
   ]
  },
  {
   "cell_type": "code",
   "execution_count": null,
   "metadata": {},
   "outputs": [],
   "source": [
    "median_models = []\n",
    "\n",
    "median_accs = []\n",
    "median_pres = []\n",
    "\n",
    "\n",
    "impute_train = variant_train_median.iloc[:, selected_col_indices_mean]\n",
    "impute_test = variant_test_median.iloc[:, selected_col_indices_mean]\n",
    "for i in range(n_experiments):\n",
    "    print(\"[MEDIAN] Running experiment\", i + 1)\n",
    "    lg_model = LGBMClassifier(n_estimators = n_estimators, random_state = RANDOM_STATE)\n",
    "    \n",
    "    model.fit(impute_train, train_labels)\n",
    "\n",
    "    train_preds = model.predict(impute_train)\n",
    "    test_preds = model.predict(impute_test)\n",
    "\n",
    "    median_models.append(lg_model)\n",
    "    \n",
    "    median_accs.append((accuracy_score(train_labels, train_preds),\n",
    "                 accuracy_score(test_labels, test_preds)))\n",
    "    \n",
    "    median_pres.append((precision_score(train_labels, train_preds),\n",
    "                 precision_score(test_labels, test_preds)))"
   ]
  },
  {
   "cell_type": "code",
   "execution_count": null,
   "metadata": {},
   "outputs": [],
   "source": [
    "mode_models = []\n",
    "\n",
    "mode_accs = []\n",
    "mode_pres = []\n",
    "\n",
    "impute_train = variant_train_mode.iloc[:, selected_col_indices_mean]\n",
    "impute_test = variant_test_mode.iloc[:, selected_col_indices_mean]\n",
    "for i in range(n_experiments):\n",
    "    print(\"[MODE] Running experiment\", i + 1)\n",
    "    lg_model = LGBMClassifier(n_estimators = n_estimators, random_state = RANDOM_STATE)\n",
    "    \n",
    "    model.fit(impute_train, train_labels)\n",
    "\n",
    "    train_preds = model.predict(impute_train)\n",
    "    test_preds = model.predict(impute_test)\n",
    "\n",
    "    mode_models.append(lg_model)\n",
    "    \n",
    "    mode_accs.append((accuracy_score(train_labels, train_preds),\n",
    "                 accuracy_score(test_labels, test_preds)))\n",
    "    \n",
    "    mode_pres.append((precision_score(train_labels, train_preds),\n",
    "                #  precision_score(val_df[\"y_covid\"], val_preds),\n",
    "                 precision_score(test_labels, test_preds)))"
   ]
  },
  {
   "cell_type": "code",
   "execution_count": null,
   "metadata": {},
   "outputs": [],
   "source": [
    "knn_models = []\n",
    "\n",
    "knn_accs = []\n",
    "knn_pres = []\n",
    "\n",
    "impute_train = variant_train_knn.iloc[:, selected_col_indices_mean]\n",
    "impute_test = variant_test_knn.iloc[:, selected_col_indices_mean]\n",
    "for i in range(n_experiments):\n",
    "    print(\"[kNN] Running experiment\", i + 1)\n",
    "    lg_model = LGBMClassifier(n_estimators = n_estimators, random_state = RANDOM_STATE)\n",
    "    \n",
    "    model.fit(impute_train, train_labels)\n",
    "\n",
    "    train_preds = model.predict(impute_train)\n",
    "    test_preds = model.predict(impute_test)\n",
    "\n",
    "    knn_models.append(lg_model)\n",
    "    \n",
    "    knn_accs.append((accuracy_score(train_labels, train_preds),\n",
    "                 accuracy_score(test_labels, test_preds)))\n",
    "    \n",
    "    knn_pres.append((precision_score(train_labels, train_preds),\n",
    "                #  precision_score(val_df[\"y_covid\"], val_preds),\n",
    "                 precision_score(test_labels, test_preds)))"
   ]
  },
  {
   "cell_type": "code",
   "execution_count": null,
   "metadata": {
    "colab": {
     "base_uri": "https://localhost:8080/"
    },
    "id": "xp0wao0JuYOL",
    "outputId": "c439d48f-6ac5-4e7f-aec5-9c73e150538f"
   },
   "outputs": [
    {
     "data": {
      "text/plain": [
       "26"
      ]
     },
     "execution_count": 28,
     "metadata": {},
     "output_type": "execute_result"
    }
   ],
   "source": [
    "sum(models[0][2].feature_importances_ != 0)"
   ]
  },
  {
   "cell_type": "code",
   "execution_count": null,
   "metadata": {
    "colab": {
     "base_uri": "https://localhost:8080/"
    },
    "id": "ZK5k18dHzYim",
    "outputId": "89fb2712-b1ef-4abc-f421-4095e69e4791"
   },
   "outputs": [],
   "source": [
    "idxs = []\n",
    "for i in range(n_experiments):\n",
    "    for j,x in enumerate(models[i][2].feature_importances_):\n",
    "        if x != 0:\n",
    "            idxs.append((j, x))\n",
    "idxs = set(idxs)\n",
    "print(len(idxs))\n",
    "idxs = sorted(idxs, key=lambda x: x[1], reverse=True)\n",
    "idxs"
   ]
  },
  {
   "cell_type": "code",
   "execution_count": null,
   "metadata": {
    "colab": {
     "base_uri": "https://localhost:8080/"
    },
    "id": "G77oYOjX9B5c",
    "outputId": "bbb281b5-6de9-4f12-ee2b-c184a10f3053"
   },
   "outputs": [],
   "source": [
    "idxs = np.array(idxs)\n",
    "idxs"
   ]
  },
  {
   "cell_type": "code",
   "execution_count": null,
   "metadata": {
    "colab": {
     "base_uri": "https://localhost:8080/",
     "height": 575
    },
    "id": "QKa2povG9Ghx",
    "outputId": "82519058-6ab5-47dc-9c2e-b048aaf9688c"
   },
   "outputs": [],
   "source": [
    "important_df = dataset_df[[\"maestro_column_variant\", \"patient_id\", \"y_covid\"] + list(variant_train.columns[idxs[:, 0]])]\n",
    "important_df"
   ]
  },
  {
   "cell_type": "code",
   "execution_count": null,
   "metadata": {
    "id": "NOLJ7olj-EW8"
   },
   "outputs": [],
   "source": [
    "important_df.to_csv(dataset_dir + \"important_variant_peptides.tsv\", sep=\"\\t\", index=False)"
   ]
  }
 ],
 "metadata": {
  "colab": {
   "name": "covid19-sera-rf-experiment.ipynb",
   "provenance": []
  },
  "kernelspec": {
   "display_name": "Python 3 (ipykernel)",
   "language": "python",
   "name": "python3"
  },
  "language_info": {
   "codemirror_mode": {
    "name": "ipython",
    "version": 3
   },
   "file_extension": ".py",
   "mimetype": "text/x-python",
   "name": "python",
   "nbconvert_exporter": "python",
   "pygments_lexer": "ipython3",
   "version": "3.9.12"
  }
 },
 "nbformat": 4,
 "nbformat_minor": 1
}
